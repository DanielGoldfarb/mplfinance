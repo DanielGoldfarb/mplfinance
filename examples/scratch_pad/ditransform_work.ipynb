{
 "cells": [
  {
   "cell_type": "markdown",
   "metadata": {},
   "source": [
    "---\n",
    "\n",
    "#  mplfinance Date iLoc Transform\n",
    "\n",
    "---"
   ]
  },
  {
   "cell_type": "code",
   "execution_count": 1,
   "metadata": {},
   "outputs": [],
   "source": [
    "# This allows multiple outputs from a single jupyter notebook cell:\n",
    "from IPython.core.interactiveshell import InteractiveShell\n",
    "InteractiveShell.ast_node_interactivity = \"all\""
   ]
  },
  {
   "cell_type": "code",
   "execution_count": 2,
   "metadata": {},
   "outputs": [],
   "source": [
    "%matplotlib inline\n",
    "import pandas as pd"
   ]
  },
  {
   "cell_type": "code",
   "execution_count": 3,
   "metadata": {},
   "outputs": [
    {
     "data": {
      "text/plain": [
       "'0.12.7a18'"
      ]
     },
     "execution_count": 3,
     "metadata": {},
     "output_type": "execute_result"
    }
   ],
   "source": [
    "import mplfinance as mpf\n",
    "mpf.__version__"
   ]
  },
  {
   "cell_type": "code",
   "execution_count": 4,
   "metadata": {},
   "outputs": [],
   "source": [
    "import glob"
   ]
  },
  {
   "cell_type": "code",
   "execution_count": 5,
   "metadata": {},
   "outputs": [],
   "source": [
    "df = pd.read_csv('../data/SP500_NOV2019_Hist.csv',index_col=0,parse_dates=True)\n",
    "df = pd.read_csv('../data/yahoofinance-SPY-20200901-20210113.csv',index_col=0,parse_dates=True)"
   ]
  },
  {
   "cell_type": "markdown",
   "metadata": {},
   "source": [
    "### Uses for DateIlocTransform\n",
    "\n",
    "#### aka \"DateIxPos\" or \"DateIPos\" Transform\n",
    "\n",
    "#### All uses are for `show_nontrading=False` only:\n",
    "\n",
    "- `.to_date()` &nbsp; location *to* date: &nbsp; for tick label formatting.\n",
    "- `.to_iloc()` &nbsp; date *to* location: &nbsp; for `xticks` placement.\n",
    "- `.to_iloc()` &nbsp; date *to* location: &nbsp; for `xlim` placement.\n",
    "- `.to_iloc()` &nbsp; date *to* location: &nbsp; for `lines` placement.\n",
    "\n",
    "---\n",
    "\n",
    "- It seems to me that  \n",
    "  - **interpolation** may be better using the actual datetime series (rather than the linear formula), whereas \n",
    "  - **extrapolation** *will require* the linear formula.\n",
    "    - Or for \"known\" cases may be able to use **date calculations**, for example:\n",
    "      - quartile(0.65) == quartile(0.50) == quartile(0.35) == \"known\" frequency.\n",
    "      - intraday with consistent trading hours in data\n",
    "      - daily with weekends missing (maybe someday allow users to supply holidays)\n",
    "      - weekly, monthly, yearly, etc. are simple?\n",
    "  - need to run some tests to see which, if either, is better.\n",
    "- Keep in mind, while testing, that `xlim` values will affect `xticks` placement.\n"
   ]
  },
  {
   "cell_type": "code",
   "execution_count": 6,
   "metadata": {},
   "outputs": [
    {
     "data": {
      "text/plain": [
       "(92, 6)"
      ]
     },
     "execution_count": 6,
     "metadata": {},
     "output_type": "execute_result"
    },
    {
     "data": {
      "text/html": [
       "<div>\n",
       "<style scoped>\n",
       "    .dataframe tbody tr th:only-of-type {\n",
       "        vertical-align: middle;\n",
       "    }\n",
       "\n",
       "    .dataframe tbody tr th {\n",
       "        vertical-align: top;\n",
       "    }\n",
       "\n",
       "    .dataframe thead th {\n",
       "        text-align: right;\n",
       "    }\n",
       "</style>\n",
       "<table border=\"1\" class=\"dataframe\">\n",
       "  <thead>\n",
       "    <tr style=\"text-align: right;\">\n",
       "      <th></th>\n",
       "      <th>Open</th>\n",
       "      <th>High</th>\n",
       "      <th>Low</th>\n",
       "      <th>Close</th>\n",
       "      <th>Adj Close</th>\n",
       "      <th>Volume</th>\n",
       "    </tr>\n",
       "    <tr>\n",
       "      <th>Date</th>\n",
       "      <th></th>\n",
       "      <th></th>\n",
       "      <th></th>\n",
       "      <th></th>\n",
       "      <th></th>\n",
       "      <th></th>\n",
       "    </tr>\n",
       "  </thead>\n",
       "  <tbody>\n",
       "    <tr>\n",
       "      <th>2020-09-01</th>\n",
       "      <td>350.209991</td>\n",
       "      <td>352.709991</td>\n",
       "      <td>349.239990</td>\n",
       "      <td>352.600006</td>\n",
       "      <td>349.703522</td>\n",
       "      <td>54999300</td>\n",
       "    </tr>\n",
       "    <tr>\n",
       "      <th>2020-09-02</th>\n",
       "      <td>354.670013</td>\n",
       "      <td>358.750000</td>\n",
       "      <td>353.429993</td>\n",
       "      <td>357.700012</td>\n",
       "      <td>354.761627</td>\n",
       "      <td>69540000</td>\n",
       "    </tr>\n",
       "    <tr>\n",
       "      <th>2020-09-03</th>\n",
       "      <td>355.869995</td>\n",
       "      <td>356.380005</td>\n",
       "      <td>342.589996</td>\n",
       "      <td>345.390015</td>\n",
       "      <td>342.552765</td>\n",
       "      <td>148011100</td>\n",
       "    </tr>\n",
       "    <tr>\n",
       "      <th>2020-09-04</th>\n",
       "      <td>346.130005</td>\n",
       "      <td>347.829987</td>\n",
       "      <td>334.869995</td>\n",
       "      <td>342.570007</td>\n",
       "      <td>339.755890</td>\n",
       "      <td>139156300</td>\n",
       "    </tr>\n",
       "    <tr>\n",
       "      <th>2020-09-08</th>\n",
       "      <td>336.709991</td>\n",
       "      <td>342.640015</td>\n",
       "      <td>332.880005</td>\n",
       "      <td>333.209991</td>\n",
       "      <td>330.472778</td>\n",
       "      <td>114465300</td>\n",
       "    </tr>\n",
       "  </tbody>\n",
       "</table>\n",
       "</div>"
      ],
      "text/plain": [
       "                  Open        High         Low       Close   Adj Close  \\\n",
       "Date                                                                     \n",
       "2020-09-01  350.209991  352.709991  349.239990  352.600006  349.703522   \n",
       "2020-09-02  354.670013  358.750000  353.429993  357.700012  354.761627   \n",
       "2020-09-03  355.869995  356.380005  342.589996  345.390015  342.552765   \n",
       "2020-09-04  346.130005  347.829987  334.869995  342.570007  339.755890   \n",
       "2020-09-08  336.709991  342.640015  332.880005  333.209991  330.472778   \n",
       "\n",
       "               Volume  \n",
       "Date                   \n",
       "2020-09-01   54999300  \n",
       "2020-09-02   69540000  \n",
       "2020-09-03  148011100  \n",
       "2020-09-04  139156300  \n",
       "2020-09-08  114465300  "
      ]
     },
     "execution_count": 6,
     "metadata": {},
     "output_type": "execute_result"
    },
    {
     "data": {
      "text/html": [
       "<div>\n",
       "<style scoped>\n",
       "    .dataframe tbody tr th:only-of-type {\n",
       "        vertical-align: middle;\n",
       "    }\n",
       "\n",
       "    .dataframe tbody tr th {\n",
       "        vertical-align: top;\n",
       "    }\n",
       "\n",
       "    .dataframe thead th {\n",
       "        text-align: right;\n",
       "    }\n",
       "</style>\n",
       "<table border=\"1\" class=\"dataframe\">\n",
       "  <thead>\n",
       "    <tr style=\"text-align: right;\">\n",
       "      <th></th>\n",
       "      <th>Open</th>\n",
       "      <th>High</th>\n",
       "      <th>Low</th>\n",
       "      <th>Close</th>\n",
       "      <th>Adj Close</th>\n",
       "      <th>Volume</th>\n",
       "    </tr>\n",
       "    <tr>\n",
       "      <th>Date</th>\n",
       "      <th></th>\n",
       "      <th></th>\n",
       "      <th></th>\n",
       "      <th></th>\n",
       "      <th></th>\n",
       "      <th></th>\n",
       "    </tr>\n",
       "  </thead>\n",
       "  <tbody>\n",
       "    <tr>\n",
       "      <th>2021-01-06</th>\n",
       "      <td>369.709991</td>\n",
       "      <td>376.980011</td>\n",
       "      <td>369.119995</td>\n",
       "      <td>373.549988</td>\n",
       "      <td>373.549988</td>\n",
       "      <td>107997700</td>\n",
       "    </tr>\n",
       "    <tr>\n",
       "      <th>2021-01-07</th>\n",
       "      <td>376.100006</td>\n",
       "      <td>379.899994</td>\n",
       "      <td>375.910004</td>\n",
       "      <td>379.100006</td>\n",
       "      <td>379.100006</td>\n",
       "      <td>68766800</td>\n",
       "    </tr>\n",
       "    <tr>\n",
       "      <th>2021-01-08</th>\n",
       "      <td>380.589996</td>\n",
       "      <td>381.489990</td>\n",
       "      <td>377.100006</td>\n",
       "      <td>381.260010</td>\n",
       "      <td>381.260010</td>\n",
       "      <td>71677200</td>\n",
       "    </tr>\n",
       "    <tr>\n",
       "      <th>2021-01-11</th>\n",
       "      <td>377.850006</td>\n",
       "      <td>380.579987</td>\n",
       "      <td>377.720001</td>\n",
       "      <td>378.690002</td>\n",
       "      <td>378.690002</td>\n",
       "      <td>51176700</td>\n",
       "    </tr>\n",
       "    <tr>\n",
       "      <th>2021-01-12</th>\n",
       "      <td>378.890015</td>\n",
       "      <td>379.859985</td>\n",
       "      <td>376.359985</td>\n",
       "      <td>378.769989</td>\n",
       "      <td>378.769989</td>\n",
       "      <td>52445000</td>\n",
       "    </tr>\n",
       "  </tbody>\n",
       "</table>\n",
       "</div>"
      ],
      "text/plain": [
       "                  Open        High         Low       Close   Adj Close  \\\n",
       "Date                                                                     \n",
       "2021-01-06  369.709991  376.980011  369.119995  373.549988  373.549988   \n",
       "2021-01-07  376.100006  379.899994  375.910004  379.100006  379.100006   \n",
       "2021-01-08  380.589996  381.489990  377.100006  381.260010  381.260010   \n",
       "2021-01-11  377.850006  380.579987  377.720001  378.690002  378.690002   \n",
       "2021-01-12  378.890015  379.859985  376.359985  378.769989  378.769989   \n",
       "\n",
       "               Volume  \n",
       "Date                   \n",
       "2021-01-06  107997700  \n",
       "2021-01-07   68766800  \n",
       "2021-01-08   71677200  \n",
       "2021-01-11   51176700  \n",
       "2021-01-12   52445000  "
      ]
     },
     "execution_count": 6,
     "metadata": {},
     "output_type": "execute_result"
    }
   ],
   "source": [
    "df.shape\n",
    "df.head()\n",
    "df.tail()"
   ]
  },
  {
   "cell_type": "code",
   "execution_count": 7,
   "metadata": {},
   "outputs": [
    {
     "data": {
      "text/plain": [
       "pandas.core.indexes.datetimes.DatetimeIndex"
      ]
     },
     "execution_count": 7,
     "metadata": {},
     "output_type": "execute_result"
    },
    {
     "data": {
      "text/plain": [
       "pandas._libs.tslibs.timestamps.Timestamp"
      ]
     },
     "execution_count": 7,
     "metadata": {},
     "output_type": "execute_result"
    },
    {
     "data": {
      "text/plain": [
       "numpy.ndarray"
      ]
     },
     "execution_count": 7,
     "metadata": {},
     "output_type": "execute_result"
    },
    {
     "data": {
      "text/plain": [
       "numpy.datetime64"
      ]
     },
     "execution_count": 7,
     "metadata": {},
     "output_type": "execute_result"
    },
    {
     "data": {
      "text/plain": [
       "True"
      ]
     },
     "execution_count": 7,
     "metadata": {},
     "output_type": "execute_result"
    },
    {
     "name": "stdout",
     "output_type": "stream",
     "text": [
      "2020-09-01 00:00:00\n",
      "2020-09-01T00:00:00.000000000\n"
     ]
    }
   ],
   "source": [
    "s = df.head().index.to_series()\n",
    "type(s.index)\n",
    "type(s.index[0])\n",
    "type(s.values)\n",
    "type(s.values[0])\n",
    "s.index[0] == s.values[0]\n",
    "print(s.index[0])\n",
    "print(s.values[0])"
   ]
  },
  {
   "cell_type": "markdown",
   "metadata": {},
   "source": [
    "### Use Cases\n",
    "- For each use case (data entered) we interpolate a few points, and extrapolate a few points, both datetime -> iloc and iloc -> datetime\n",
    "\n",
    "1. Intraday, part of a day (1 to 4 hours).  Data frequencies: min, 3min, 15min, 30min, hour, 90 min\n",
    "2. Intraday, one full day.  (Data freq: min, 3min, 15min, 30min, hour, 90 min)\n",
    "3. Intraday, 1.5 days. ...\n",
    "4. Intraday, 10 days (skip weekends; weekend=FS and weekend=SS)\n",
    "5. Intraday, 10 days (including weekends; weekend=FS and weekend=SS)\n",
    "6. Daily, 3 days\n",
    "7. Daily, 45 days (skip weekends, 1-day weekends, no weekends, holidays)\n",
    "8. Daily, 125 days (skip weekends, 1-day weekends, no weekends, holidays)\n",
    "9. Weekly ...\n",
    "10. Monthly ...\n",
    "11. Quarterly ...\n",
    "12. Yearly ...\n"
   ]
  },
  {
   "cell_type": "code",
   "execution_count": null,
   "metadata": {},
   "outputs": [],
   "source": []
  },
  {
   "cell_type": "code",
   "execution_count": 8,
   "metadata": {},
   "outputs": [],
   "source": [
    "import ditransform as ditf"
   ]
  },
  {
   "cell_type": "code",
   "execution_count": 9,
   "metadata": {},
   "outputs": [
    {
     "name": "stdout",
     "output_type": "stream",
     "text": [
      "basefreq= 1 days 00:00:00\n",
      "basefreq.days= 1\n",
      "weekmask= [True, True, True, True, True, False, False]\n",
      "\n",
      "vc(value counts)=\n",
      "1 days    71\n",
      "3 days    16\n",
      "4 days     3\n",
      "2 days     1\n",
      "Name: Date, dtype: int64\n",
      "ifreq = None \n",
      "\n",
      "dfreq = B \n",
      "\n",
      "_extrapolation_limits\n",
      "_inferred_frequency\n",
      "_to_date_series\n",
      "_to_iloc_series\n",
      "infer_frequency\n",
      "infer_open_close\n",
      "infer_weekmask\n",
      "time_series_index\n",
      "timedelta_to_freqabbr\n",
      "to_datetime\n",
      "to_iloc\n"
     ]
    }
   ],
   "source": [
    "tf = ditf.DateIlocTransform(df.index)\n",
    "\n",
    "dl = dir(tf)\n",
    "for item in dl:\n",
    "    if item[0:2] != '__':\n",
    "        print(item)"
   ]
  },
  {
   "cell_type": "code",
   "execution_count": 10,
   "metadata": {},
   "outputs": [],
   "source": [
    "files = glob.glob('../data/*.csv')"
   ]
  },
  {
   "cell_type": "code",
   "execution_count": 11,
   "metadata": {},
   "outputs": [
    {
     "data": {
      "text/plain": [
       "['../data/alphavantage_demodata.csv',\n",
       " '../data/yahoofinance-GOOG-20040819-20180120.csv',\n",
       " '../data/SPY_20110701_20120630_Bollinger.csv',\n",
       " '../data/SP500_NOV2019_IDay.csv',\n",
       " '../data/yahoofinance-INTC-19950101-20040412.csv',\n",
       " '../data/SP500_NOV2019_Hist.csv',\n",
       " '../data/yahoofinance-SPY-20200901-20210113.csv',\n",
       " '../data/SP500_20191106_IDayBollinger.csv',\n",
       " '../data/yahoofinance-AAPL-20040819-20180120.csv',\n",
       " '../data/SP500_20191106_IDayBollTweak.csv',\n",
       " '../data/yahoofinance-SPY-20080101-20180101.csv',\n",
       " '../data/SP500_NOV2019_IDayRVol.csv',\n",
       " '../data/jpyusd_barchartdotcom.csv']"
      ]
     },
     "execution_count": 11,
     "metadata": {},
     "output_type": "execute_result"
    }
   ],
   "source": [
    "files"
   ]
  },
  {
   "cell_type": "code",
   "execution_count": 12,
   "metadata": {
    "scrolled": false
   },
   "outputs": [
    {
     "name": "stdout",
     "output_type": "stream",
     "text": [
      "basefreq= 0 days 00:05:00\n",
      "basefreq.days= 0\n",
      "weekmask= [True, True, True, True, True, False, False]\n",
      "Date\n",
      "2022-04-18 04:35:00   2022-04-18 04:35:00\n",
      "2022-04-18 07:05:00   2022-04-18 07:05:00\n",
      "2022-04-18 07:10:00   2022-04-18 07:10:00\n",
      "2022-05-13 17:10:00   2022-05-13 17:10:00\n",
      "2022-05-13 17:25:00   2022-05-13 17:25:00\n",
      "2022-05-13 18:10:00   2022-05-13 18:10:00\n",
      "Name: Date, dtype: datetime64[ns]\n",
      "\n",
      "vc(value counts)=\n",
      "0 days 00:05:00    1928\n",
      "0 days 00:10:00     117\n",
      "0 days 00:15:00      58\n",
      "0 days 00:20:00      37\n",
      "0 days 00:25:00      24\n",
      "0 days 00:30:00      14\n",
      "0 days 00:35:00      11\n",
      "0 days 00:40:00       8\n",
      "0 days 00:55:00       6\n",
      "0 days 00:45:00       6\n",
      "Name: Date, dtype: int64\n",
      "ifreq = 5T \n",
      "\n",
      "dfreq = B \n",
      "\n",
      "=== ../data/alphavantage_demodata.csv ===\n",
      "basefreq= 1 days 00:00:00\n",
      "basefreq.days= 1\n",
      "weekmask= [True, True, True, True, True, False, False]\n",
      "\n",
      "vc(value counts)=\n",
      "1 days    2649\n",
      "3 days     608\n",
      "4 days      90\n",
      "2 days      29\n",
      "5 days       2\n",
      "Name: Date, dtype: int64\n",
      "ifreq = None \n",
      "\n",
      "dfreq = B \n",
      "\n",
      "=== ../data/yahoofinance-GOOG-20040819-20180120.csv ===\n",
      "basefreq= 1 days 00:00:00\n",
      "basefreq.days= 1\n",
      "weekmask= [True, True, True, True, True, False, False]\n",
      "\n",
      "vc(value counts)=\n",
      "1 days    198\n",
      "3 days     44\n",
      "4 days      8\n",
      "2 days      1\n",
      "Name: Date, dtype: int64\n",
      "ifreq = None \n",
      "\n",
      "dfreq = B \n",
      "\n",
      "=== ../data/SPY_20110701_20120630_Bollinger.csv ===\n",
      "basefreq= 0 days 00:01:00\n",
      "basefreq.days= 0\n",
      "weekmask= [False, True, True, True, True, False, False]\n",
      "Date\n",
      "2019-11-05 09:30:00   2019-11-05 09:30:00\n",
      "2019-11-05 09:31:00   2019-11-05 09:31:00\n",
      "2019-11-05 09:32:00   2019-11-05 09:32:00\n",
      "2019-11-08 15:57:00   2019-11-08 15:57:00\n",
      "2019-11-08 15:58:00   2019-11-08 15:58:00\n",
      "2019-11-08 15:59:00   2019-11-08 15:59:00\n",
      "Name: Date, dtype: datetime64[ns]\n",
      "\n",
      "vc(value counts)=\n",
      "0 days 00:01:00    1559\n",
      "0 days 17:30:00       3\n",
      "Name: Date, dtype: int64\n",
      "ifreq = 1T \n",
      "\n",
      "dfreq = B \n",
      "\n",
      "=== ../data/SP500_NOV2019_IDay.csv ===\n",
      "basefreq= 1 days 00:00:00\n",
      "basefreq.days= 1\n",
      "weekmask= [True, True, True, True, True, False, False]\n",
      "\n",
      "vc(value counts)=\n",
      "1 days    1827\n",
      "3 days     427\n",
      "4 days      55\n",
      "2 days      24\n",
      "7 days       1\n",
      "Name: Date, dtype: int64\n",
      "ifreq = None \n",
      "\n",
      "dfreq = B \n",
      "\n",
      "=== ../data/yahoofinance-INTC-19950101-20040412.csv ===\n",
      "basefreq= 1 days 00:00:00\n",
      "basefreq.days= 1\n",
      "weekmask= [True, True, True, True, True, False, False]\n",
      "\n",
      "vc(value counts)=\n",
      "1 days    14\n",
      "3 days     4\n",
      "2 days     1\n",
      "Name: Date, dtype: int64\n",
      "ifreq = None \n",
      "\n",
      "dfreq = B \n",
      "\n",
      "=== ../data/SP500_NOV2019_Hist.csv ===\n",
      "basefreq= 1 days 00:00:00\n",
      "basefreq.days= 1\n",
      "weekmask= [True, True, True, True, True, False, False]\n",
      "\n",
      "vc(value counts)=\n",
      "1 days    71\n",
      "3 days    16\n",
      "4 days     3\n",
      "2 days     1\n",
      "Name: Date, dtype: int64\n",
      "ifreq = None \n",
      "\n",
      "dfreq = B \n",
      "\n",
      "=== ../data/yahoofinance-SPY-20200901-20210113.csv ===\n",
      "basefreq= 0 days 00:01:00\n",
      "basefreq.days= 0\n",
      "weekmask= [False, False, True, False, False, False, False]\n",
      "Date\n",
      "2019-11-06 09:30:00   2019-11-06 09:30:00\n",
      "2019-11-06 09:31:00   2019-11-06 09:31:00\n",
      "2019-11-06 09:32:00   2019-11-06 09:32:00\n",
      "2019-11-06 15:58:00   2019-11-06 15:58:00\n",
      "2019-11-06 15:59:00   2019-11-06 15:59:00\n",
      "2019-11-06 16:00:00   2019-11-06 16:00:00\n",
      "Name: Date, dtype: datetime64[ns]\n",
      "\n",
      "vc(value counts)=\n",
      "0 days 00:01:00    390\n",
      "Name: Date, dtype: int64\n",
      "ifreq = 1T \n",
      "\n",
      "dfreq = B \n",
      "\n",
      "=== ../data/SP500_20191106_IDayBollinger.csv ===\n",
      "basefreq= 1 days 00:00:00\n",
      "basefreq.days= 1\n",
      "weekmask= [True, True, True, True, True, False, False]\n",
      "\n",
      "vc(value counts)=\n",
      "1 days    2649\n",
      "3 days     608\n",
      "4 days      90\n",
      "2 days      29\n",
      "5 days       2\n",
      "Name: Date, dtype: int64\n",
      "ifreq = None \n",
      "\n",
      "dfreq = B \n",
      "\n",
      "=== ../data/yahoofinance-AAPL-20040819-20180120.csv ===\n",
      "basefreq= 0 days 00:01:00\n",
      "basefreq.days= 0\n",
      "weekmask= [False, False, True, False, False, False, False]\n",
      "Date\n",
      "2019-11-06 09:45:00   2019-11-06 09:45:00\n",
      "2019-11-06 09:46:00   2019-11-06 09:46:00\n",
      "2019-11-06 09:47:00   2019-11-06 09:47:00\n",
      "2019-11-06 15:58:00   2019-11-06 15:58:00\n",
      "2019-11-06 15:59:00   2019-11-06 15:59:00\n",
      "2019-11-06 16:00:00   2019-11-06 16:00:00\n",
      "Name: Date, dtype: datetime64[ns]\n",
      "\n",
      "vc(value counts)=\n",
      "0 days 00:01:00    375\n",
      "Name: Date, dtype: int64\n",
      "ifreq = 1T \n",
      "\n",
      "dfreq = B \n",
      "\n",
      "=== ../data/SP500_20191106_IDayBollTweak.csv ===\n",
      "basefreq= 1 days 00:00:00\n",
      "basefreq.days= 1\n",
      "weekmask= [True, True, True, True, True, False, False]\n",
      "\n",
      "vc(value counts)=\n",
      "1 days    1975\n",
      "3 days     453\n",
      "4 days      67\n",
      "2 days      22\n",
      "5 days       1\n",
      "Name: Date, dtype: int64\n",
      "ifreq = None \n",
      "\n",
      "dfreq = B \n",
      "\n",
      "=== ../data/yahoofinance-SPY-20080101-20180101.csv ===\n",
      "basefreq= 0 days 00:01:00\n",
      "basefreq.days= 0\n",
      "weekmask= [False, True, True, True, True, False, False]\n",
      "Date\n",
      "2019-11-05 09:30:00   2019-11-05 09:30:00\n",
      "2019-11-05 09:31:00   2019-11-05 09:31:00\n",
      "2019-11-05 09:32:00   2019-11-05 09:32:00\n",
      "2019-11-08 15:57:00   2019-11-08 15:57:00\n",
      "2019-11-08 15:58:00   2019-11-08 15:58:00\n",
      "2019-11-08 15:59:00   2019-11-08 15:59:00\n",
      "Name: Date, dtype: datetime64[ns]\n",
      "\n",
      "vc(value counts)=\n",
      "0 days 00:01:00    1559\n",
      "0 days 17:30:00       3\n",
      "Name: Date, dtype: int64\n",
      "ifreq = 1T \n",
      "\n",
      "dfreq = B \n",
      "\n",
      "=== ../data/SP500_NOV2019_IDayRVol.csv ===\n",
      "basefreq= 1 days 00:00:00\n",
      "basefreq.days= 1\n",
      "weekmask= [True, True, True, True, True, False, False]\n",
      "\n",
      "vc(value counts)=\n",
      "1 days    410\n",
      "3 days    104\n",
      "2 days      4\n",
      "Name: Time, dtype: int64\n",
      "ifreq = None \n",
      "\n",
      "dfreq = B \n",
      "\n",
      "=== ../data/jpyusd_barchartdotcom.csv ===\n"
     ]
    }
   ],
   "source": [
    "for fn in files:\n",
    "    df = pd.read_csv(fn,index_col=0,parse_dates=True)\n",
    "    tf = ditf.DateIlocTransform(df.index)\n",
    "    \n",
    "    print('===',fn,'===')\n",
    "    #print(tf._inferred_frequency)\n",
    "    #print()"
   ]
  },
  {
   "cell_type": "code",
   "execution_count": 13,
   "metadata": {},
   "outputs": [
    {
     "name": "stdout",
     "output_type": "stream",
     "text": [
      "=== ../data/alphavantage_demodata.csv ===\n",
      "weekmask= [True, True, True, True, True, False, False] True= 5\n",
      "\n",
      "=== ../data/yahoofinance-GOOG-20040819-20180120.csv ===\n",
      "weekmask= [True, True, True, True, True, False, False] True= 5\n",
      "\n",
      "=== ../data/SPY_20110701_20120630_Bollinger.csv ===\n",
      "weekmask= [True, True, True, True, True, False, False] True= 5\n",
      "\n",
      "=== ../data/SP500_NOV2019_IDay.csv ===\n",
      "weekmask= [False, True, True, True, True, False, False] True= 4\n",
      "\n",
      "=== ../data/yahoofinance-INTC-19950101-20040412.csv ===\n",
      "weekmask= [True, True, True, True, True, False, False] True= 5\n",
      "\n",
      "=== ../data/SP500_NOV2019_Hist.csv ===\n",
      "weekmask= [True, True, True, True, True, False, False] True= 5\n",
      "\n",
      "=== ../data/yahoofinance-SPY-20200901-20210113.csv ===\n",
      "weekmask= [True, True, True, True, True, False, False] True= 5\n",
      "\n",
      "=== ../data/SP500_20191106_IDayBollinger.csv ===\n",
      "weekmask= [False, False, True, False, False, False, False] True= 1\n",
      "\n",
      "=== ../data/yahoofinance-AAPL-20040819-20180120.csv ===\n",
      "weekmask= [True, True, True, True, True, False, False] True= 5\n",
      "\n",
      "=== ../data/SP500_20191106_IDayBollTweak.csv ===\n",
      "weekmask= [False, False, True, False, False, False, False] True= 1\n",
      "\n",
      "=== ../data/yahoofinance-SPY-20080101-20180101.csv ===\n",
      "weekmask= [True, True, True, True, True, False, False] True= 5\n",
      "\n",
      "=== ../data/SP500_NOV2019_IDayRVol.csv ===\n",
      "weekmask= [False, True, True, True, True, False, False] True= 4\n",
      "\n",
      "=== ../data/jpyusd_barchartdotcom.csv ===\n",
      "weekmask= [True, True, True, True, True, False, False] True= 5\n",
      "\n"
     ]
    }
   ],
   "source": [
    "for fn in files:\n",
    "    df = pd.read_csv(fn,index_col=0,parse_dates=True)\n",
    "    #tf = ditf.DateIlocTransform(df.index)\n",
    "    wm = ditf.DateIlocTransform.infer_weekmask(df.index)    \n",
    "    print('===',fn,'===')\n",
    "    print('weekmask=',wm, 'True=',wm.count(True))\n",
    "    print()"
   ]
  },
  {
   "cell_type": "code",
   "execution_count": 14,
   "metadata": {},
   "outputs": [
    {
     "ename": "SyntaxError",
     "evalue": "invalid syntax (<ipython-input-14-a6774c8535dd>, line 1)",
     "output_type": "error",
     "traceback": [
      "\u001b[0;36m  File \u001b[0;32m\"<ipython-input-14-a6774c8535dd>\"\u001b[0;36m, line \u001b[0;32m1\u001b[0m\n\u001b[0;31m    STOP HERE\u001b[0m\n\u001b[0m         ^\u001b[0m\n\u001b[0;31mSyntaxError\u001b[0m\u001b[0;31m:\u001b[0m invalid syntax\n"
     ]
    }
   ],
   "source": [
    "STOP HERE"
   ]
  },
  {
   "cell_type": "code",
   "execution_count": 15,
   "metadata": {},
   "outputs": [],
   "source": [
    "import pprint\n",
    "pp = pprint.PrettyPrinter(indent=4)"
   ]
  },
  {
   "cell_type": "code",
   "execution_count": 19,
   "metadata": {},
   "outputs": [],
   "source": [
    "def inspect_transform(fn):\n",
    "    df = pd.read_csv(fn,index_col=0,parse_dates=True)\n",
    "    tf = ditf.DateIlocTransform(df.index)\n",
    "    \n",
    "    print('===',fn,'===')\n",
    "    print('Inspect_transform: Inferred Frequency=')\n",
    "    print(tf._inferred_frequency)\n",
    "    print()\n",
    "    \n",
    "    print('call time_series_index with:')\n",
    "    print('  start=',df.index[0],\n",
    "          '\\n  end=',df.index[-1],\n",
    "          '\\n  freq=',tf._inferred_frequency)\n",
    "    new_dtix = tf.time_series_index(start=df.index[0],\n",
    "                                    end=df.index[-1],\n",
    "                                    freq=tf._inferred_frequency\n",
    "                                   )\n",
    "    print('new_dtix[0]=',new_dtix[0],\n",
    "          '\\nnew_dtix[-1]=',new_dtix[-1],)\n",
    "    orig_dtix = df.index\n",
    "    ldiff = len(orig_dtix) - len(new_dtix)\n",
    "    if ldiff != 0:\n",
    "        print('ldiff=',ldiff,\n",
    "              'len(orig_dtix)=',len(orig_dtix),\n",
    "              'len(new_dtix)=',len(new_dtix)\n",
    "             )\n",
    "        #minix = min(len(orig_dtix),len(new_dtix))\n",
    "        #orig_dtix = orig_dtix[0:minix]\n",
    "        #new_dtix  = new_dtix[0:minix]\n",
    "    if ldiff > 2 or ldiff < -2 or not all(orig_dtix == new_dtix):\n",
    "        #print('orig_dtix=',orig_dtix)\n",
    "        #print(' new_dtix=',new_dtix)\n",
    "        #print('In Orig but not in New :')\n",
    "        orig_not_new = list(set(orig_dtix)-set(new_dtix))\n",
    "        orig_not_new.sort()\n",
    "        #pp.pprint(orig_not_new)\n",
    "        #print('In New  but not in Orig:')\n",
    "        new_not_orig = list(set(new_dtix)-set(orig_dtix))\n",
    "        new_not_orig.sort()\n",
    "        #pp.pprint(new_not_orig)\n",
    "    return orig_dtix,new_dtix,orig_not_new,new_not_orig,tf._inferred_frequency"
   ]
  },
  {
   "cell_type": "code",
   "execution_count": 20,
   "metadata": {
    "scrolled": false
   },
   "outputs": [
    {
     "data": {
      "text/plain": [
       "13"
      ]
     },
     "execution_count": 20,
     "metadata": {},
     "output_type": "execute_result"
    },
    {
     "data": {
      "text/plain": [
       "'../data/yahoofinance-GOOG-20040819-20180120.csv'"
      ]
     },
     "execution_count": 20,
     "metadata": {},
     "output_type": "execute_result"
    }
   ],
   "source": [
    "len(files)\n",
    "files[1]"
   ]
  },
  {
   "cell_type": "code",
   "execution_count": 21,
   "metadata": {
    "scrolled": false
   },
   "outputs": [
    {
     "name": "stdout",
     "output_type": "stream",
     "text": [
      "basefreq= 0 days 00:05:00\n",
      "basefreq.days= 0\n",
      "weekmask= [True, True, True, True, True, False, False]\n",
      "Date\n",
      "2022-04-18 04:35:00   2022-04-18 04:35:00\n",
      "2022-04-18 07:05:00   2022-04-18 07:05:00\n",
      "2022-04-18 07:10:00   2022-04-18 07:10:00\n",
      "2022-05-13 17:10:00   2022-05-13 17:10:00\n",
      "2022-05-13 17:25:00   2022-05-13 17:25:00\n",
      "2022-05-13 18:10:00   2022-05-13 18:10:00\n",
      "Name: Date, dtype: datetime64[ns]\n",
      "\n",
      "vc(value counts)=\n",
      "0 days 00:05:00    1928\n",
      "0 days 00:10:00     117\n",
      "0 days 00:15:00      58\n",
      "0 days 00:20:00      37\n",
      "0 days 00:25:00      24\n",
      "0 days 00:30:00      14\n",
      "0 days 00:35:00      11\n",
      "0 days 00:40:00       8\n",
      "0 days 00:55:00       6\n",
      "0 days 00:45:00       6\n",
      "Name: Date, dtype: int64\n",
      "ifreq = 5T \n",
      "\n",
      "dfreq = B \n",
      "\n",
      "=== ../data/alphavantage_demodata.csv ===\n",
      "Inspect_transform: Inferred Frequency=\n",
      "TimeSeriesFrequency(d='B', i='5T', w='[True, True, True, True, True, False, False]', o='04:05:00', c='20:00:00')\n",
      "\n",
      "call time_series_index with:\n",
      "  start= 2022-04-18 04:35:00 \n",
      "  end= 2022-05-13 18:10:00 \n",
      "  freq= TimeSeriesFrequency(d='B', i='5T', w='[True, True, True, True, True, False, False]', o='04:05:00', c='20:00:00')\n",
      "start= 2022-04-18 04:35:00  end= 2022-05-13 18:10:00\n",
      "bday_freq= B  iday_freq= 5T  weekmask= None\n",
      "open_time= 04:05:00  close_time= 20:00:00\n",
      "new_dtix[0]= 2022-04-18 04:35:00 \n",
      "new_dtix[-1]= 2022-05-13 18:10:00\n",
      "ldiff= -1554 len(orig_dtix)= 2258 len(new_dtix)= 3812\n"
     ]
    }
   ],
   "source": [
    "o,n,onn,nno,f = inspect_transform(files[0])"
   ]
  },
  {
   "cell_type": "code",
   "execution_count": 22,
   "metadata": {
    "scrolled": false
   },
   "outputs": [
    {
     "data": {
      "text/plain": [
       "TimeSeriesFrequency(d='B', i='5T', w='[True, True, True, True, True, False, False]', o='04:05:00', c='20:00:00')"
      ]
     },
     "execution_count": 22,
     "metadata": {},
     "output_type": "execute_result"
    },
    {
     "data": {
      "text/plain": [
       "1554"
      ]
     },
     "execution_count": 22,
     "metadata": {},
     "output_type": "execute_result"
    },
    {
     "data": {
      "text/plain": [
       "0"
      ]
     },
     "execution_count": 22,
     "metadata": {},
     "output_type": "execute_result"
    },
    {
     "data": {
      "text/plain": [
       "2258"
      ]
     },
     "execution_count": 22,
     "metadata": {},
     "output_type": "execute_result"
    },
    {
     "data": {
      "text/plain": [
       "3812"
      ]
     },
     "execution_count": 22,
     "metadata": {},
     "output_type": "execute_result"
    },
    {
     "data": {
      "text/plain": [
       "1554"
      ]
     },
     "execution_count": 22,
     "metadata": {},
     "output_type": "execute_result"
    }
   ],
   "source": [
    "f\n",
    "len(nno)\n",
    "len(onn)\n",
    "len(o)\n",
    "len(n)\n",
    "len(n) - len(o)"
   ]
  },
  {
   "cell_type": "code",
   "execution_count": null,
   "metadata": {},
   "outputs": [],
   "source": []
  },
  {
   "cell_type": "code",
   "execution_count": 26,
   "metadata": {},
   "outputs": [
    {
     "data": {
      "text/plain": [
       "2022-05-02 04:05:00   2022-05-02 04:05:00\n",
       "2022-05-02 04:10:00   2022-05-02 04:10:00\n",
       "2022-05-02 04:15:00   2022-05-02 04:15:00\n",
       "2022-05-02 04:20:00   2022-05-02 04:20:00\n",
       "2022-05-02 04:25:00   2022-05-02 04:25:00\n",
       "                              ...        \n",
       "2022-05-13 17:50:00   2022-05-13 17:50:00\n",
       "2022-05-13 17:55:00   2022-05-13 17:55:00\n",
       "2022-05-13 18:00:00   2022-05-13 18:00:00\n",
       "2022-05-13 18:05:00   2022-05-13 18:05:00\n",
       "2022-05-13 18:10:00   2022-05-13 18:10:00\n",
       "Length: 1898, dtype: datetime64[ns]"
      ]
     },
     "execution_count": 26,
     "metadata": {},
     "output_type": "execute_result"
    }
   ],
   "source": [
    "n.to_series()['2022-05-02':'2022-05-16']"
   ]
  },
  {
   "cell_type": "code",
   "execution_count": 27,
   "metadata": {},
   "outputs": [
    {
     "data": {
      "text/plain": [
       "DatetimeIndex(['2022-04-18 04:35:00', '2022-04-18 04:40:00'], dtype='datetime64[ns]', freq=None)"
      ]
     },
     "execution_count": 27,
     "metadata": {},
     "output_type": "execute_result"
    },
    {
     "data": {
      "text/plain": [
       "DatetimeIndex(['2022-05-13 18:00:00', '2022-05-13 18:05:00'], dtype='datetime64[ns]', freq=None)"
      ]
     },
     "execution_count": 27,
     "metadata": {},
     "output_type": "execute_result"
    }
   ],
   "source": [
    "n[0:2]\n",
    "n[-3:-1]"
   ]
  },
  {
   "cell_type": "code",
   "execution_count": 28,
   "metadata": {
    "scrolled": false
   },
   "outputs": [
    {
     "data": {
      "text/plain": [
       "[datetime.date(2022, 4, 18),\n",
       " datetime.date(2022, 4, 19),\n",
       " datetime.date(2022, 4, 20),\n",
       " datetime.date(2022, 4, 21),\n",
       " datetime.date(2022, 4, 22),\n",
       " datetime.date(2022, 4, 25),\n",
       " datetime.date(2022, 4, 26),\n",
       " datetime.date(2022, 4, 27),\n",
       " datetime.date(2022, 4, 28),\n",
       " datetime.date(2022, 4, 29),\n",
       " datetime.date(2022, 5, 2),\n",
       " datetime.date(2022, 5, 3),\n",
       " datetime.date(2022, 5, 4),\n",
       " datetime.date(2022, 5, 5),\n",
       " datetime.date(2022, 5, 6),\n",
       " datetime.date(2022, 5, 9),\n",
       " datetime.date(2022, 5, 10),\n",
       " datetime.date(2022, 5, 11),\n",
       " datetime.date(2022, 5, 12),\n",
       " datetime.date(2022, 5, 13)]"
      ]
     },
     "execution_count": 28,
     "metadata": {},
     "output_type": "execute_result"
    }
   ],
   "source": [
    "odates = list(set([ts.date() for ts in o]))\n",
    "odates.sort()\n",
    "odates"
   ]
  },
  {
   "cell_type": "code",
   "execution_count": 29,
   "metadata": {},
   "outputs": [
    {
     "data": {
      "text/plain": [
       "Date\n",
       "2022-04-18 04:35:00   2022-04-18 04:35:00\n",
       "2022-04-18 07:05:00   2022-04-18 07:05:00\n",
       "2022-04-18 07:10:00   2022-04-18 07:10:00\n",
       "2022-04-18 08:05:00   2022-04-18 08:05:00\n",
       "2022-04-18 08:40:00   2022-04-18 08:40:00\n",
       "                              ...        \n",
       "2022-05-13 17:00:00   2022-05-13 17:00:00\n",
       "2022-05-13 17:05:00   2022-05-13 17:05:00\n",
       "2022-05-13 17:10:00   2022-05-13 17:10:00\n",
       "2022-05-13 17:25:00   2022-05-13 17:25:00\n",
       "2022-05-13 18:10:00   2022-05-13 18:10:00\n",
       "Name: Date, Length: 2258, dtype: datetime64[ns]"
      ]
     },
     "execution_count": 29,
     "metadata": {},
     "output_type": "execute_result"
    }
   ],
   "source": [
    "os = o.to_series()\n",
    "os"
   ]
  },
  {
   "cell_type": "code",
   "execution_count": 30,
   "metadata": {},
   "outputs": [
    {
     "name": "stdout",
     "output_type": "stream",
     "text": [
      "Date\n",
      "2022-04-18 04:35:00   2022-04-18 04:35:00\n",
      "2022-04-18 07:05:00   2022-04-18 07:05:00\n",
      "2022-04-18 07:10:00   2022-04-18 07:10:00\n",
      "2022-04-18 08:05:00   2022-04-18 08:05:00\n",
      "2022-04-18 08:40:00   2022-04-18 08:40:00\n",
      "                              ...        \n",
      "2022-04-18 19:15:00   2022-04-18 19:15:00\n",
      "2022-04-18 19:20:00   2022-04-18 19:20:00\n",
      "2022-04-18 19:50:00   2022-04-18 19:50:00\n",
      "2022-04-18 19:55:00   2022-04-18 19:55:00\n",
      "2022-04-18 20:00:00   2022-04-18 20:00:00\n",
      "Name: Date, Length: 107, dtype: datetime64[ns]\n"
     ]
    }
   ],
   "source": [
    "jj = 0\n",
    "for d in odates[1:]:\n",
    "    print(os[odates[jj]:d])\n",
    "    break"
   ]
  },
  {
   "cell_type": "code",
   "execution_count": 31,
   "metadata": {},
   "outputs": [
    {
     "data": {
      "text/plain": [
       "Date\n",
       "2022-04-18 04:35:00   2022-04-18 04:35:00\n",
       "2022-04-18 07:05:00   2022-04-18 07:05:00\n",
       "2022-04-18 07:10:00   2022-04-18 07:10:00\n",
       "2022-04-18 08:05:00   2022-04-18 08:05:00\n",
       "2022-04-18 08:40:00   2022-04-18 08:40:00\n",
       "2022-04-18 08:45:00   2022-04-18 08:45:00\n",
       "2022-04-18 09:05:00   2022-04-18 09:05:00\n",
       "2022-04-18 09:25:00   2022-04-18 09:25:00\n",
       "2022-04-18 09:30:00   2022-04-18 09:30:00\n",
       "2022-04-18 09:35:00   2022-04-18 09:35:00\n",
       "2022-04-18 09:40:00   2022-04-18 09:40:00\n",
       "2022-04-18 09:45:00   2022-04-18 09:45:00\n",
       "2022-04-18 09:50:00   2022-04-18 09:50:00\n",
       "2022-04-18 09:55:00   2022-04-18 09:55:00\n",
       "2022-04-18 10:00:00   2022-04-18 10:00:00\n",
       "2022-04-18 10:05:00   2022-04-18 10:05:00\n",
       "Name: Date, dtype: datetime64[ns]"
      ]
     },
     "execution_count": 31,
     "metadata": {},
     "output_type": "execute_result"
    }
   ],
   "source": [
    "os[odates[0]:odates[1]][0:16]"
   ]
  },
  {
   "cell_type": "code",
   "execution_count": 32,
   "metadata": {},
   "outputs": [
    {
     "data": {
      "text/plain": [
       "Date\n",
       "2022-04-18 15:35:00   2022-04-18 15:35:00\n",
       "2022-04-18 15:40:00   2022-04-18 15:40:00\n",
       "2022-04-18 15:45:00   2022-04-18 15:45:00\n",
       "2022-04-18 15:50:00   2022-04-18 15:50:00\n",
       "2022-04-18 15:55:00   2022-04-18 15:55:00\n",
       "2022-04-18 16:00:00   2022-04-18 16:00:00\n",
       "2022-04-18 16:05:00   2022-04-18 16:05:00\n",
       "2022-04-18 16:10:00   2022-04-18 16:10:00\n",
       "2022-04-18 16:15:00   2022-04-18 16:15:00\n",
       "2022-04-18 16:25:00   2022-04-18 16:25:00\n",
       "2022-04-18 16:40:00   2022-04-18 16:40:00\n",
       "2022-04-18 17:35:00   2022-04-18 17:35:00\n",
       "2022-04-18 17:40:00   2022-04-18 17:40:00\n",
       "2022-04-18 17:45:00   2022-04-18 17:45:00\n",
       "2022-04-18 17:50:00   2022-04-18 17:50:00\n",
       "2022-04-18 17:55:00   2022-04-18 17:55:00\n",
       "2022-04-18 18:00:00   2022-04-18 18:00:00\n",
       "2022-04-18 18:05:00   2022-04-18 18:05:00\n",
       "2022-04-18 18:25:00   2022-04-18 18:25:00\n",
       "2022-04-18 18:30:00   2022-04-18 18:30:00\n",
       "2022-04-18 18:55:00   2022-04-18 18:55:00\n",
       "2022-04-18 19:15:00   2022-04-18 19:15:00\n",
       "2022-04-18 19:20:00   2022-04-18 19:20:00\n",
       "2022-04-18 19:50:00   2022-04-18 19:50:00\n",
       "2022-04-18 19:55:00   2022-04-18 19:55:00\n",
       "Name: Date, dtype: datetime64[ns]"
      ]
     },
     "execution_count": 32,
     "metadata": {},
     "output_type": "execute_result"
    }
   ],
   "source": [
    "os[odates[0]:odates[1]][-26:-1]"
   ]
  },
  {
   "cell_type": "code",
   "execution_count": 33,
   "metadata": {},
   "outputs": [
    {
     "data": {
      "text/plain": [
       "array(['NaT',   150,     5, ...,     5,    15,    45],\n",
       "      dtype='timedelta64[ns]')"
      ]
     },
     "execution_count": 33,
     "metadata": {},
     "output_type": "execute_result"
    },
    {
     "data": {
      "text/plain": [
       "<AxesSubplot:xlabel='Date'>"
      ]
     },
     "execution_count": 33,
     "metadata": {},
     "output_type": "execute_result"
    },
    {
     "data": {
      "text/plain": [
       "Date\n",
       "2022-05-13 14:50:00   0 days 00:00:00.000000005\n",
       "2022-05-13 14:55:00   0 days 00:00:00.000000005\n",
       "2022-05-13 15:00:00   0 days 00:00:00.000000005\n",
       "2022-05-13 15:05:00   0 days 00:00:00.000000005\n",
       "2022-05-13 15:10:00   0 days 00:00:00.000000005\n",
       "2022-05-13 15:15:00   0 days 00:00:00.000000005\n",
       "2022-05-13 15:20:00   0 days 00:00:00.000000005\n",
       "2022-05-13 15:25:00   0 days 00:00:00.000000005\n",
       "2022-05-13 15:30:00   0 days 00:00:00.000000005\n",
       "2022-05-13 15:35:00   0 days 00:00:00.000000005\n",
       "2022-05-13 15:40:00   0 days 00:00:00.000000005\n",
       "2022-05-13 15:45:00   0 days 00:00:00.000000005\n",
       "2022-05-13 15:50:00   0 days 00:00:00.000000005\n",
       "2022-05-13 15:55:00   0 days 00:00:00.000000005\n",
       "2022-05-13 16:00:00   0 days 00:00:00.000000005\n",
       "2022-05-13 16:05:00   0 days 00:00:00.000000005\n",
       "2022-05-13 16:10:00   0 days 00:00:00.000000005\n",
       "2022-05-13 16:15:00   0 days 00:00:00.000000005\n",
       "2022-05-13 16:20:00   0 days 00:00:00.000000005\n",
       "2022-05-13 16:30:00   0 days 00:00:00.000000010\n",
       "2022-05-13 16:40:00   0 days 00:00:00.000000010\n",
       "2022-05-13 17:00:00   0 days 00:00:00.000000020\n",
       "2022-05-13 17:05:00   0 days 00:00:00.000000005\n",
       "2022-05-13 17:10:00   0 days 00:00:00.000000005\n",
       "2022-05-13 17:25:00   0 days 00:00:00.000000015\n",
       "dtype: timedelta64[ns]"
      ]
     },
     "execution_count": 33,
     "metadata": {},
     "output_type": "execute_result"
    },
    {
     "data": {
      "image/png": "[encoded data removed]",
      "text/plain": [
       "<Figure size 1152x360 with 1 Axes>"
      ]
     },
     "metadata": {
      "needs_background": "light"
     },
     "output_type": "display_data"
    }
   ],
   "source": [
    "s = os[odates[0]:odates[1]]#[-26:-1]\n",
    "s = os#[odates[0]:odates[1]]#[-26:-1]\n",
    "minutes = s.diff(1).values / 60000000000\n",
    "minutes\n",
    "ms = pd.Series(minutes,index=s.index)\n",
    "ms.plot(figsize=(16,5),ylim=(4.9,5.2))\n",
    "ms[-26:-1]"
   ]
  },
  {
   "cell_type": "code",
   "execution_count": 34,
   "metadata": {},
   "outputs": [
    {
     "data": {
      "text/plain": [
       "Timedelta('0 days 02:30:00')"
      ]
     },
     "execution_count": 34,
     "metadata": {},
     "output_type": "execute_result"
    },
    {
     "data": {
      "text/plain": [
       "Timedelta('0 days 00:05:00')"
      ]
     },
     "execution_count": 34,
     "metadata": {},
     "output_type": "execute_result"
    }
   ],
   "source": [
    "s = os[odates[0]:odates[1]]\n",
    "s.diff(1)[1]\n",
    "pd.Timedelta('5m')"
   ]
  },
  {
   "cell_type": "code",
   "execution_count": 35,
   "metadata": {
    "scrolled": false
   },
   "outputs": [
    {
     "data": {
      "text/plain": [
       "4"
      ]
     },
     "execution_count": 35,
     "metadata": {},
     "output_type": "execute_result"
    },
    {
     "data": {
      "text/plain": [
       "35"
      ]
     },
     "execution_count": 35,
     "metadata": {},
     "output_type": "execute_result"
    },
    {
     "data": {
      "text/plain": [
       "datetime.time(4, 35)"
      ]
     },
     "execution_count": 35,
     "metadata": {},
     "output_type": "execute_result"
    }
   ],
   "source": [
    "t = s[0]\n",
    "\n",
    "t.hour\n",
    "t.minute\n",
    "t.time()\n",
    "\n",
    "#dir(t)"
   ]
  },
  {
   "cell_type": "code",
   "execution_count": 36,
   "metadata": {},
   "outputs": [],
   "source": [
    "diff = s.diff(1)"
   ]
  },
  {
   "cell_type": "code",
   "execution_count": 38,
   "metadata": {},
   "outputs": [
    {
     "data": {
      "text/plain": [
       "Timedelta('0 days 00:05:00')"
      ]
     },
     "execution_count": 38,
     "metadata": {},
     "output_type": "execute_result"
    }
   ],
   "source": [
    "ftd = pd.Timedelta(f.ifreq)\n",
    "ftd"
   ]
  },
  {
   "cell_type": "code",
   "execution_count": 40,
   "metadata": {
    "scrolled": false
   },
   "outputs": [],
   "source": [
    "#for td in diff:\n",
    "#    print(ftd == td)"
   ]
  },
  {
   "cell_type": "code",
   "execution_count": 41,
   "metadata": {},
   "outputs": [],
   "source": [
    "import itertools"
   ]
  },
  {
   "cell_type": "code",
   "execution_count": 57,
   "metadata": {},
   "outputs": [],
   "source": [
    "groups = itertools.groupby(diff.values)"
   ]
  },
  {
   "cell_type": "code",
   "execution_count": 53,
   "metadata": {},
   "outputs": [],
   "source": [
    "gs = [g for g in groups]"
   ]
  },
  {
   "cell_type": "code",
   "execution_count": 73,
   "metadata": {},
   "outputs": [
    {
     "data": {
      "text/plain": [
       "19"
      ]
     },
     "execution_count": 73,
     "metadata": {},
     "output_type": "execute_result"
    },
    {
     "data": {
      "text/plain": [
       "82"
      ]
     },
     "execution_count": 73,
     "metadata": {},
     "output_type": "execute_result"
    }
   ],
   "source": [
    "len(gs)\n",
    "jj = 0\n",
    "maxrun = max([list(group) for _, group in itertools.groupby(diff.values)], key=len)\n",
    "len(maxrun)"
   ]
  },
  {
   "cell_type": "code",
   "execution_count": 55,
   "metadata": {},
   "outputs": [
    {
     "data": {
      "text/plain": [
       "10"
      ]
     },
     "execution_count": 55,
     "metadata": {},
     "output_type": "execute_result"
    }
   ],
   "source": [
    "sg = set(diff.values)\n",
    "len(sg)"
   ]
  },
  {
   "cell_type": "code",
   "execution_count": null,
   "metadata": {},
   "outputs": [],
   "source": []
  },
  {
   "cell_type": "code",
   "execution_count": null,
   "metadata": {},
   "outputs": [],
   "source": []
  },
  {
   "cell_type": "code",
   "execution_count": null,
   "metadata": {},
   "outputs": [],
   "source": []
  },
  {
   "cell_type": "code",
   "execution_count": null,
   "metadata": {},
   "outputs": [],
   "source": [
    "# dates = list(set([ts.date() for ts in o]))\n",
    "# dates.sort()\n",
    "# #dates"
   ]
  },
  {
   "cell_type": "code",
   "execution_count": null,
   "metadata": {},
   "outputs": [],
   "source": [
    "#o.to_series()['2022-05-04':'2022-05-05']"
   ]
  },
  {
   "cell_type": "code",
   "execution_count": null,
   "metadata": {},
   "outputs": [],
   "source": [
    "#n.to_series()['2022-05-04':'2022-05-05']"
   ]
  },
  {
   "cell_type": "code",
   "execution_count": null,
   "metadata": {},
   "outputs": [],
   "source": []
  },
  {
   "cell_type": "code",
   "execution_count": null,
   "metadata": {},
   "outputs": [],
   "source": []
  },
  {
   "cell_type": "code",
   "execution_count": null,
   "metadata": {},
   "outputs": [],
   "source": []
  }
 ],
 "metadata": {
  "kernelspec": {
   "display_name": "Python 3",
   "language": "python",
   "name": "python3"
  },
  "language_info": {
   "codemirror_mode": {
    "name": "ipython",
    "version": 3
   },
   "file_extension": ".py",
   "mimetype": "text/x-python",
   "name": "python",
   "nbconvert_exporter": "python",
   "pygments_lexer": "ipython3",
   "version": "3.8.5"
  }
 },
 "nbformat": 4,
 "nbformat_minor": 2
}
