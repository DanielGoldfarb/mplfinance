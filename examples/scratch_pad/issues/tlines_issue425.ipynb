{
 "cells": [
  {
   "cell_type": "markdown",
   "metadata": {},
   "source": [
    "---\n",
    "\n",
    "#  tlines issue425\n",
    "\n",
    "\n",
    "---"
   ]
  },
  {
   "cell_type": "code",
   "execution_count": 1,
   "metadata": {},
   "outputs": [],
   "source": [
    "# This allows multiple outputs from a single jupyter notebook cell:\n",
    "from IPython.core.interactiveshell import InteractiveShell\n",
    "InteractiveShell.ast_node_interactivity = \"all\""
   ]
  },
  {
   "cell_type": "code",
   "execution_count": 2,
   "metadata": {},
   "outputs": [
    {
     "data": {
      "text/plain": [
       "'0.12.7a18'"
      ]
     },
     "execution_count": 2,
     "metadata": {},
     "output_type": "execute_result"
    }
   ],
   "source": [
    "%matplotlib inline\n",
    "import pandas as pd\n",
    "import mplfinance as mpf\n",
    "mpf.__version__"
   ]
  },
  {
   "cell_type": "code",
   "execution_count": 3,
   "metadata": {},
   "outputs": [],
   "source": [
    "import yfinance as yf"
   ]
  },
  {
   "cell_type": "code",
   "execution_count": 4,
   "metadata": {},
   "outputs": [],
   "source": [
    "tickername = \"AMC\"\n",
    "Ticker = yf.Ticker(tickername)\n",
    "df = Ticker.history(period='1d', interval='1m', start='2021-07-22', end='2021-07-28')"
   ]
  },
  {
   "cell_type": "code",
   "execution_count": 5,
   "metadata": {},
   "outputs": [
    {
     "data": {
      "text/html": [
       "<div>\n",
       "<style scoped>\n",
       "    .dataframe tbody tr th:only-of-type {\n",
       "        vertical-align: middle;\n",
       "    }\n",
       "\n",
       "    .dataframe tbody tr th {\n",
       "        vertical-align: top;\n",
       "    }\n",
       "\n",
       "    .dataframe thead th {\n",
       "        text-align: right;\n",
       "    }\n",
       "</style>\n",
       "<table border=\"1\" class=\"dataframe\">\n",
       "  <thead>\n",
       "    <tr style=\"text-align: right;\">\n",
       "      <th></th>\n",
       "      <th>Open</th>\n",
       "      <th>High</th>\n",
       "      <th>Low</th>\n",
       "      <th>Close</th>\n",
       "      <th>Volume</th>\n",
       "      <th>Dividends</th>\n",
       "      <th>Stock Splits</th>\n",
       "    </tr>\n",
       "    <tr>\n",
       "      <th>Datetime</th>\n",
       "      <th></th>\n",
       "      <th></th>\n",
       "      <th></th>\n",
       "      <th></th>\n",
       "      <th></th>\n",
       "      <th></th>\n",
       "      <th></th>\n",
       "    </tr>\n",
       "  </thead>\n",
       "  <tbody>\n",
       "    <tr>\n",
       "      <th>2021-07-22 09:30:00-04:00</th>\n",
       "      <td>40.160000</td>\n",
       "      <td>40.200001</td>\n",
       "      <td>39.509998</td>\n",
       "      <td>39.730000</td>\n",
       "      <td>2264118</td>\n",
       "      <td>0</td>\n",
       "      <td>0</td>\n",
       "    </tr>\n",
       "    <tr>\n",
       "      <th>2021-07-22 09:31:00-04:00</th>\n",
       "      <td>39.740002</td>\n",
       "      <td>39.749901</td>\n",
       "      <td>39.320000</td>\n",
       "      <td>39.369999</td>\n",
       "      <td>499239</td>\n",
       "      <td>0</td>\n",
       "      <td>0</td>\n",
       "    </tr>\n",
       "    <tr>\n",
       "      <th>2021-07-22 09:32:00-04:00</th>\n",
       "      <td>39.400002</td>\n",
       "      <td>39.889999</td>\n",
       "      <td>39.290001</td>\n",
       "      <td>39.680000</td>\n",
       "      <td>535841</td>\n",
       "      <td>0</td>\n",
       "      <td>0</td>\n",
       "    </tr>\n",
       "    <tr>\n",
       "      <th>2021-07-22 09:33:00-04:00</th>\n",
       "      <td>39.660000</td>\n",
       "      <td>39.770000</td>\n",
       "      <td>39.310299</td>\n",
       "      <td>39.381802</td>\n",
       "      <td>361414</td>\n",
       "      <td>0</td>\n",
       "      <td>0</td>\n",
       "    </tr>\n",
       "    <tr>\n",
       "      <th>2021-07-22 09:34:00-04:00</th>\n",
       "      <td>39.360001</td>\n",
       "      <td>39.599998</td>\n",
       "      <td>39.290001</td>\n",
       "      <td>39.590000</td>\n",
       "      <td>418346</td>\n",
       "      <td>0</td>\n",
       "      <td>0</td>\n",
       "    </tr>\n",
       "    <tr>\n",
       "      <th>...</th>\n",
       "      <td>...</td>\n",
       "      <td>...</td>\n",
       "      <td>...</td>\n",
       "      <td>...</td>\n",
       "      <td>...</td>\n",
       "      <td>...</td>\n",
       "      <td>...</td>\n",
       "    </tr>\n",
       "    <tr>\n",
       "      <th>2021-07-27 15:55:00-04:00</th>\n",
       "      <td>38.103901</td>\n",
       "      <td>38.103901</td>\n",
       "      <td>37.939999</td>\n",
       "      <td>37.950001</td>\n",
       "      <td>185813</td>\n",
       "      <td>0</td>\n",
       "      <td>0</td>\n",
       "    </tr>\n",
       "    <tr>\n",
       "      <th>2021-07-27 15:56:00-04:00</th>\n",
       "      <td>37.956402</td>\n",
       "      <td>37.959999</td>\n",
       "      <td>37.849998</td>\n",
       "      <td>37.950001</td>\n",
       "      <td>196462</td>\n",
       "      <td>0</td>\n",
       "      <td>0</td>\n",
       "    </tr>\n",
       "    <tr>\n",
       "      <th>2021-07-27 15:57:00-04:00</th>\n",
       "      <td>37.950001</td>\n",
       "      <td>38.009998</td>\n",
       "      <td>37.910000</td>\n",
       "      <td>37.990002</td>\n",
       "      <td>101739</td>\n",
       "      <td>0</td>\n",
       "      <td>0</td>\n",
       "    </tr>\n",
       "    <tr>\n",
       "      <th>2021-07-27 15:58:00-04:00</th>\n",
       "      <td>38.000000</td>\n",
       "      <td>38.074200</td>\n",
       "      <td>37.959999</td>\n",
       "      <td>38.041698</td>\n",
       "      <td>163469</td>\n",
       "      <td>0</td>\n",
       "      <td>0</td>\n",
       "    </tr>\n",
       "    <tr>\n",
       "      <th>2021-07-27 15:59:00-04:00</th>\n",
       "      <td>38.040001</td>\n",
       "      <td>38.049999</td>\n",
       "      <td>37.959999</td>\n",
       "      <td>38.009998</td>\n",
       "      <td>198383</td>\n",
       "      <td>0</td>\n",
       "      <td>0</td>\n",
       "    </tr>\n",
       "  </tbody>\n",
       "</table>\n",
       "<p>1559 rows × 7 columns</p>\n",
       "</div>"
      ],
      "text/plain": [
       "                                Open       High        Low      Close  \\\n",
       "Datetime                                                                \n",
       "2021-07-22 09:30:00-04:00  40.160000  40.200001  39.509998  39.730000   \n",
       "2021-07-22 09:31:00-04:00  39.740002  39.749901  39.320000  39.369999   \n",
       "2021-07-22 09:32:00-04:00  39.400002  39.889999  39.290001  39.680000   \n",
       "2021-07-22 09:33:00-04:00  39.660000  39.770000  39.310299  39.381802   \n",
       "2021-07-22 09:34:00-04:00  39.360001  39.599998  39.290001  39.590000   \n",
       "...                              ...        ...        ...        ...   \n",
       "2021-07-27 15:55:00-04:00  38.103901  38.103901  37.939999  37.950001   \n",
       "2021-07-27 15:56:00-04:00  37.956402  37.959999  37.849998  37.950001   \n",
       "2021-07-27 15:57:00-04:00  37.950001  38.009998  37.910000  37.990002   \n",
       "2021-07-27 15:58:00-04:00  38.000000  38.074200  37.959999  38.041698   \n",
       "2021-07-27 15:59:00-04:00  38.040001  38.049999  37.959999  38.009998   \n",
       "\n",
       "                            Volume  Dividends  Stock Splits  \n",
       "Datetime                                                     \n",
       "2021-07-22 09:30:00-04:00  2264118          0             0  \n",
       "2021-07-22 09:31:00-04:00   499239          0             0  \n",
       "2021-07-22 09:32:00-04:00   535841          0             0  \n",
       "2021-07-22 09:33:00-04:00   361414          0             0  \n",
       "2021-07-22 09:34:00-04:00   418346          0             0  \n",
       "...                            ...        ...           ...  \n",
       "2021-07-27 15:55:00-04:00   185813          0             0  \n",
       "2021-07-27 15:56:00-04:00   196462          0             0  \n",
       "2021-07-27 15:57:00-04:00   101739          0             0  \n",
       "2021-07-27 15:58:00-04:00   163469          0             0  \n",
       "2021-07-27 15:59:00-04:00   198383          0             0  \n",
       "\n",
       "[1559 rows x 7 columns]"
      ]
     },
     "execution_count": 5,
     "metadata": {},
     "output_type": "execute_result"
    }
   ],
   "source": [
    "df"
   ]
  },
  {
   "cell_type": "code",
   "execution_count": 5,
   "metadata": {},
   "outputs": [
    {
     "ename": "SyntaxError",
     "evalue": "invalid syntax (<ipython-input-5-a6774c8535dd>, line 1)",
     "output_type": "error",
     "traceback": [
      "\u001b[0;36m  File \u001b[0;32m\"<ipython-input-5-a6774c8535dd>\"\u001b[0;36m, line \u001b[0;32m1\u001b[0m\n\u001b[0;31m    STOP HERE\u001b[0m\n\u001b[0m         ^\u001b[0m\n\u001b[0;31mSyntaxError\u001b[0m\u001b[0;31m:\u001b[0m invalid syntax\n"
     ]
    }
   ],
   "source": [
    "STOP HERE"
   ]
  },
  {
   "cell_type": "code",
   "execution_count": null,
   "metadata": {},
   "outputs": [],
   "source": [
    "df = pd.read_csv('AMC_20210722_20210728.csv',index_col=0,parse_dates=True)\n",
    "\n",
    "df.head()\n",
    "df.tail()\n"
   ]
  },
  {
   "cell_type": "code",
   "execution_count": null,
   "metadata": {},
   "outputs": [],
   "source": [
    "datapairs = [('2021-07-22 09:38:00-04:00', '2021-07-22 09:58:00-04:00'),\n",
    "             ('2021-07-22 09:58:00-04:00', '2021-07-22 10:02:00-04:00'),\n",
    "             ('2021-07-22 10:02:00-04:00', '2021-07-22 10:15:00-04:00'),\n",
    "             ('2021-07-22 10:15:00-04:00', '2021-07-22 10:24:00-04:00'),\n",
    "             ('2021-07-22 10:24:00-04:00', '2021-07-22 10:33:00-04:00'),\n",
    "             ('2021-07-22 10:33:00-04:00', '2021-07-22 10:36:00-04:00'),\n",
    "             ('2021-07-22 10:36:00-04:00', '2021-07-22 11:22:00-04:00')\n",
    "            ]"
   ]
  },
  {
   "cell_type": "code",
   "execution_count": null,
   "metadata": {},
   "outputs": [],
   "source": [
    "# datapairs = [('2021-07-22 09:38:00-00:00', '2021-07-22 09:58:00-00:00'),\n",
    "#              ('2021-07-22 09:58:00-00:00', '2021-07-22 10:02:00-00:00'),\n",
    "#              ('2021-07-22 10:02:00-00:00', '2021-07-22 10:15:00-00:00'),\n",
    "#              ('2021-07-22 10:15:00-00:00', '2021-07-22 10:24:00-00:00'),\n",
    "#              ('2021-07-22 10:24:00-00:00', '2021-07-22 10:33:00-00:00'),\n",
    "#              ('2021-07-22 10:33:00-00:00', '2021-07-22 10:36:00-00:00'),\n",
    "#              ('2021-07-22 10:36:00-00:00', '2021-07-22 11:22:00-00:00')\n",
    "#             ]"
   ]
  },
  {
   "cell_type": "code",
   "execution_count": null,
   "metadata": {},
   "outputs": [],
   "source": [
    "# datapairs = [('2021-07-22 09:38:00', '2021-07-22 09:58:00'),\n",
    "#              ('2021-07-22 09:58:00', '2021-07-22 10:02:00'),\n",
    "#              ('2021-07-22 10:02:00', '2021-07-22 10:15:00'),\n",
    "#              ('2021-07-22 10:15:00', '2021-07-22 10:24:00'),\n",
    "#              ('2021-07-22 10:24:00', '2021-07-22 10:33:00'),\n",
    "#              ('2021-07-22 10:33:00', '2021-07-22 10:36:00'),\n",
    "#              ('2021-07-22 10:36:00', '2021-07-22 11:22:00')\n",
    "#             ]"
   ]
  },
  {
   "cell_type": "code",
   "execution_count": null,
   "metadata": {},
   "outputs": [],
   "source": [
    "mpf.plot(df.iloc[0:150], tz_localize=False, tlines=[dict(tlines=datapairs,tline_use='high',colors='g')],figscale=0.8)"
   ]
  },
  {
   "cell_type": "code",
   "execution_count": null,
   "metadata": {},
   "outputs": [],
   "source": [
    "import itertools\n",
    "dp = list(itertools.chain(*datapairs))\n",
    "dx = pd.DatetimeIndex(dp)\n",
    "it = iter(list(dx))\n",
    "dp2 = [ (d,next(it)) for d in it ]\n",
    "\n",
    "#mpf.plot(df, tz_localize=False, tlines=[dict(tlines=datapairs,tline_use='high',colors='g')])\n",
    "#mpf.plot(df, tz_localize=False, tlines=[dict(tlines=datapairs,tline_use='high',colors='g')])\n",
    "print(dp2)\n",
    "\n",
    "mpf.plot(df, tlines=[dict(tlines=dp2,tline_use='high',colors='g')])"
   ]
  },
  {
   "cell_type": "code",
   "execution_count": null,
   "metadata": {},
   "outputs": [],
   "source": [
    "pd.Timestamp('2021-07-22 09:38:00-04:00')\n",
    "pd.Timestamp('2021-07-22 09:38:00')"
   ]
  },
  {
   "cell_type": "code",
   "execution_count": null,
   "metadata": {},
   "outputs": [],
   "source": [
    "#import matplotlib.dates as mdates\n",
    "df = pd.read_csv('AMC_20210722_20210728.csv',index_col=0,parse_dates=True)"
   ]
  },
  {
   "cell_type": "code",
   "execution_count": null,
   "metadata": {},
   "outputs": [],
   "source": [
    "df.index = pd.DatetimeIndex(df.index.tz_localize(None).to_pydatetime())"
   ]
  },
  {
   "cell_type": "code",
   "execution_count": null,
   "metadata": {},
   "outputs": [],
   "source": [
    "datapairs = [('2021-07-22 09:38:00', '2021-07-22 09:58:00'),\n",
    "             ('2021-07-22 09:58:00', '2021-07-22 10:02:00'),\n",
    "             ('2021-07-22 10:02:00', '2021-07-22 10:15:00'),\n",
    "             ('2021-07-22 10:15:00', '2021-07-22 10:24:00'),\n",
    "             ('2021-07-22 10:24:00', '2021-07-22 10:33:00'),\n",
    "             ('2021-07-22 10:33:00', '2021-07-22 10:36:00'),\n",
    "             ('2021-07-22 10:36:00', '2021-07-22 11:22:00')\n",
    "            ]"
   ]
  },
  {
   "cell_type": "code",
   "execution_count": null,
   "metadata": {},
   "outputs": [],
   "source": [
    "mpf.plot(df.iloc[0:150], tlines=[dict(tlines=datapairs,tline_use='high',colors='g')],figscale=0.8)"
   ]
  },
  {
   "cell_type": "code",
   "execution_count": null,
   "metadata": {},
   "outputs": [],
   "source": []
  }
 ],
 "metadata": {
  "kernelspec": {
   "display_name": "Python 3",
   "language": "python",
   "name": "python3"
  },
  "language_info": {
   "codemirror_mode": {
    "name": "ipython",
    "version": 3
   },
   "file_extension": ".py",
   "mimetype": "text/x-python",
   "name": "python",
   "nbconvert_exporter": "python",
   "pygments_lexer": "ipython3",
   "version": "3.8.5"
  }
 },
 "nbformat": 4,
 "nbformat_minor": 2
}
