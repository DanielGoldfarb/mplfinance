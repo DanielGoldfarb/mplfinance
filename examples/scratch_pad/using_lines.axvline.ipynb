{
 "cells": [
  {
   "cell_type": "markdown",
   "metadata": {},
   "source": [
    "---\n",
    "\n",
    "#  mplfinance: using lines for trends, support, resistance, and trading\n",
    "\n",
    "---"
   ]
  },
  {
   "cell_type": "markdown",
   "metadata": {},
   "source": [
    "### Sometimes it is convenient to draw straight lines ontop of an ohlc or candlestick chart, for example:\n",
    "- Horizontal lines to mark levels of support and resistance\n",
    "- Vertical lines to indicate the start or end of trading sessions, or to indicate the time or date when a trade took place.\n",
    "- Trend lines to highlight a trend in the movement of prices.\n",
    "\n",
    "#### `mpf.plot()` supports the drawing of straight lines on top of an ohlc or candlestick chart using one or more of the following four kwargs:\n",
    "\n",
    "| keyword | argument value | action |\n",
    "|:---|:---|:---|\n",
    "| **`hlines`** | price, or sequence of prices | draw horizontal line(s) at a specified price level(s). |\n",
    "| **`vlines`** | date[time], or sequence of date[time] | draw vertical line(s) at a specified date(s) or time(s). |\n",
    "| **`alines`** | a sequence of two or more date/price pairs, or<br> a sequence of sequences of two or more date/price pairs | draw an arbitrary line by specifying two or more x,y pairs,<br>for example: (dateA,priceA),(dateB,priceB) to draw a line from point (dateA,priceA) to point (dateB,priceB).<br>this may be done for various reasons, including highlighting trends. |\n",
    "| **`tlines`** | a list of one or more pairs of date[time]s | - calculate and draw a trend line between each date[time] in each date[time] pair<br>- value used at each date[time] may be open ,close, high, low,<br>&nbsp;&nbsp;&nbsp;or the average of any combination thereof<br>- trend line calculation method may be:<br>&nbsp;&nbsp;&nbsp;&nbsp;- a simple 'point-to-point' (from value at one date[time] to value at the other date[time]), or<br>  &nbsp;&nbsp;&nbsp;&nbsp;- linear 'least-squares' fit of all values from one date[time] through and including the other date[time]. |\n",
    "\n",
    "---\n",
    "In every case, the kwarg argument value may be either as specified in the above table<br>**OR the argument may be a dict** containing the above mentioned keyword and argument as specified above,<br> **plus** any or all of the following keywords to modify the line(s) being drawn:\n",
    "\n",
    "- `colors`\n",
    "- `linestyle`\n",
    "- `linewidths`\n",
    "- `alpha`\n",
    "\n",
    "For example, both of the following are valid specifications for `hlines`:\n",
    "- `hlines=(123.0,128.0)`\n",
    "- `hlines=dict( hlines=(123.0,128.0),colors=['r','g','b'],linestyle='dotted',linewidths=(3,4) )`\n",
    "\n",
    "---\n",
    "\n",
    "### See below for specific example usage of each of the kwargs:<br>&nbsp;&nbsp;`hlines`, `vlines`, `alines`, and `tlines`"
   ]
  },
  {
   "cell_type": "code",
   "execution_count": 1,
   "metadata": {},
   "outputs": [],
   "source": [
    "# This allows multiple outputs from a single jupyter notebook cell:\n",
    "from IPython.core.interactiveshell import InteractiveShell\n",
    "InteractiveShell.ast_node_interactivity = \"all\""
   ]
  },
  {
   "cell_type": "code",
   "execution_count": 2,
   "metadata": {},
   "outputs": [],
   "source": [
    "%matplotlib inline\n",
    "import pandas as pd"
   ]
  },
  {
   "cell_type": "markdown",
   "metadata": {},
   "source": [
    "### Read in daily data for the S&P 500 from November of 2019 "
   ]
  },
  {
   "cell_type": "code",
   "execution_count": 3,
   "metadata": {},
   "outputs": [
    {
     "data": {
      "text/plain": [
       "(20, 5)"
      ]
     },
     "execution_count": 3,
     "metadata": {},
     "output_type": "execute_result"
    },
    {
     "data": {
      "text/html": [
       "<div>\n",
       "<style scoped>\n",
       "    .dataframe tbody tr th:only-of-type {\n",
       "        vertical-align: middle;\n",
       "    }\n",
       "\n",
       "    .dataframe tbody tr th {\n",
       "        vertical-align: top;\n",
       "    }\n",
       "\n",
       "    .dataframe thead th {\n",
       "        text-align: right;\n",
       "    }\n",
       "</style>\n",
       "<table border=\"1\" class=\"dataframe\">\n",
       "  <thead>\n",
       "    <tr style=\"text-align: right;\">\n",
       "      <th></th>\n",
       "      <th>Open</th>\n",
       "      <th>High</th>\n",
       "      <th>Low</th>\n",
       "      <th>Close</th>\n",
       "      <th>Volume</th>\n",
       "    </tr>\n",
       "    <tr>\n",
       "      <th>Date</th>\n",
       "      <th></th>\n",
       "      <th></th>\n",
       "      <th></th>\n",
       "      <th></th>\n",
       "      <th></th>\n",
       "    </tr>\n",
       "  </thead>\n",
       "  <tbody>\n",
       "    <tr>\n",
       "      <th>2019-11-01</th>\n",
       "      <td>3050.72</td>\n",
       "      <td>3066.95</td>\n",
       "      <td>3050.72</td>\n",
       "      <td>3066.91</td>\n",
       "      <td>510301237</td>\n",
       "    </tr>\n",
       "    <tr>\n",
       "      <th>2019-11-04</th>\n",
       "      <td>3078.96</td>\n",
       "      <td>3085.20</td>\n",
       "      <td>3074.87</td>\n",
       "      <td>3078.27</td>\n",
       "      <td>524848878</td>\n",
       "    </tr>\n",
       "  </tbody>\n",
       "</table>\n",
       "</div>"
      ],
      "text/plain": [
       "               Open     High      Low    Close     Volume\n",
       "Date                                                     \n",
       "2019-11-01  3050.72  3066.95  3050.72  3066.91  510301237\n",
       "2019-11-04  3078.96  3085.20  3074.87  3078.27  524848878"
      ]
     },
     "execution_count": 3,
     "metadata": {},
     "output_type": "execute_result"
    },
    {
     "data": {
      "text/html": [
       "<div>\n",
       "<style scoped>\n",
       "    .dataframe tbody tr th:only-of-type {\n",
       "        vertical-align: middle;\n",
       "    }\n",
       "\n",
       "    .dataframe tbody tr th {\n",
       "        vertical-align: top;\n",
       "    }\n",
       "\n",
       "    .dataframe thead th {\n",
       "        text-align: right;\n",
       "    }\n",
       "</style>\n",
       "<table border=\"1\" class=\"dataframe\">\n",
       "  <thead>\n",
       "    <tr style=\"text-align: right;\">\n",
       "      <th></th>\n",
       "      <th>Open</th>\n",
       "      <th>High</th>\n",
       "      <th>Low</th>\n",
       "      <th>Close</th>\n",
       "      <th>Volume</th>\n",
       "    </tr>\n",
       "    <tr>\n",
       "      <th>Date</th>\n",
       "      <th></th>\n",
       "      <th></th>\n",
       "      <th></th>\n",
       "      <th></th>\n",
       "      <th></th>\n",
       "    </tr>\n",
       "  </thead>\n",
       "  <tbody>\n",
       "    <tr>\n",
       "      <th>2019-11-27</th>\n",
       "      <td>3145.49</td>\n",
       "      <td>3154.26</td>\n",
       "      <td>3143.41</td>\n",
       "      <td>3153.63</td>\n",
       "      <td>421853938</td>\n",
       "    </tr>\n",
       "    <tr>\n",
       "      <th>2019-11-29</th>\n",
       "      <td>3147.18</td>\n",
       "      <td>3150.30</td>\n",
       "      <td>3139.34</td>\n",
       "      <td>3140.98</td>\n",
       "      <td>286602291</td>\n",
       "    </tr>\n",
       "  </tbody>\n",
       "</table>\n",
       "</div>"
      ],
      "text/plain": [
       "               Open     High      Low    Close     Volume\n",
       "Date                                                     \n",
       "2019-11-27  3145.49  3154.26  3143.41  3153.63  421853938\n",
       "2019-11-29  3147.18  3150.30  3139.34  3140.98  286602291"
      ]
     },
     "execution_count": 3,
     "metadata": {},
     "output_type": "execute_result"
    }
   ],
   "source": [
    "daily = pd.read_csv('data/SP500_NOV2019_Hist.csv',index_col=0,parse_dates=True)\n",
    "daily.index.name = 'Date'\n",
    "daily.shape\n",
    "daily.head(2)\n",
    "daily.tail(2)"
   ]
  },
  {
   "cell_type": "code",
   "execution_count": 4,
   "metadata": {},
   "outputs": [
    {
     "data": {
      "text/plain": [
       "'0.12.9b0'"
      ]
     },
     "execution_count": 4,
     "metadata": {},
     "output_type": "execute_result"
    }
   ],
   "source": [
    "import mplfinance as mpf\n",
    "mpf.__version__"
   ]
  },
  {
   "cell_type": "markdown",
   "metadata": {},
   "source": [
    "---\n",
    "## hlines (horizontal lines)"
   ]
  },
  {
   "cell_type": "markdown",
   "metadata": {},
   "source": [
    "**We can plot horizontal lines to show support and resistance:**"
   ]
  },
  {
   "cell_type": "code",
   "execution_count": 5,
   "metadata": {},
   "outputs": [
    {
     "data": {
      "image/png": "[encoded data removed]",
      "text/plain": [
       "<Figure size 800x575 with 2 Axes>"
      ]
     },
     "metadata": {},
     "output_type": "display_data"
    }
   ],
   "source": [
    "mpf.plot(daily,hlines=[3080,3121])"
   ]
  },
  {
   "cell_type": "markdown",
   "metadata": {},
   "source": [
    "---\n",
    "\n",
    "**We can color the lines, and modify the line style:**\n",
    "\n",
    "(works with candlesticks too)"
   ]
  },
  {
   "cell_type": "code",
   "execution_count": 6,
   "metadata": {},
   "outputs": [
    {
     "data": {
      "image/png": "[encoded data removed]",
      "text/plain": [
       "<Figure size 800x575 with 2 Axes>"
      ]
     },
     "metadata": {},
     "output_type": "display_data"
    },
    {
     "data": {
      "image/png": "[encoded data removed]",
      "text/plain": [
       "<Figure size 800x575 with 2 Axes>"
      ]
     },
     "metadata": {},
     "output_type": "display_data"
    }
   ],
   "source": [
    "mpf.plot(daily,hlines=dict(hlines=[3080,3121],colors=['g','r'],linestyle='-.'))\n",
    "mpf.plot(daily,hlines=dict(hlines=[3080,3121],colors=['g','r'],linestyle='-.'),type='candle')"
   ]
  },
  {
   "cell_type": "markdown",
   "metadata": {},
   "source": [
    "---\n",
    "\n",
    "## vlines (vertical lines)"
   ]
  },
  {
   "cell_type": "markdown",
   "metadata": {},
   "source": [
    "---\n",
    "\n",
    "**We can use vertical lines to indicate days on which we made a trade:**"
   ]
  },
  {
   "cell_type": "code",
   "execution_count": 7,
   "metadata": {},
   "outputs": [
    {
     "ename": "SyntaxError",
     "evalue": "invalid syntax (3031286301.py, line 1)",
     "output_type": "error",
     "traceback": [
      "\u001b[0;36m  File \u001b[0;32m\"/bb/data/tmp/ipykernel_147985/3031286301.py\"\u001b[0;36m, line \u001b[0;32m1\u001b[0m\n\u001b[0;31m    STOP HERE\u001b[0m\n\u001b[0m         ^\u001b[0m\n\u001b[0;31mSyntaxError\u001b[0m\u001b[0;31m:\u001b[0m invalid syntax\n"
     ]
    }
   ],
   "source": [
    "STOP HERE"
   ]
  },
  {
   "cell_type": "code",
   "execution_count": 22,
   "metadata": {},
   "outputs": [
    {
     "data": {
      "text/plain": [
       "DatetimeIndex(['2019-11-01', '2019-11-04', '2019-11-05', '2019-11-06',\n",
       "               '2019-11-07', '2019-11-08', '2019-11-11', '2019-11-12',\n",
       "               '2019-11-13', '2019-11-14', '2019-11-15', '2019-11-18',\n",
       "               '2019-11-19', '2019-11-20', '2019-11-21', '2019-11-22',\n",
       "               '2019-11-25', '2019-11-26', '2019-11-27', '2019-11-29'],\n",
       "              dtype='datetime64[ns]', name='Date', freq=None)"
      ]
     },
     "execution_count": 22,
     "metadata": {},
     "output_type": "execute_result"
    }
   ],
   "source": [
    "daily.index"
   ]
  },
  {
   "cell_type": "code",
   "execution_count": 24,
   "metadata": {},
   "outputs": [
    {
     "data": {
      "text/plain": [
       "<matplotlib.lines.Line2D at 0x7fa7fbe5b070>"
      ]
     },
     "execution_count": 24,
     "metadata": {},
     "output_type": "execute_result"
    },
    {
     "data": {
      "text/plain": [
       "<matplotlib.lines.Line2D at 0x7fa7fbe4a820>"
      ]
     },
     "execution_count": 24,
     "metadata": {},
     "output_type": "execute_result"
    },
    {
     "data": {
      "text/plain": [
       "<matplotlib.lines.Line2D at 0x7fa7fbddaac0>"
      ]
     },
     "execution_count": 24,
     "metadata": {},
     "output_type": "execute_result"
    },
    {
     "data": {
      "text/plain": [
       "<matplotlib.lines.Line2D at 0x7fa7fbd85b20>"
      ]
     },
     "execution_count": 24,
     "metadata": {},
     "output_type": "execute_result"
    },
    {
     "data": {
      "text/plain": [
       "<matplotlib.lines.Line2D at 0x7fa7fbd85f10>"
      ]
     },
     "execution_count": 24,
     "metadata": {},
     "output_type": "execute_result"
    },
    {
     "data": {
      "text/plain": [
       "<matplotlib.lines.Line2D at 0x7fa7fbd96430>"
      ]
     },
     "execution_count": 24,
     "metadata": {},
     "output_type": "execute_result"
    },
    {
     "data": {
      "text/plain": [
       "<matplotlib.lines.Line2D at 0x7fa7fbd96730>"
      ]
     },
     "execution_count": 24,
     "metadata": {},
     "output_type": "execute_result"
    },
    {
     "data": {
      "text/plain": [
       "<matplotlib.lines.Line2D at 0x7fa7fbd96c40>"
      ]
     },
     "execution_count": 24,
     "metadata": {},
     "output_type": "execute_result"
    },
    {
     "data": {
      "text/plain": [
       "<matplotlib.lines.Line2D at 0x7fa7fbd96dc0>"
      ]
     },
     "execution_count": 24,
     "metadata": {},
     "output_type": "execute_result"
    },
    {
     "data": {
      "text/plain": [
       "<matplotlib.lines.Line2D at 0x7fa7fbda03a0>"
      ]
     },
     "execution_count": 24,
     "metadata": {},
     "output_type": "execute_result"
    },
    {
     "data": {
      "text/plain": [
       "<matplotlib.lines.Line2D at 0x7fa7fbda0850>"
      ]
     },
     "execution_count": 24,
     "metadata": {},
     "output_type": "execute_result"
    },
    {
     "data": {
      "text/plain": [
       "<matplotlib.lines.Line2D at 0x7fa7fbda0be0>"
      ]
     },
     "execution_count": 24,
     "metadata": {},
     "output_type": "execute_result"
    },
    {
     "data": {
      "image/png": "[encoded data removed]",
      "text/plain": [
       "<Figure size 800x575 with 4 Axes>"
      ]
     },
     "metadata": {},
     "output_type": "display_data"
    }
   ],
   "source": [
    "fig, axlist = mpf.plot(daily,type='candle',\n",
    "         #vlines=dict(vlines=['2019-11-06','2019-11-15','2019-11-25'],colors='g'),\n",
    "         #vlines_all=True,\n",
    "         returnfig=True,\n",
    "         volume=True)\n",
    "\n",
    "for ax in axlist:\n",
    "    for v in (5,10,15):\n",
    "        ax.axvline(x=v,color='g',linestyle='--',linewidth=20,alpha=0.5)"
   ]
  },
  {
   "cell_type": "markdown",
   "metadata": {},
   "source": [
    "---\n",
    "\n",
    "**we can also use a thick, but transparent (alpha=0.4), line to shade a portion of the plot:**"
   ]
  },
  {
   "cell_type": "code",
   "execution_count": null,
   "metadata": {},
   "outputs": [],
   "source": [
    "mpf.plot(daily,type='candle',vlines=dict(vlines='2019-11-18',linewidths=125,alpha=0.4))"
   ]
  },
  {
   "cell_type": "markdown",
   "metadata": {},
   "source": [
    "---\n",
    "\n",
    "**Another use for vertical lines is to show the start of each trading day for intraday data:**"
   ]
  },
  {
   "cell_type": "code",
   "execution_count": null,
   "metadata": {},
   "outputs": [],
   "source": [
    "idf = pd.read_csv('./data/SP500_NOV2019_IDay.csv',index_col=0,parse_dates=True)\n",
    "idf.shape\n",
    "idf.head(2)\n",
    "idf.tail(2)"
   ]
  },
  {
   "cell_type": "code",
   "execution_count": null,
   "metadata": {},
   "outputs": [],
   "source": [
    "vls=['2019-11-05 09:30',\n",
    "     '2019-11-06 09:30',\n",
    "     '2019-11-07 09:30',\n",
    "     '2019-11-08 09:30']\n",
    "mpf.plot(idf,vlines=dict(vlines=vls,colors=('r','g','b','c')))  # different color for each line\n",
    "mpf.plot(idf,vlines=dict(vlines=vls,colors='c'))                # one color for all lines"
   ]
  },
  {
   "cell_type": "markdown",
   "metadata": {},
   "source": [
    "---"
   ]
  },
  {
   "cell_type": "markdown",
   "metadata": {},
   "source": [
    "---\n",
    "\n",
    "## alines (arbitrary lines)"
   ]
  },
  {
   "cell_type": "markdown",
   "metadata": {},
   "source": [
    "\n",
    "**We can use a sequence of \"points\" to draw arbitrary lines,<br>where a \"point\" is a (date,price) pair:**"
   ]
  },
  {
   "cell_type": "code",
   "execution_count": null,
   "metadata": {},
   "outputs": [],
   "source": [
    "df = pd.read_csv('./data/yahoofinance-SPY-20080101-20180101.csv',index_col=0,parse_dates=True)\n",
    "df = df.loc['2016-05-01':'2016-06-16',:]\n",
    "df.shape\n",
    "df.head(2)\n",
    "df.tail(2)"
   ]
  },
  {
   "cell_type": "code",
   "execution_count": null,
   "metadata": {},
   "outputs": [],
   "source": [
    "mpf.plot(df)"
   ]
  },
  {
   "cell_type": "markdown",
   "metadata": {},
   "source": [
    "---\n",
    "\n",
    "**We can draw an arbitrary line by specifying sequence of two or more points:**"
   ]
  },
  {
   "cell_type": "code",
   "execution_count": null,
   "metadata": {},
   "outputs": [],
   "source": [
    "two_points  = [('2016-05-19',203.5),('2016-05-25',209.5)]\n",
    "\n",
    "more_points = [('2016-05-02',207),('2016-05-06',204),('2016-05-10',208.5),('2016-05-19',203.5),\n",
    "               ('2016-05-25',209.5), ('2016-06-08',212),('2016-06-16',207.5)]\n",
    "\n",
    "mpf.plot(df,alines=two_points )\n",
    "mpf.plot(df,alines=more_points)"
   ]
  },
  {
   "cell_type": "markdown",
   "metadata": {},
   "source": [
    "---\n",
    "\n",
    "---\n",
    "\n",
    "**An \"arbitrary line\" (`alines`) may be a sequence of points, or a sequence of sequences of points.<br><br>The difference is whether it is treated as one (possibly discontinuous) line,<br> or as multiple lines (each of which may be discontinuous).<br><br>If we specify a _sequence of sequences_ of points, then each _subsequence_ is treated as a separate line.<br><br>Below we see the exact same points as a<br>&nbsp;&nbsp;&nbsp;1. sequence of points<br>&nbsp;&nbsp;&nbsp;2. sequence of sequences<br>&nbsp;&nbsp;&nbsp;3. sequence of sequences, where the end point of each subsequence is repeated as the beginning point of the next subsequence.**"
   ]
  },
  {
   "cell_type": "code",
   "execution_count": null,
   "metadata": {},
   "outputs": [],
   "source": [
    "seq_of_points=[('2016-05-02',207),('2016-05-06',204),\n",
    "               ('2016-05-10',208.5),('2016-05-19',203.5),('2016-05-25',209.5),\n",
    "               ('2016-06-08',212),('2016-06-16',207.5)]\n",
    "\n",
    "seq_of_seq_of_points=[\n",
    "    [('2016-05-02',207),('2016-05-06',204)],\n",
    "    [('2016-05-10',208.5),('2016-05-19',203.5),('2016-05-25',209.5)],\n",
    "    [('2016-06-08',212),('2016-06-16',207.5)]\n",
    "                     ]\n",
    "\n",
    "seq_of_seq_repeat_point_in_between=[\n",
    "    [('2016-05-02',207),('2016-05-06',204)],\n",
    "    [('2016-05-06',204),('2016-05-10',208.5),('2016-05-19',203.5),('2016-05-25',209.5)],\n",
    "    [('2016-05-25',209.5),('2016-06-08',212),('2016-06-16',207.5)]\n",
    "                     ]\n",
    "\n",
    "mpf.plot(df,alines=dict(alines=seq_of_points                     ,colors=['b','r','c','k','g']))\n",
    "mpf.plot(df,alines=dict(alines=seq_of_seq_of_points              ,colors=['b','r','c','k','g']))\n",
    "mpf.plot(df,alines=dict(alines=seq_of_seq_repeat_point_in_between,colors=['b','r','c','k','g']))"
   ]
  },
  {
   "cell_type": "markdown",
   "metadata": {},
   "source": [
    "---\n",
    "**As we saw above, any lines (`hlines`,`vlines`,`alines`,`tlines`) may be made thicker and/or transparent:**"
   ]
  },
  {
   "cell_type": "code",
   "execution_count": null,
   "metadata": {},
   "outputs": [],
   "source": [
    "mpf.plot(df,\n",
    "         type='candle',\n",
    "         alines=dict(alines=seq_of_seq_repeat_point_in_between,\n",
    "                     colors=['b','r','c'],\n",
    "                     linewidths=40,\n",
    "                     alpha=0.35),\n",
    "         figscale=1.25\n",
    "        )"
   ]
  },
  {
   "cell_type": "markdown",
   "metadata": {},
   "source": [
    "---\n",
    "\n",
    "## tlines (trend lines)"
   ]
  },
  {
   "cell_type": "markdown",
   "metadata": {},
   "source": [
    "---\n",
    "\n",
    "---\n",
    "\n",
    "### Use `tlines` to specify _only_ 'dates' or 'times' and mplfinance will<br> determine and draw a \"trend line\" between those two dates (or times).**\n",
    "\n",
    "---\n",
    "\n",
    "**When `tlines` is a dict, you may also specify:**\n",
    "\n",
    "\n",
    "- **`tline_use` to indicate whether to use the 'open','high','low', or 'close', _or an average of any combination of ohlc_ for determining the trend line.**\n",
    "\n",
    "\n",
    "- **`tline_method` to indicate whether to simply draw the trend line from point-to-point (the default method) or to use a \"linear least squares fit\" to determine the trend line.**\n"
   ]
  },
  {
   "cell_type": "markdown",
   "metadata": {},
   "source": [
    "---\n",
    "\n",
    "\n",
    "**As an example, using the same _dates_ from the above arbitrary lines example, we can ask mplfinance to display trend lines:**"
   ]
  },
  {
   "cell_type": "code",
   "execution_count": null,
   "metadata": {},
   "outputs": [],
   "source": [
    "# grab the dates from the sequence of date,price points:\n",
    "dates = [d for d,p in seq_of_points]\n",
    "dates"
   ]
  },
  {
   "cell_type": "code",
   "execution_count": null,
   "metadata": {},
   "outputs": [],
   "source": [
    "# now generate a sequence of date pairs:\n",
    "datepairs = [(d1,d2) for d1,d2 in zip(dates,dates[1:])]\n",
    "datepairs"
   ]
  },
  {
   "cell_type": "code",
   "execution_count": null,
   "metadata": {},
   "outputs": [],
   "source": [
    "mpf.plot(df,tlines=datepairs)"
   ]
  },
  {
   "cell_type": "markdown",
   "metadata": {},
   "source": [
    "---\n",
    "\n",
    "\n",
    "**Using the same _date pairs_ as above, we can display trend lines using the 'high', the 'low', or the average of the 'open' and 'close':**"
   ]
  },
  {
   "cell_type": "code",
   "execution_count": null,
   "metadata": {},
   "outputs": [],
   "source": [
    "mpf.plot(df,tlines=dict(tlines=datepairs,tline_use='high'))\n",
    "mpf.plot(df,tlines=dict(tlines=datepairs,tline_use='low'))\n",
    "mpf.plot(df,tlines=dict(tlines=datepairs,tline_use=['open','close']))"
   ]
  },
  {
   "cell_type": "markdown",
   "metadata": {},
   "source": [
    "---\n",
    "\n",
    "**We can combine `tlines` `dict`s into a `list`, to display different trend lines on the same plot:**"
   ]
  },
  {
   "cell_type": "code",
   "execution_count": null,
   "metadata": {},
   "outputs": [],
   "source": [
    "mpf.plot(df,tlines=[dict(tlines=datepairs,tline_use='high',colors='g'),\n",
    "                    dict(tlines=datepairs,tline_use='low',colors='b'),\n",
    "                    dict(tlines=datepairs,tline_use=['open','close'],colors='r')],\n",
    "         figscale=1.35\n",
    "        )"
   ]
  },
  {
   "cell_type": "markdown",
   "metadata": {},
   "source": [
    "---\n",
    "\n",
    "**Now compare using point-to-point versus least-squares:**"
   ]
  },
  {
   "cell_type": "code",
   "execution_count": null,
   "metadata": {},
   "outputs": [],
   "source": [
    "mpf.plot(df,tlines=[dict(tlines=datepairs,colors='b',tline_method='point-to-point'),\n",
    "                    dict(tlines=datepairs,colors='r',tline_method='least-squares')\n",
    "                   ],\n",
    "         figscale=1.33\n",
    "        )"
   ]
  },
  {
   "cell_type": "markdown",
   "metadata": {},
   "source": [
    "---\n",
    "\n",
    "**Try using least-squares for the entire data set, taking the average of ohlc, and alternatively the low, for the values to be used in the least squares regression:**"
   ]
  },
  {
   "cell_type": "code",
   "execution_count": null,
   "metadata": {},
   "outputs": [],
   "source": [
    "d1 = df.index[ 0]\n",
    "d2 = df.index[-1]\n",
    "tdates = [(d1,d2)]\n",
    "mpf.plot(df,tlines=\n",
    "         [dict(tlines=tdates,tline_use=['open','close','high','low'],tline_method='least-squares',colors='r'),\n",
    "          dict(tlines=tdates,tline_use=['low'],tline_method='least-squares',colors='b'),\n",
    "          dict(tlines=tdates,tline_use=['low'],tline_method='point-to-point',colors='g')\n",
    "         ],\n",
    "         figscale=1.33\n",
    "        )"
   ]
  },
  {
   "cell_type": "code",
   "execution_count": null,
   "metadata": {},
   "outputs": [],
   "source": []
  }
 ],
 "metadata": {
  "kernelspec": {
   "display_name": "Python 3 (ipykernel)",
   "language": "python",
   "name": "python3"
  },
  "language_info": {
   "codemirror_mode": {
    "name": "ipython",
    "version": 3
   },
   "file_extension": ".py",
   "mimetype": "text/x-python",
   "name": "python",
   "nbconvert_exporter": "python",
   "pygments_lexer": "ipython3",
   "version": "3.9.10"
  }
 },
 "nbformat": 4,
 "nbformat_minor": 2
}
