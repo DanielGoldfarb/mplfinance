{
 "cells": [
  {
   "cell_type": "markdown",
   "metadata": {},
   "source": [
    "---\n",
    "\n",
    "#  mplfinance xticks experiments\n",
    "\n",
    "---"
   ]
  },
  {
   "cell_type": "code",
   "execution_count": 1,
   "metadata": {},
   "outputs": [],
   "source": [
    "# This allows multiple outputs from a single jupyter notebook cell:\n",
    "from IPython.core.interactiveshell import InteractiveShell\n",
    "InteractiveShell.ast_node_interactivity = \"all\""
   ]
  },
  {
   "cell_type": "code",
   "execution_count": 2,
   "metadata": {},
   "outputs": [],
   "source": [
    "%matplotlib inline\n",
    "import pandas as pd"
   ]
  },
  {
   "cell_type": "markdown",
   "metadata": {},
   "source": [
    "### Read in daily data for the S&P 500 from November of 2019 "
   ]
  },
  {
   "cell_type": "code",
   "execution_count": 3,
   "metadata": {},
   "outputs": [
    {
     "data": {
      "text/plain": [
       "(1563, 5)"
      ]
     },
     "execution_count": 3,
     "metadata": {},
     "output_type": "execute_result"
    },
    {
     "data": {
      "text/html": [
       "<div>\n",
       "<style scoped>\n",
       "    .dataframe tbody tr th:only-of-type {\n",
       "        vertical-align: middle;\n",
       "    }\n",
       "\n",
       "    .dataframe tbody tr th {\n",
       "        vertical-align: top;\n",
       "    }\n",
       "\n",
       "    .dataframe thead th {\n",
       "        text-align: right;\n",
       "    }\n",
       "</style>\n",
       "<table border=\"1\" class=\"dataframe\">\n",
       "  <thead>\n",
       "    <tr style=\"text-align: right;\">\n",
       "      <th></th>\n",
       "      <th>Open</th>\n",
       "      <th>Close</th>\n",
       "      <th>High</th>\n",
       "      <th>Low</th>\n",
       "      <th>Volume</th>\n",
       "    </tr>\n",
       "    <tr>\n",
       "      <th>Date</th>\n",
       "      <th></th>\n",
       "      <th></th>\n",
       "      <th></th>\n",
       "      <th></th>\n",
       "      <th></th>\n",
       "    </tr>\n",
       "  </thead>\n",
       "  <tbody>\n",
       "    <tr>\n",
       "      <th>2019-11-05 09:30:00</th>\n",
       "      <td>3080.80</td>\n",
       "      <td>3080.49</td>\n",
       "      <td>3081.47</td>\n",
       "      <td>3080.30</td>\n",
       "      <td>0</td>\n",
       "    </tr>\n",
       "    <tr>\n",
       "      <th>2019-11-05 09:31:00</th>\n",
       "      <td>3080.33</td>\n",
       "      <td>3079.36</td>\n",
       "      <td>3080.33</td>\n",
       "      <td>3079.15</td>\n",
       "      <td>0</td>\n",
       "    </tr>\n",
       "  </tbody>\n",
       "</table>\n",
       "</div>"
      ],
      "text/plain": [
       "                        Open    Close     High      Low  Volume\n",
       "Date                                                           \n",
       "2019-11-05 09:30:00  3080.80  3080.49  3081.47  3080.30       0\n",
       "2019-11-05 09:31:00  3080.33  3079.36  3080.33  3079.15       0"
      ]
     },
     "execution_count": 3,
     "metadata": {},
     "output_type": "execute_result"
    },
    {
     "data": {
      "text/html": [
       "<div>\n",
       "<style scoped>\n",
       "    .dataframe tbody tr th:only-of-type {\n",
       "        vertical-align: middle;\n",
       "    }\n",
       "\n",
       "    .dataframe tbody tr th {\n",
       "        vertical-align: top;\n",
       "    }\n",
       "\n",
       "    .dataframe thead th {\n",
       "        text-align: right;\n",
       "    }\n",
       "</style>\n",
       "<table border=\"1\" class=\"dataframe\">\n",
       "  <thead>\n",
       "    <tr style=\"text-align: right;\">\n",
       "      <th></th>\n",
       "      <th>Open</th>\n",
       "      <th>Close</th>\n",
       "      <th>High</th>\n",
       "      <th>Low</th>\n",
       "      <th>Volume</th>\n",
       "    </tr>\n",
       "    <tr>\n",
       "      <th>Date</th>\n",
       "      <th></th>\n",
       "      <th></th>\n",
       "      <th></th>\n",
       "      <th></th>\n",
       "      <th></th>\n",
       "    </tr>\n",
       "  </thead>\n",
       "  <tbody>\n",
       "    <tr>\n",
       "      <th>2019-11-08 15:58:00</th>\n",
       "      <td>3090.73</td>\n",
       "      <td>3091.04</td>\n",
       "      <td>3091.13</td>\n",
       "      <td>3090.58</td>\n",
       "      <td>0</td>\n",
       "    </tr>\n",
       "    <tr>\n",
       "      <th>2019-11-08 15:59:00</th>\n",
       "      <td>3091.16</td>\n",
       "      <td>3092.91</td>\n",
       "      <td>3092.91</td>\n",
       "      <td>3090.96</td>\n",
       "      <td>0</td>\n",
       "    </tr>\n",
       "  </tbody>\n",
       "</table>\n",
       "</div>"
      ],
      "text/plain": [
       "                        Open    Close     High      Low  Volume\n",
       "Date                                                           \n",
       "2019-11-08 15:58:00  3090.73  3091.04  3091.13  3090.58       0\n",
       "2019-11-08 15:59:00  3091.16  3092.91  3092.91  3090.96       0"
      ]
     },
     "execution_count": 3,
     "metadata": {},
     "output_type": "execute_result"
    }
   ],
   "source": [
    "df = pd.read_csv('../data/SP500_NOV2019_IDay.csv',index_col=0,parse_dates=True)\n",
    "df.index.name = 'Date'\n",
    "df.shape\n",
    "df.head(2)\n",
    "df.tail(2)"
   ]
  },
  {
   "cell_type": "code",
   "execution_count": 4,
   "metadata": {},
   "outputs": [
    {
     "data": {
      "text/plain": [
       "array([datetime.datetime(2019, 11, 5, 9, 30),\n",
       "       datetime.datetime(2019, 11, 5, 9, 31),\n",
       "       datetime.datetime(2019, 11, 5, 9, 32), ...,\n",
       "       datetime.datetime(2019, 11, 8, 15, 57),\n",
       "       datetime.datetime(2019, 11, 8, 15, 58),\n",
       "       datetime.datetime(2019, 11, 8, 15, 59)], dtype=object)"
      ]
     },
     "execution_count": 4,
     "metadata": {},
     "output_type": "execute_result"
    }
   ],
   "source": [
    "df.index.to_pydatetime()"
   ]
  },
  {
   "cell_type": "code",
   "execution_count": 5,
   "metadata": {},
   "outputs": [
    {
     "data": {
      "text/plain": [
       "'0.12.7a9'"
      ]
     },
     "execution_count": 5,
     "metadata": {},
     "output_type": "execute_result"
    }
   ],
   "source": [
    "import mplfinance as mpf\n",
    "mpf.__version__"
   ]
  },
  {
   "cell_type": "code",
   "execution_count": 6,
   "metadata": {},
   "outputs": [
    {
     "data": {
      "image/png": "[encoded data removed]",
      "text/plain": [
       "<Figure size 1035x575 with 2 Axes>"
      ]
     },
     "metadata": {},
     "output_type": "display_data"
    }
   ],
   "source": [
    "fig, axlist = mpf.plot(df,figratio=(9,5),returnfig=True,show_nontrading=True)"
   ]
  },
  {
   "cell_type": "code",
   "execution_count": 7,
   "metadata": {},
   "outputs": [],
   "source": [
    "df['TimeStamp'] = df.index.values"
   ]
  },
  {
   "cell_type": "code",
   "execution_count": 8,
   "metadata": {},
   "outputs": [
    {
     "data": {
      "text/html": [
       "<div>\n",
       "<style scoped>\n",
       "    .dataframe tbody tr th:only-of-type {\n",
       "        vertical-align: middle;\n",
       "    }\n",
       "\n",
       "    .dataframe tbody tr th {\n",
       "        vertical-align: top;\n",
       "    }\n",
       "\n",
       "    .dataframe thead th {\n",
       "        text-align: right;\n",
       "    }\n",
       "</style>\n",
       "<table border=\"1\" class=\"dataframe\">\n",
       "  <thead>\n",
       "    <tr style=\"text-align: right;\">\n",
       "      <th></th>\n",
       "      <th>Open</th>\n",
       "      <th>Close</th>\n",
       "      <th>High</th>\n",
       "      <th>Low</th>\n",
       "      <th>Volume</th>\n",
       "      <th>TimeStamp</th>\n",
       "    </tr>\n",
       "    <tr>\n",
       "      <th>Date</th>\n",
       "      <th></th>\n",
       "      <th></th>\n",
       "      <th></th>\n",
       "      <th></th>\n",
       "      <th></th>\n",
       "      <th></th>\n",
       "    </tr>\n",
       "  </thead>\n",
       "  <tbody>\n",
       "    <tr>\n",
       "      <th>2019-11-05 09:30:00</th>\n",
       "      <td>3080.80</td>\n",
       "      <td>3080.49</td>\n",
       "      <td>3081.47</td>\n",
       "      <td>3080.30</td>\n",
       "      <td>0</td>\n",
       "      <td>2019-11-05 09:30:00</td>\n",
       "    </tr>\n",
       "    <tr>\n",
       "      <th>2019-11-05 09:31:00</th>\n",
       "      <td>3080.33</td>\n",
       "      <td>3079.36</td>\n",
       "      <td>3080.33</td>\n",
       "      <td>3079.15</td>\n",
       "      <td>0</td>\n",
       "      <td>2019-11-05 09:31:00</td>\n",
       "    </tr>\n",
       "    <tr>\n",
       "      <th>2019-11-05 09:32:00</th>\n",
       "      <td>3079.43</td>\n",
       "      <td>3079.68</td>\n",
       "      <td>3080.46</td>\n",
       "      <td>3079.43</td>\n",
       "      <td>0</td>\n",
       "      <td>2019-11-05 09:32:00</td>\n",
       "    </tr>\n",
       "    <tr>\n",
       "      <th>2019-11-05 09:33:00</th>\n",
       "      <td>3079.73</td>\n",
       "      <td>3079.15</td>\n",
       "      <td>3080.22</td>\n",
       "      <td>3079.12</td>\n",
       "      <td>0</td>\n",
       "      <td>2019-11-05 09:33:00</td>\n",
       "    </tr>\n",
       "    <tr>\n",
       "      <th>2019-11-05 09:34:00</th>\n",
       "      <td>3079.20</td>\n",
       "      <td>3079.62</td>\n",
       "      <td>3080.03</td>\n",
       "      <td>3079.07</td>\n",
       "      <td>0</td>\n",
       "      <td>2019-11-05 09:34:00</td>\n",
       "    </tr>\n",
       "  </tbody>\n",
       "</table>\n",
       "</div>"
      ],
      "text/plain": [
       "                        Open    Close     High      Low  Volume  \\\n",
       "Date                                                              \n",
       "2019-11-05 09:30:00  3080.80  3080.49  3081.47  3080.30       0   \n",
       "2019-11-05 09:31:00  3080.33  3079.36  3080.33  3079.15       0   \n",
       "2019-11-05 09:32:00  3079.43  3079.68  3080.46  3079.43       0   \n",
       "2019-11-05 09:33:00  3079.73  3079.15  3080.22  3079.12       0   \n",
       "2019-11-05 09:34:00  3079.20  3079.62  3080.03  3079.07       0   \n",
       "\n",
       "                              TimeStamp  \n",
       "Date                                     \n",
       "2019-11-05 09:30:00 2019-11-05 09:30:00  \n",
       "2019-11-05 09:31:00 2019-11-05 09:31:00  \n",
       "2019-11-05 09:32:00 2019-11-05 09:32:00  \n",
       "2019-11-05 09:33:00 2019-11-05 09:33:00  \n",
       "2019-11-05 09:34:00 2019-11-05 09:34:00  "
      ]
     },
     "execution_count": 8,
     "metadata": {},
     "output_type": "execute_result"
    }
   ],
   "source": [
    "df.head()"
   ]
  },
  {
   "cell_type": "code",
   "execution_count": 9,
   "metadata": {},
   "outputs": [],
   "source": [
    "df['TSdate'] = [t.date() for t in df['TimeStamp']]"
   ]
  },
  {
   "cell_type": "code",
   "execution_count": 10,
   "metadata": {},
   "outputs": [],
   "source": [
    "dfg = df.groupby('TSdate')"
   ]
  },
  {
   "cell_type": "code",
   "execution_count": 11,
   "metadata": {
    "scrolled": false
   },
   "outputs": [
    {
     "data": {
      "text/html": [
       "<div>\n",
       "<style scoped>\n",
       "    .dataframe tbody tr th:only-of-type {\n",
       "        vertical-align: middle;\n",
       "    }\n",
       "\n",
       "    .dataframe tbody tr th {\n",
       "        vertical-align: top;\n",
       "    }\n",
       "\n",
       "    .dataframe thead th {\n",
       "        text-align: right;\n",
       "    }\n",
       "</style>\n",
       "<table border=\"1\" class=\"dataframe\">\n",
       "  <thead>\n",
       "    <tr style=\"text-align: right;\">\n",
       "      <th></th>\n",
       "      <th>Open</th>\n",
       "      <th>Close</th>\n",
       "      <th>High</th>\n",
       "      <th>Low</th>\n",
       "      <th>Volume</th>\n",
       "      <th>TimeStamp</th>\n",
       "    </tr>\n",
       "    <tr>\n",
       "      <th>TSdate</th>\n",
       "      <th></th>\n",
       "      <th></th>\n",
       "      <th></th>\n",
       "      <th></th>\n",
       "      <th></th>\n",
       "      <th></th>\n",
       "    </tr>\n",
       "  </thead>\n",
       "  <tbody>\n",
       "    <tr>\n",
       "      <th>2019-11-05</th>\n",
       "      <td>3080.80</td>\n",
       "      <td>3080.49</td>\n",
       "      <td>3081.47</td>\n",
       "      <td>3080.30</td>\n",
       "      <td>0</td>\n",
       "      <td>2019-11-05 09:30:00</td>\n",
       "    </tr>\n",
       "    <tr>\n",
       "      <th>2019-11-06</th>\n",
       "      <td>3075.10</td>\n",
       "      <td>3074.12</td>\n",
       "      <td>3075.91</td>\n",
       "      <td>3073.90</td>\n",
       "      <td>0</td>\n",
       "      <td>2019-11-06 09:30:00</td>\n",
       "    </tr>\n",
       "    <tr>\n",
       "      <th>2019-11-07</th>\n",
       "      <td>3087.02</td>\n",
       "      <td>3089.93</td>\n",
       "      <td>3090.17</td>\n",
       "      <td>3087.02</td>\n",
       "      <td>0</td>\n",
       "      <td>2019-11-07 09:30:00</td>\n",
       "    </tr>\n",
       "    <tr>\n",
       "      <th>2019-11-08</th>\n",
       "      <td>3081.25</td>\n",
       "      <td>3081.47</td>\n",
       "      <td>3081.93</td>\n",
       "      <td>3081.07</td>\n",
       "      <td>0</td>\n",
       "      <td>2019-11-08 09:30:00</td>\n",
       "    </tr>\n",
       "  </tbody>\n",
       "</table>\n",
       "</div>"
      ],
      "text/plain": [
       "               Open    Close     High      Low  Volume           TimeStamp\n",
       "TSdate                                                                    \n",
       "2019-11-05  3080.80  3080.49  3081.47  3080.30       0 2019-11-05 09:30:00\n",
       "2019-11-06  3075.10  3074.12  3075.91  3073.90       0 2019-11-06 09:30:00\n",
       "2019-11-07  3087.02  3089.93  3090.17  3087.02       0 2019-11-07 09:30:00\n",
       "2019-11-08  3081.25  3081.47  3081.93  3081.07       0 2019-11-08 09:30:00"
      ]
     },
     "execution_count": 11,
     "metadata": {},
     "output_type": "execute_result"
    },
    {
     "data": {
      "text/html": [
       "<div>\n",
       "<style scoped>\n",
       "    .dataframe tbody tr th:only-of-type {\n",
       "        vertical-align: middle;\n",
       "    }\n",
       "\n",
       "    .dataframe tbody tr th {\n",
       "        vertical-align: top;\n",
       "    }\n",
       "\n",
       "    .dataframe thead th {\n",
       "        text-align: right;\n",
       "    }\n",
       "</style>\n",
       "<table border=\"1\" class=\"dataframe\">\n",
       "  <thead>\n",
       "    <tr style=\"text-align: right;\">\n",
       "      <th></th>\n",
       "      <th>Open</th>\n",
       "      <th>Close</th>\n",
       "      <th>High</th>\n",
       "      <th>Low</th>\n",
       "      <th>Volume</th>\n",
       "      <th>TimeStamp</th>\n",
       "    </tr>\n",
       "    <tr>\n",
       "      <th>TSdate</th>\n",
       "      <th></th>\n",
       "      <th></th>\n",
       "      <th></th>\n",
       "      <th></th>\n",
       "      <th></th>\n",
       "      <th></th>\n",
       "    </tr>\n",
       "  </thead>\n",
       "  <tbody>\n",
       "    <tr>\n",
       "      <th>2019-11-05</th>\n",
       "      <td>3074.78</td>\n",
       "      <td>3074.75</td>\n",
       "      <td>3074.78</td>\n",
       "      <td>3074.75</td>\n",
       "      <td>0</td>\n",
       "      <td>2019-11-05 16:00:00</td>\n",
       "    </tr>\n",
       "    <tr>\n",
       "      <th>2019-11-06</th>\n",
       "      <td>3076.74</td>\n",
       "      <td>3076.73</td>\n",
       "      <td>3076.74</td>\n",
       "      <td>3076.72</td>\n",
       "      <td>0</td>\n",
       "      <td>2019-11-06 16:00:00</td>\n",
       "    </tr>\n",
       "    <tr>\n",
       "      <th>2019-11-07</th>\n",
       "      <td>3085.41</td>\n",
       "      <td>3085.35</td>\n",
       "      <td>3085.44</td>\n",
       "      <td>3085.35</td>\n",
       "      <td>0</td>\n",
       "      <td>2019-11-07 16:00:00</td>\n",
       "    </tr>\n",
       "    <tr>\n",
       "      <th>2019-11-08</th>\n",
       "      <td>3091.16</td>\n",
       "      <td>3092.91</td>\n",
       "      <td>3092.91</td>\n",
       "      <td>3090.96</td>\n",
       "      <td>0</td>\n",
       "      <td>2019-11-08 15:59:00</td>\n",
       "    </tr>\n",
       "  </tbody>\n",
       "</table>\n",
       "</div>"
      ],
      "text/plain": [
       "               Open    Close     High      Low  Volume           TimeStamp\n",
       "TSdate                                                                    \n",
       "2019-11-05  3074.78  3074.75  3074.78  3074.75       0 2019-11-05 16:00:00\n",
       "2019-11-06  3076.74  3076.73  3076.74  3076.72       0 2019-11-06 16:00:00\n",
       "2019-11-07  3085.41  3085.35  3085.44  3085.35       0 2019-11-07 16:00:00\n",
       "2019-11-08  3091.16  3092.91  3092.91  3090.96       0 2019-11-08 15:59:00"
      ]
     },
     "execution_count": 11,
     "metadata": {},
     "output_type": "execute_result"
    },
    {
     "data": {
      "text/html": [
       "<div>\n",
       "<style scoped>\n",
       "    .dataframe tbody tr th:only-of-type {\n",
       "        vertical-align: middle;\n",
       "    }\n",
       "\n",
       "    .dataframe tbody tr th {\n",
       "        vertical-align: top;\n",
       "    }\n",
       "\n",
       "    .dataframe thead th {\n",
       "        text-align: right;\n",
       "    }\n",
       "</style>\n",
       "<table border=\"1\" class=\"dataframe\">\n",
       "  <thead>\n",
       "    <tr style=\"text-align: right;\">\n",
       "      <th></th>\n",
       "      <th>Open</th>\n",
       "      <th>Close</th>\n",
       "      <th>High</th>\n",
       "      <th>Low</th>\n",
       "      <th>Volume</th>\n",
       "    </tr>\n",
       "    <tr>\n",
       "      <th>TSdate</th>\n",
       "      <th></th>\n",
       "      <th></th>\n",
       "      <th></th>\n",
       "      <th></th>\n",
       "      <th></th>\n",
       "    </tr>\n",
       "  </thead>\n",
       "  <tbody>\n",
       "    <tr>\n",
       "      <th>2019-11-05</th>\n",
       "      <td>3077.300</td>\n",
       "      <td>3077.270</td>\n",
       "      <td>3077.530</td>\n",
       "      <td>3077.060</td>\n",
       "      <td>0</td>\n",
       "    </tr>\n",
       "    <tr>\n",
       "      <th>2019-11-06</th>\n",
       "      <td>3073.970</td>\n",
       "      <td>3073.970</td>\n",
       "      <td>3074.270</td>\n",
       "      <td>3073.790</td>\n",
       "      <td>0</td>\n",
       "    </tr>\n",
       "    <tr>\n",
       "      <th>2019-11-07</th>\n",
       "      <td>3092.590</td>\n",
       "      <td>3092.580</td>\n",
       "      <td>3092.790</td>\n",
       "      <td>3092.380</td>\n",
       "      <td>0</td>\n",
       "    </tr>\n",
       "    <tr>\n",
       "      <th>2019-11-08</th>\n",
       "      <td>3084.785</td>\n",
       "      <td>3084.805</td>\n",
       "      <td>3084.965</td>\n",
       "      <td>3084.595</td>\n",
       "      <td>0</td>\n",
       "    </tr>\n",
       "  </tbody>\n",
       "</table>\n",
       "</div>"
      ],
      "text/plain": [
       "                Open     Close      High       Low  Volume\n",
       "TSdate                                                    \n",
       "2019-11-05  3077.300  3077.270  3077.530  3077.060       0\n",
       "2019-11-06  3073.970  3073.970  3074.270  3073.790       0\n",
       "2019-11-07  3092.590  3092.580  3092.790  3092.380       0\n",
       "2019-11-08  3084.785  3084.805  3084.965  3084.595       0"
      ]
     },
     "execution_count": 11,
     "metadata": {},
     "output_type": "execute_result"
    }
   ],
   "source": [
    "dfg.first()\n",
    "dfg.last()\n",
    "dfg.median()\n",
    "#dir(dfg)"
   ]
  },
  {
   "cell_type": "code",
   "execution_count": 12,
   "metadata": {
    "scrolled": false
   },
   "outputs": [],
   "source": [
    "xt = []\n",
    "for t in dfg.first()['TimeStamp']:\n",
    "    xt.append(df.index.get_loc(t))"
   ]
  },
  {
   "cell_type": "code",
   "execution_count": 13,
   "metadata": {},
   "outputs": [
    {
     "data": {
      "text/plain": [
       "[0, 391, 782, 1173]"
      ]
     },
     "execution_count": 13,
     "metadata": {},
     "output_type": "execute_result"
    }
   ],
   "source": [
    "xt"
   ]
  },
  {
   "cell_type": "code",
   "execution_count": 14,
   "metadata": {},
   "outputs": [
    {
     "data": {
      "text/plain": [
       "[<matplotlib.axis.XTick at 0x7f69409e9e20>,\n",
       " <matplotlib.axis.XTick at 0x7f69409e9df0>,\n",
       " <matplotlib.axis.XTick at 0x7f693e6f0e50>,\n",
       " <matplotlib.axis.XTick at 0x7f693e91a2e0>]"
      ]
     },
     "execution_count": 14,
     "metadata": {},
     "output_type": "execute_result"
    }
   ],
   "source": [
    "axlist[0].set_xticks(xt)"
   ]
  },
  {
   "cell_type": "code",
   "execution_count": 15,
   "metadata": {},
   "outputs": [
    {
     "data": {
      "image/png": "[encoded data removed]",
      "text/plain": [
       "<Figure size 1035x575 with 2 Axes>"
      ]
     },
     "execution_count": 15,
     "metadata": {},
     "output_type": "execute_result"
    }
   ],
   "source": [
    "fig"
   ]
  },
  {
   "cell_type": "code",
   "execution_count": 16,
   "metadata": {},
   "outputs": [
    {
     "name": "stdout",
     "output_type": "stream",
     "text": [
      "t1,t2,t2-t1= 2019-11-05 09:30:00 2019-11-05 16:00:00 0 days 06:30:00\n",
      "t1,t2,t2-t1= 2019-11-06 09:30:00 2019-11-06 16:00:00 0 days 06:30:00\n",
      "t1,t2,t2-t1= 2019-11-07 09:30:00 2019-11-07 16:00:00 0 days 06:30:00\n",
      "t1,t2,t2-t1= 2019-11-08 09:30:00 2019-11-08 15:59:00 0 days 06:29:00\n"
     ]
    }
   ],
   "source": [
    "xt = []\n",
    "for t1,t2 in zip(dfg.first()['TimeStamp'],dfg.last()['TimeStamp']):\n",
    "    print('t1,t2,t2-t1=',t1,t2,t2-t1)"
   ]
  },
  {
   "cell_type": "code",
   "execution_count": 17,
   "metadata": {},
   "outputs": [],
   "source": [
    "td = t2-t1"
   ]
  },
  {
   "cell_type": "code",
   "execution_count": 18,
   "metadata": {},
   "outputs": [
    {
     "data": {
      "text/plain": [
       "23340"
      ]
     },
     "execution_count": 18,
     "metadata": {},
     "output_type": "execute_result"
    },
    {
     "data": {
      "text/plain": [
       "23340.0"
      ]
     },
     "execution_count": 18,
     "metadata": {},
     "output_type": "execute_result"
    }
   ],
   "source": [
    "td.seconds\n",
    "td.total_seconds()"
   ]
  },
  {
   "cell_type": "code",
   "execution_count": 19,
   "metadata": {},
   "outputs": [
    {
     "data": {
      "text/plain": [
       "6.483333333333333"
      ]
     },
     "execution_count": 19,
     "metadata": {},
     "output_type": "execute_result"
    },
    {
     "data": {
      "text/plain": [
       "3.0"
      ]
     },
     "execution_count": 19,
     "metadata": {},
     "output_type": "execute_result"
    }
   ],
   "source": [
    "23340 / (60*60)\n",
    "int(23340 / (60*60))/2"
   ]
  },
  {
   "cell_type": "code",
   "execution_count": 20,
   "metadata": {},
   "outputs": [
    {
     "ename": "SyntaxError",
     "evalue": "invalid syntax (<ipython-input-20-a6774c8535dd>, line 1)",
     "output_type": "error",
     "traceback": [
      "\u001b[0;36m  File \u001b[0;32m\"<ipython-input-20-a6774c8535dd>\"\u001b[0;36m, line \u001b[0;32m1\u001b[0m\n\u001b[0;31m    STOP HERE\u001b[0m\n\u001b[0m         ^\u001b[0m\n\u001b[0;31mSyntaxError\u001b[0m\u001b[0;31m:\u001b[0m invalid syntax\n"
     ]
    }
   ],
   "source": [
    "STOP HERE"
   ]
  },
  {
   "cell_type": "code",
   "execution_count": null,
   "metadata": {},
   "outputs": [],
   "source": [
    "#del fig\n",
    "#fig, axlist = mpf.plot(df,figratio=(9,5),returnfig=True,show_nontrading=True)\n",
    "fig, axlist = mpf.plot(df,figratio=(9,5),returnfig=True,show_nontrading=True)"
   ]
  },
  {
   "cell_type": "code",
   "execution_count": null,
   "metadata": {},
   "outputs": [],
   "source": [
    "axlist[0].get_xticks()"
   ]
  },
  {
   "cell_type": "code",
   "execution_count": null,
   "metadata": {},
   "outputs": [],
   "source": [
    "import matplotlib.dates as mdates"
   ]
  },
  {
   "cell_type": "code",
   "execution_count": null,
   "metadata": {},
   "outputs": [],
   "source": [
    "locator = mdates.HourLocator(interval=4)"
   ]
  },
  {
   "cell_type": "code",
   "execution_count": null,
   "metadata": {},
   "outputs": [],
   "source": [
    "axlist[0].xaxis.set_major_locator(locator)"
   ]
  },
  {
   "cell_type": "code",
   "execution_count": null,
   "metadata": {},
   "outputs": [],
   "source": [
    "axlist[0].get_xticks()"
   ]
  },
  {
   "cell_type": "code",
   "execution_count": null,
   "metadata": {},
   "outputs": [],
   "source": [
    "fig"
   ]
  },
  {
   "cell_type": "code",
   "execution_count": null,
   "metadata": {},
   "outputs": [],
   "source": []
  },
  {
   "cell_type": "code",
   "execution_count": 37,
   "metadata": {},
   "outputs": [
    {
     "name": "stdout",
     "output_type": "stream",
     "text": [
      "vmin= 2021-02-01 09:30:00  vmax= 2021-02-01 16:00:00\n",
      "type(vmin)= <class 'datetime.datetime'>\n",
      "ticks=\n",
      "2021-02-01 10:00:00+00:00\n",
      "2021-02-01 11:00:00+00:00\n",
      "2021-02-01 12:00:00+00:00\n",
      "2021-02-01 13:00:00+00:00\n",
      "2021-02-01 14:00:00+00:00\n",
      "2021-02-01 15:00:00+00:00\n",
      "2021-02-01 16:00:00+00:00\n"
     ]
    }
   ],
   "source": [
    "# %load datelocator.py\n",
    "#import numpy as np\n",
    "#import matplotlib.pyplot as plt\n",
    "import matplotlib.dates as mdates\n",
    "import datetime\n",
    "from   dateutil import parser as dp\n",
    "import pandas as pd\n",
    "\n",
    "loc = mdates.AutoDateLocator()\n",
    "\n",
    "vmin = dp.parse('2021-02-01 09:30')\n",
    "vmax = dp.parse('2021-02-01 16:00')\n",
    "print('vmin=',vmin,' vmax=',vmax)\n",
    "print('type(vmin)=',type(vmin))\n",
    "\n",
    "ticks = loc.tick_values(vmin, vmax)\n",
    "print('ticks=')\n",
    "for dt in mdates.num2date(ticks):\n",
    "    print(dt)\n"
   ]
  },
  {
   "cell_type": "code",
   "execution_count": 38,
   "metadata": {},
   "outputs": [
    {
     "name": "stdout",
     "output_type": "stream",
     "text": [
      "ticks=\n",
      "2021-02-01 10:00:00+00:00\n",
      "2021-02-01 11:00:00+00:00\n",
      "2021-02-01 12:00:00+00:00\n",
      "2021-02-01 13:00:00+00:00\n",
      "2021-02-01 14:00:00+00:00\n",
      "2021-02-01 15:00:00+00:00\n",
      "2021-02-01 16:00:00+00:00\n"
     ]
    }
   ],
   "source": [
    "loc = mdates.HourLocator()\n",
    "ticks = loc.tick_values(vmin, vmax)\n",
    "print('ticks=')\n",
    "for dt in mdates.num2date(ticks):\n",
    "    print(dt)"
   ]
  },
  {
   "cell_type": "code",
   "execution_count": 49,
   "metadata": {},
   "outputs": [
    {
     "ename": "ValueError",
     "evalue": "Invalid rrule byxxx generates an empty set.",
     "output_type": "error",
     "traceback": [
      "\u001b[0;31m---------------------------------------------------------------------------\u001b[0m",
      "\u001b[0;31mValueError\u001b[0m                                Traceback (most recent call last)",
      "\u001b[0;32m<ipython-input-49-8cdfffeb5de7>\u001b[0m in \u001b[0;36m<module>\u001b[0;34m\u001b[0m\n\u001b[0;32m----> 1\u001b[0;31m \u001b[0mloc1\u001b[0m \u001b[0;34m=\u001b[0m \u001b[0mmdates\u001b[0m\u001b[0;34m.\u001b[0m\u001b[0mMinuteLocator\u001b[0m\u001b[0;34m(\u001b[0m\u001b[0mbyminute\u001b[0m\u001b[0;34m=\u001b[0m\u001b[0;36m30\u001b[0m\u001b[0;34m,\u001b[0m\u001b[0minterval\u001b[0m\u001b[0;34m=\u001b[0m\u001b[0;36m30\u001b[0m\u001b[0;34m)\u001b[0m\u001b[0;34m\u001b[0m\u001b[0;34m\u001b[0m\u001b[0m\n\u001b[0m\u001b[1;32m      2\u001b[0m \u001b[0;34m\u001b[0m\u001b[0m\n\u001b[1;32m      3\u001b[0m \u001b[0mvmin\u001b[0m \u001b[0;34m=\u001b[0m \u001b[0mdp\u001b[0m\u001b[0;34m.\u001b[0m\u001b[0mparse\u001b[0m\u001b[0;34m(\u001b[0m\u001b[0;34m'2021-02-01 07:00'\u001b[0m\u001b[0;34m)\u001b[0m\u001b[0;34m\u001b[0m\u001b[0;34m\u001b[0m\u001b[0m\n\u001b[1;32m      4\u001b[0m \u001b[0mvmax\u001b[0m \u001b[0;34m=\u001b[0m \u001b[0mdp\u001b[0m\u001b[0;34m.\u001b[0m\u001b[0mparse\u001b[0m\u001b[0;34m(\u001b[0m\u001b[0;34m'2021-02-01 16:00'\u001b[0m\u001b[0;34m)\u001b[0m\u001b[0;34m\u001b[0m\u001b[0;34m\u001b[0m\u001b[0m\n\u001b[1;32m      5\u001b[0m \u001b[0;34m\u001b[0m\u001b[0m\n",
      "\u001b[0;32m~/.local/lib/python3.8/site-packages/matplotlib/dates.py\u001b[0m in \u001b[0;36m__init__\u001b[0;34m(self, byminute, interval, tz)\u001b[0m\n\u001b[1;32m   1660\u001b[0m             \u001b[0mbyminute\u001b[0m \u001b[0;34m=\u001b[0m \u001b[0mrange\u001b[0m\u001b[0;34m(\u001b[0m\u001b[0;36m60\u001b[0m\u001b[0;34m)\u001b[0m\u001b[0;34m\u001b[0m\u001b[0;34m\u001b[0m\u001b[0m\n\u001b[1;32m   1661\u001b[0m \u001b[0;34m\u001b[0m\u001b[0m\n\u001b[0;32m-> 1662\u001b[0;31m         rule = rrulewrapper(MINUTELY, byminute=byminute, interval=interval,\n\u001b[0m\u001b[1;32m   1663\u001b[0m                             bysecond=0)\n\u001b[1;32m   1664\u001b[0m         \u001b[0mRRuleLocator\u001b[0m\u001b[0;34m.\u001b[0m\u001b[0m__init__\u001b[0m\u001b[0;34m(\u001b[0m\u001b[0mself\u001b[0m\u001b[0;34m,\u001b[0m \u001b[0mrule\u001b[0m\u001b[0;34m,\u001b[0m \u001b[0mtz\u001b[0m\u001b[0;34m)\u001b[0m\u001b[0;34m\u001b[0m\u001b[0;34m\u001b[0m\u001b[0m\n",
      "\u001b[0;32m~/.local/lib/python3.8/site-packages/matplotlib/dates.py\u001b[0m in \u001b[0;36m__init__\u001b[0;34m(self, freq, tzinfo, **kwargs)\u001b[0m\n\u001b[1;32m    940\u001b[0m         \u001b[0mself\u001b[0m\u001b[0;34m.\u001b[0m\u001b[0m_base_tzinfo\u001b[0m \u001b[0;34m=\u001b[0m \u001b[0mtzinfo\u001b[0m\u001b[0;34m\u001b[0m\u001b[0;34m\u001b[0m\u001b[0m\n\u001b[1;32m    941\u001b[0m \u001b[0;34m\u001b[0m\u001b[0m\n\u001b[0;32m--> 942\u001b[0;31m         \u001b[0mself\u001b[0m\u001b[0;34m.\u001b[0m\u001b[0m_update_rrule\u001b[0m\u001b[0;34m(\u001b[0m\u001b[0;34m**\u001b[0m\u001b[0mkwargs\u001b[0m\u001b[0;34m)\u001b[0m\u001b[0;34m\u001b[0m\u001b[0;34m\u001b[0m\u001b[0m\n\u001b[0m\u001b[1;32m    943\u001b[0m \u001b[0;34m\u001b[0m\u001b[0m\n\u001b[1;32m    944\u001b[0m     \u001b[0;32mdef\u001b[0m \u001b[0mset\u001b[0m\u001b[0;34m(\u001b[0m\u001b[0mself\u001b[0m\u001b[0;34m,\u001b[0m \u001b[0;34m**\u001b[0m\u001b[0mkwargs\u001b[0m\u001b[0;34m)\u001b[0m\u001b[0;34m:\u001b[0m\u001b[0;34m\u001b[0m\u001b[0;34m\u001b[0m\u001b[0m\n",
      "\u001b[0;32m~/.local/lib/python3.8/site-packages/matplotlib/dates.py\u001b[0m in \u001b[0;36m_update_rrule\u001b[0;34m(self, **kwargs)\u001b[0m\n\u001b[1;32m    976\u001b[0m         \u001b[0mself\u001b[0m\u001b[0;34m.\u001b[0m\u001b[0m_construct\u001b[0m \u001b[0;34m=\u001b[0m \u001b[0mkwargs\u001b[0m\u001b[0;34m.\u001b[0m\u001b[0mcopy\u001b[0m\u001b[0;34m(\u001b[0m\u001b[0;34m)\u001b[0m\u001b[0;34m\u001b[0m\u001b[0;34m\u001b[0m\u001b[0m\n\u001b[1;32m    977\u001b[0m         \u001b[0mself\u001b[0m\u001b[0;34m.\u001b[0m\u001b[0m_tzinfo\u001b[0m \u001b[0;34m=\u001b[0m \u001b[0mtzinfo\u001b[0m\u001b[0;34m\u001b[0m\u001b[0;34m\u001b[0m\u001b[0m\n\u001b[0;32m--> 978\u001b[0;31m         \u001b[0mself\u001b[0m\u001b[0;34m.\u001b[0m\u001b[0m_rrule\u001b[0m \u001b[0;34m=\u001b[0m \u001b[0mrrule\u001b[0m\u001b[0;34m(\u001b[0m\u001b[0;34m**\u001b[0m\u001b[0mself\u001b[0m\u001b[0;34m.\u001b[0m\u001b[0m_construct\u001b[0m\u001b[0;34m)\u001b[0m\u001b[0;34m\u001b[0m\u001b[0;34m\u001b[0m\u001b[0m\n\u001b[0m\u001b[1;32m    979\u001b[0m \u001b[0;34m\u001b[0m\u001b[0m\n\u001b[1;32m    980\u001b[0m     \u001b[0;32mdef\u001b[0m \u001b[0m_attach_tzinfo\u001b[0m\u001b[0;34m(\u001b[0m\u001b[0mself\u001b[0m\u001b[0;34m,\u001b[0m \u001b[0mdt\u001b[0m\u001b[0;34m,\u001b[0m \u001b[0mtzinfo\u001b[0m\u001b[0;34m)\u001b[0m\u001b[0;34m:\u001b[0m\u001b[0;34m\u001b[0m\u001b[0;34m\u001b[0m\u001b[0m\n",
      "\u001b[0;32m~/.local/lib/python3.8/site-packages/dateutil/rrule.py\u001b[0m in \u001b[0;36m__init__\u001b[0;34m(self, freq, dtstart, interval, wkst, count, until, bysetpos, bymonth, bymonthday, byyearday, byeaster, byweekno, byweekday, byhour, byminute, bysecond, cache)\u001b[0m\n\u001b[1;32m    652\u001b[0m \u001b[0;34m\u001b[0m\u001b[0m\n\u001b[1;32m    653\u001b[0m             \u001b[0;32mif\u001b[0m \u001b[0mfreq\u001b[0m \u001b[0;34m==\u001b[0m \u001b[0mMINUTELY\u001b[0m\u001b[0;34m:\u001b[0m\u001b[0;34m\u001b[0m\u001b[0;34m\u001b[0m\u001b[0m\n\u001b[0;32m--> 654\u001b[0;31m                 self._byminute = self.__construct_byset(start=dtstart.minute,\n\u001b[0m\u001b[1;32m    655\u001b[0m                                                         \u001b[0mbyxxx\u001b[0m\u001b[0;34m=\u001b[0m\u001b[0mbyminute\u001b[0m\u001b[0;34m,\u001b[0m\u001b[0;34m\u001b[0m\u001b[0;34m\u001b[0m\u001b[0m\n\u001b[1;32m    656\u001b[0m                                                         base=60)\n",
      "\u001b[0;32m~/.local/lib/python3.8/site-packages/dateutil/rrule.py\u001b[0m in \u001b[0;36m__construct_byset\u001b[0;34m(self, start, byxxx, base)\u001b[0m\n\u001b[1;32m   1071\u001b[0m \u001b[0;34m\u001b[0m\u001b[0m\n\u001b[1;32m   1072\u001b[0m         \u001b[0;32mif\u001b[0m \u001b[0mlen\u001b[0m\u001b[0;34m(\u001b[0m\u001b[0mcset\u001b[0m\u001b[0;34m)\u001b[0m \u001b[0;34m==\u001b[0m \u001b[0;36m0\u001b[0m\u001b[0;34m:\u001b[0m\u001b[0;34m\u001b[0m\u001b[0;34m\u001b[0m\u001b[0m\n\u001b[0;32m-> 1073\u001b[0;31m             \u001b[0;32mraise\u001b[0m \u001b[0mValueError\u001b[0m\u001b[0;34m(\u001b[0m\u001b[0;34m\"Invalid rrule byxxx generates an empty set.\"\u001b[0m\u001b[0;34m)\u001b[0m\u001b[0;34m\u001b[0m\u001b[0;34m\u001b[0m\u001b[0m\n\u001b[0m\u001b[1;32m   1074\u001b[0m \u001b[0;34m\u001b[0m\u001b[0m\n\u001b[1;32m   1075\u001b[0m         \u001b[0;32mreturn\u001b[0m \u001b[0mcset\u001b[0m\u001b[0;34m\u001b[0m\u001b[0;34m\u001b[0m\u001b[0m\n",
      "\u001b[0;31mValueError\u001b[0m: Invalid rrule byxxx generates an empty set."
     ]
    }
   ],
   "source": [
    "loc1 = mdates.MinuteLocator(byminute=30,interval=30)\n",
    "\n",
    "vmin = dp.parse('2021-02-01 07:00')\n",
    "vmax = dp.parse('2021-02-01 16:00')\n",
    "\n",
    "ticks = loc1.tick_values(vmin, vmax)\n",
    "print('ticks=')\n",
    "for dt in mdates.num2date(ticks):\n",
    "    print(dt)"
   ]
  },
  {
   "cell_type": "code",
   "execution_count": null,
   "metadata": {},
   "outputs": [],
   "source": [
    "loc2 = mdates.MinuteLocator(byminute=30,interval=1)\n",
    "ticks = loc2.tick_values(vmin, vmax)\n",
    "print('ticks=')\n",
    "for dt in mdates.num2date(ticks):\n",
    "    print(dt)"
   ]
  },
  {
   "cell_type": "code",
   "execution_count": null,
   "metadata": {},
   "outputs": [],
   "source": [
    "vmin = dp.parse('2019-11-05 09:30:00')\n",
    "vmax = dp.parse('2019-11-08 15:59:00')\n",
    "print('vmin=',vmin,' vmax=',vmax)\n",
    "print('type(vmin)=',type(vmin))\n",
    "\n",
    "ticks = loc.tick_values(vmin, vmax)\n",
    "print('ticks=')\n",
    "for dt in mdates.num2date(ticks):\n",
    "    print(dt)\n",
    "\n",
    "df = pd.read_csv('examples/data/SP500_NOV2019_IDay.csv',index_col=0,parse_dates=True)\n",
    "print('df.shape=',df.shape)\n",
    "print('df.head(2)=',df.head(2))\n",
    "print('df.tail(2)=',df.tail(2))\n",
    "\n",
    "pydtm = df.index.to_pydatetime()\n",
    "#  loc = mdates.HourLocator(byhour=pydtm,interval=3)\n",
    "loc = mdates.HourLocator(byhour=(10,12,14,16),interval=1)\n",
    "\n",
    "ticks = loc.tick_values(pydtm[0],pydtm[-1])\n",
    "print('ticks=')\n",
    "for dt in mdates.num2date(ticks):\n",
    "    print(dt)\n",
    "\n"
   ]
  },
  {
   "cell_type": "code",
   "execution_count": null,
   "metadata": {},
   "outputs": [],
   "source": []
  },
  {
   "cell_type": "code",
   "execution_count": 50,
   "metadata": {},
   "outputs": [],
   "source": [
    "import datetime\n",
    "from   dateutil import parser as dp\n",
    "from   dateutil import rrule as rr\n",
    "import dateutil.relativedelta as rd"
   ]
  },
  {
   "cell_type": "code",
   "execution_count": 34,
   "metadata": {},
   "outputs": [],
   "source": [
    "vmin = dp.parse('2019-11-05 09:30:00')\n",
    "#vmax = dp.parse('2019-11-08 15:59:00')\n",
    "vmax = dp.parse('2019-11-05 15:59:00')"
   ]
  },
  {
   "cell_type": "code",
   "execution_count": 52,
   "metadata": {},
   "outputs": [
    {
     "data": {
      "text/plain": [
       "dateutil.relativedelta.relativedelta"
      ]
     },
     "execution_count": 52,
     "metadata": {},
     "output_type": "execute_result"
    },
    {
     "data": {
      "text/plain": [
       "relativedelta(hours=-6, minutes=-30)"
      ]
     },
     "execution_count": 52,
     "metadata": {},
     "output_type": "execute_result"
    }
   ],
   "source": [
    "delta = rd.relativedelta(vmin,vmax)\n",
    "type(delta)\n",
    "delta"
   ]
  },
  {
   "cell_type": "code",
   "execution_count": 63,
   "metadata": {},
   "outputs": [
    {
     "data": {
      "text/plain": [
       "dateutil.rrule.rrule"
      ]
     },
     "execution_count": 63,
     "metadata": {},
     "output_type": "execute_result"
    },
    {
     "data": {
      "text/plain": [
       "datetime.datetime(2021, 2, 1, 9, 30)"
      ]
     },
     "execution_count": 63,
     "metadata": {},
     "output_type": "execute_result"
    },
    {
     "data": {
      "text/plain": [
       "datetime.datetime(2021, 2, 1, 11, 30)"
      ]
     },
     "execution_count": 63,
     "metadata": {},
     "output_type": "execute_result"
    },
    {
     "data": {
      "text/plain": [
       "datetime.datetime(2021, 2, 1, 13, 30)"
      ]
     },
     "execution_count": 63,
     "metadata": {},
     "output_type": "execute_result"
    },
    {
     "data": {
      "text/plain": [
       "datetime.datetime(2021, 2, 1, 15, 30)"
      ]
     },
     "execution_count": 63,
     "metadata": {},
     "output_type": "execute_result"
    },
    {
     "ename": "StopIteration",
     "evalue": "",
     "output_type": "error",
     "traceback": [
      "\u001b[0;31m---------------------------------------------------------------------------\u001b[0m",
      "\u001b[0;31mStopIteration\u001b[0m                             Traceback (most recent call last)",
      "\u001b[0;32m<ipython-input-63-dc9e1284f961>\u001b[0m in \u001b[0;36m<module>\u001b[0;34m\u001b[0m\n\u001b[1;32m      9\u001b[0m \u001b[0mri\u001b[0m\u001b[0;34m.\u001b[0m\u001b[0m__next__\u001b[0m\u001b[0;34m(\u001b[0m\u001b[0;34m)\u001b[0m\u001b[0;34m\u001b[0m\u001b[0;34m\u001b[0m\u001b[0m\n\u001b[1;32m     10\u001b[0m \u001b[0mri\u001b[0m\u001b[0;34m.\u001b[0m\u001b[0m__next__\u001b[0m\u001b[0;34m(\u001b[0m\u001b[0;34m)\u001b[0m\u001b[0;34m\u001b[0m\u001b[0;34m\u001b[0m\u001b[0m\n\u001b[0;32m---> 11\u001b[0;31m \u001b[0mri\u001b[0m\u001b[0;34m.\u001b[0m\u001b[0m__next__\u001b[0m\u001b[0;34m(\u001b[0m\u001b[0;34m)\u001b[0m\u001b[0;34m\u001b[0m\u001b[0;34m\u001b[0m\u001b[0m\n\u001b[0m",
      "\u001b[0;31mStopIteration\u001b[0m: "
     ]
    }
   ],
   "source": [
    "r = rr.rrule(freq=rr.MINUTELY,dtstart=vmin,until=vmax,interval=120)\n",
    "\n",
    "type(r)\n",
    "\n",
    "ri = r.__iter__()\n",
    "\n",
    "ri.__next__()\n",
    "ri.__next__()\n",
    "ri.__next__()\n",
    "ri.__next__()\n",
    "ri.__next__()"
   ]
  },
  {
   "cell_type": "code",
   "execution_count": null,
   "metadata": {},
   "outputs": [],
   "source": []
  },
  {
   "cell_type": "code",
   "execution_count": null,
   "metadata": {},
   "outputs": [],
   "source": []
  },
  {
   "cell_type": "code",
   "execution_count": 64,
   "metadata": {},
   "outputs": [
    {
     "data": {
      "text/plain": [
       "[datetime.datetime(2021, 2, 1, 9, 30),\n",
       " datetime.datetime(2021, 2, 1, 11, 30),\n",
       " datetime.datetime(2021, 2, 1, 13, 30),\n",
       " datetime.datetime(2021, 2, 1, 15, 30)]"
      ]
     },
     "execution_count": 64,
     "metadata": {},
     "output_type": "execute_result"
    }
   ],
   "source": [
    "list(rr.rrule(freq=rr.MINUTELY,dtstart=vmin,until=vmax,interval=120))"
   ]
  },
  {
   "cell_type": "code",
   "execution_count": 73,
   "metadata": {},
   "outputs": [
    {
     "data": {
      "text/plain": [
       "relativedelta(hours=-6, minutes=-29)"
      ]
     },
     "execution_count": 73,
     "metadata": {},
     "output_type": "execute_result"
    },
    {
     "data": {
      "text/plain": [
       "relativedelta(hours=+1, minutes=+5)"
      ]
     },
     "execution_count": 73,
     "metadata": {},
     "output_type": "execute_result"
    },
    {
     "name": "stdout",
     "output_type": "stream",
     "text": [
      "vmin= 2019-11-05 09:30:00  vmax= 2019-11-05 15:59:00\n",
      "vmin= 2019-11-05 08:25:00  vmax= 2019-11-05 17:04:00\n"
     ]
    }
   ],
   "source": [
    "vmin = dp.parse('2019-11-05 09:30:00')\n",
    "vmax = dp.parse('2019-11-05 15:59:00')\n",
    "\n",
    "delta = rd.relativedelta(vmin,vmax)\n",
    "delta\n",
    "delta = - delta / 5.0\n",
    "delta\n",
    "print('vmin=',vmin,' vmax=',vmax)\n",
    "vmin = vmin - delta\n",
    "vmax = vmax + delta\n",
    "print('vmin=',vmin,' vmax=',vmax)"
   ]
  },
  {
   "cell_type": "code",
   "execution_count": 75,
   "metadata": {},
   "outputs": [
    {
     "data": {
      "text/plain": [
       "[datetime.datetime(2019, 11, 5, 8, 25),\n",
       " datetime.datetime(2019, 11, 5, 10, 25),\n",
       " datetime.datetime(2019, 11, 5, 12, 25),\n",
       " datetime.datetime(2019, 11, 5, 14, 25),\n",
       " datetime.datetime(2019, 11, 5, 16, 25)]"
      ]
     },
     "execution_count": 75,
     "metadata": {},
     "output_type": "execute_result"
    }
   ],
   "source": [
    "#list(rr.rrule(freq=rr.MINUTELY,byminute=30,dtstart=vmin,until=vmax,interval=120))\n",
    "list(rr.rrule(freq=rr.MINUTELY,dtstart=vmin,until=vmax,interval=120))"
   ]
  },
  {
   "cell_type": "code",
   "execution_count": 76,
   "metadata": {},
   "outputs": [
    {
     "name": "stdout",
     "output_type": "stream",
     "text": [
      "interval = 1  ticks=\n",
      "2021-02-01 09:30:00+00:00\n",
      "2021-02-01 09:40:00+00:00\n",
      "2021-02-01 09:50:00+00:00\n",
      "2021-02-01 10:00:00+00:00\n",
      "2021-02-01 10:10:00+00:00\n",
      "2021-02-01 10:20:00+00:00\n",
      "2021-02-01 10:30:00+00:00\n",
      "2021-02-01 10:40:00+00:00\n",
      "2021-02-01 10:50:00+00:00\n",
      "2021-02-01 11:00:00+00:00\n",
      "2021-02-01 11:10:00+00:00\n",
      "2021-02-01 11:20:00+00:00\n",
      "2021-02-01 11:30:00+00:00\n",
      "2021-02-01 11:40:00+00:00\n",
      "2021-02-01 11:50:00+00:00\n",
      "2021-02-01 12:00:00+00:00\n",
      "2021-02-01 12:10:00+00:00\n",
      "2021-02-01 12:20:00+00:00\n",
      "2021-02-01 12:30:00+00:00\n",
      "2021-02-01 12:40:00+00:00\n",
      "2021-02-01 12:50:00+00:00\n",
      "2021-02-01 13:00:00+00:00\n",
      "2021-02-01 13:10:00+00:00\n",
      "2021-02-01 13:20:00+00:00\n",
      "2021-02-01 13:30:00+00:00\n",
      "2021-02-01 13:40:00+00:00\n",
      "2021-02-01 13:50:00+00:00\n",
      "2021-02-01 14:00:00+00:00\n",
      "2021-02-01 14:10:00+00:00\n",
      "2021-02-01 14:20:00+00:00\n",
      "2021-02-01 14:30:00+00:00\n",
      "2021-02-01 14:40:00+00:00\n",
      "2021-02-01 14:50:00+00:00\n",
      "2021-02-01 15:00:00+00:00\n",
      "2021-02-01 15:10:00+00:00\n",
      "2021-02-01 15:20:00+00:00\n",
      "2021-02-01 15:30:00+00:00\n",
      "2021-02-01 15:40:00+00:00\n",
      "2021-02-01 15:50:00+00:00\n",
      "2021-02-01 16:00:00+00:00\n",
      "\n",
      "interval = 3  ticks=\n",
      "2021-02-01 09:30:00+00:00\n",
      "2021-02-01 10:00:00+00:00\n",
      "2021-02-01 10:30:00+00:00\n",
      "2021-02-01 11:00:00+00:00\n",
      "2021-02-01 11:30:00+00:00\n",
      "2021-02-01 12:00:00+00:00\n",
      "2021-02-01 12:30:00+00:00\n",
      "2021-02-01 13:00:00+00:00\n",
      "2021-02-01 13:30:00+00:00\n",
      "2021-02-01 14:00:00+00:00\n",
      "2021-02-01 14:30:00+00:00\n",
      "2021-02-01 15:00:00+00:00\n",
      "2021-02-01 15:30:00+00:00\n",
      "2021-02-01 16:00:00+00:00\n",
      "\n",
      "interval = 20  ticks=\n"
     ]
    },
    {
     "ename": "ValueError",
     "evalue": "Invalid rrule byxxx generates an empty set.",
     "output_type": "error",
     "traceback": [
      "\u001b[0;31m---------------------------------------------------------------------------\u001b[0m",
      "\u001b[0;31mValueError\u001b[0m                                Traceback (most recent call last)",
      "\u001b[0;32m<ipython-input-76-028ba2c26186>\u001b[0m in \u001b[0;36m<module>\u001b[0;34m\u001b[0m\n\u001b[1;32m     14\u001b[0m \u001b[0;32mfor\u001b[0m \u001b[0minterval\u001b[0m \u001b[0;32min\u001b[0m \u001b[0;34m(\u001b[0m\u001b[0;36m1\u001b[0m\u001b[0;34m,\u001b[0m\u001b[0;36m3\u001b[0m\u001b[0;34m,\u001b[0m\u001b[0;36m20\u001b[0m\u001b[0;34m)\u001b[0m\u001b[0;34m:\u001b[0m\u001b[0;34m\u001b[0m\u001b[0;34m\u001b[0m\u001b[0m\n\u001b[1;32m     15\u001b[0m     \u001b[0mprint\u001b[0m\u001b[0;34m(\u001b[0m\u001b[0;34m'interval ='\u001b[0m\u001b[0;34m,\u001b[0m\u001b[0minterval\u001b[0m\u001b[0;34m,\u001b[0m\u001b[0;34m' ticks='\u001b[0m\u001b[0;34m)\u001b[0m\u001b[0;34m\u001b[0m\u001b[0;34m\u001b[0m\u001b[0m\n\u001b[0;32m---> 16\u001b[0;31m     \u001b[0mloc\u001b[0m \u001b[0;34m=\u001b[0m \u001b[0mmdates\u001b[0m\u001b[0;34m.\u001b[0m\u001b[0mMinuteLocator\u001b[0m\u001b[0;34m(\u001b[0m\u001b[0;34m[\u001b[0m\u001b[0;36m0\u001b[0m\u001b[0;34m,\u001b[0m\u001b[0;36m10\u001b[0m\u001b[0;34m,\u001b[0m\u001b[0;36m20\u001b[0m\u001b[0;34m,\u001b[0m\u001b[0;36m30\u001b[0m\u001b[0;34m,\u001b[0m\u001b[0;36m40\u001b[0m\u001b[0;34m,\u001b[0m\u001b[0;36m50\u001b[0m\u001b[0;34m]\u001b[0m\u001b[0;34m,\u001b[0m\u001b[0minterval\u001b[0m\u001b[0;34m=\u001b[0m\u001b[0minterval\u001b[0m\u001b[0;34m)\u001b[0m\u001b[0;34m\u001b[0m\u001b[0;34m\u001b[0m\u001b[0m\n\u001b[0m\u001b[1;32m     17\u001b[0m     \u001b[0mticks\u001b[0m \u001b[0;34m=\u001b[0m \u001b[0mloc\u001b[0m\u001b[0;34m.\u001b[0m\u001b[0mtick_values\u001b[0m\u001b[0;34m(\u001b[0m\u001b[0mvmin\u001b[0m\u001b[0;34m,\u001b[0m \u001b[0mvmax\u001b[0m\u001b[0;34m)\u001b[0m\u001b[0;34m\u001b[0m\u001b[0;34m\u001b[0m\u001b[0m\n\u001b[1;32m     18\u001b[0m     \u001b[0;32mfor\u001b[0m \u001b[0mdt\u001b[0m \u001b[0;32min\u001b[0m \u001b[0mmdates\u001b[0m\u001b[0;34m.\u001b[0m\u001b[0mnum2date\u001b[0m\u001b[0;34m(\u001b[0m\u001b[0mticks\u001b[0m\u001b[0;34m)\u001b[0m\u001b[0;34m:\u001b[0m\u001b[0;34m\u001b[0m\u001b[0;34m\u001b[0m\u001b[0m\n",
      "\u001b[0;32m~/.local/lib/python3.8/site-packages/matplotlib/dates.py\u001b[0m in \u001b[0;36m__init__\u001b[0;34m(self, byminute, interval, tz)\u001b[0m\n\u001b[1;32m   1660\u001b[0m             \u001b[0mbyminute\u001b[0m \u001b[0;34m=\u001b[0m \u001b[0mrange\u001b[0m\u001b[0;34m(\u001b[0m\u001b[0;36m60\u001b[0m\u001b[0;34m)\u001b[0m\u001b[0;34m\u001b[0m\u001b[0;34m\u001b[0m\u001b[0m\n\u001b[1;32m   1661\u001b[0m \u001b[0;34m\u001b[0m\u001b[0m\n\u001b[0;32m-> 1662\u001b[0;31m         rule = rrulewrapper(MINUTELY, byminute=byminute, interval=interval,\n\u001b[0m\u001b[1;32m   1663\u001b[0m                             bysecond=0)\n\u001b[1;32m   1664\u001b[0m         \u001b[0mRRuleLocator\u001b[0m\u001b[0;34m.\u001b[0m\u001b[0m__init__\u001b[0m\u001b[0;34m(\u001b[0m\u001b[0mself\u001b[0m\u001b[0;34m,\u001b[0m \u001b[0mrule\u001b[0m\u001b[0;34m,\u001b[0m \u001b[0mtz\u001b[0m\u001b[0;34m)\u001b[0m\u001b[0;34m\u001b[0m\u001b[0;34m\u001b[0m\u001b[0m\n",
      "\u001b[0;32m~/.local/lib/python3.8/site-packages/matplotlib/dates.py\u001b[0m in \u001b[0;36m__init__\u001b[0;34m(self, freq, tzinfo, **kwargs)\u001b[0m\n\u001b[1;32m    940\u001b[0m         \u001b[0mself\u001b[0m\u001b[0;34m.\u001b[0m\u001b[0m_base_tzinfo\u001b[0m \u001b[0;34m=\u001b[0m \u001b[0mtzinfo\u001b[0m\u001b[0;34m\u001b[0m\u001b[0;34m\u001b[0m\u001b[0m\n\u001b[1;32m    941\u001b[0m \u001b[0;34m\u001b[0m\u001b[0m\n\u001b[0;32m--> 942\u001b[0;31m         \u001b[0mself\u001b[0m\u001b[0;34m.\u001b[0m\u001b[0m_update_rrule\u001b[0m\u001b[0;34m(\u001b[0m\u001b[0;34m**\u001b[0m\u001b[0mkwargs\u001b[0m\u001b[0;34m)\u001b[0m\u001b[0;34m\u001b[0m\u001b[0;34m\u001b[0m\u001b[0m\n\u001b[0m\u001b[1;32m    943\u001b[0m \u001b[0;34m\u001b[0m\u001b[0m\n\u001b[1;32m    944\u001b[0m     \u001b[0;32mdef\u001b[0m \u001b[0mset\u001b[0m\u001b[0;34m(\u001b[0m\u001b[0mself\u001b[0m\u001b[0;34m,\u001b[0m \u001b[0;34m**\u001b[0m\u001b[0mkwargs\u001b[0m\u001b[0;34m)\u001b[0m\u001b[0;34m:\u001b[0m\u001b[0;34m\u001b[0m\u001b[0;34m\u001b[0m\u001b[0m\n",
      "\u001b[0;32m~/.local/lib/python3.8/site-packages/matplotlib/dates.py\u001b[0m in \u001b[0;36m_update_rrule\u001b[0;34m(self, **kwargs)\u001b[0m\n\u001b[1;32m    976\u001b[0m         \u001b[0mself\u001b[0m\u001b[0;34m.\u001b[0m\u001b[0m_construct\u001b[0m \u001b[0;34m=\u001b[0m \u001b[0mkwargs\u001b[0m\u001b[0;34m.\u001b[0m\u001b[0mcopy\u001b[0m\u001b[0;34m(\u001b[0m\u001b[0;34m)\u001b[0m\u001b[0;34m\u001b[0m\u001b[0;34m\u001b[0m\u001b[0m\n\u001b[1;32m    977\u001b[0m         \u001b[0mself\u001b[0m\u001b[0;34m.\u001b[0m\u001b[0m_tzinfo\u001b[0m \u001b[0;34m=\u001b[0m \u001b[0mtzinfo\u001b[0m\u001b[0;34m\u001b[0m\u001b[0;34m\u001b[0m\u001b[0m\n\u001b[0;32m--> 978\u001b[0;31m         \u001b[0mself\u001b[0m\u001b[0;34m.\u001b[0m\u001b[0m_rrule\u001b[0m \u001b[0;34m=\u001b[0m \u001b[0mrrule\u001b[0m\u001b[0;34m(\u001b[0m\u001b[0;34m**\u001b[0m\u001b[0mself\u001b[0m\u001b[0;34m.\u001b[0m\u001b[0m_construct\u001b[0m\u001b[0;34m)\u001b[0m\u001b[0;34m\u001b[0m\u001b[0;34m\u001b[0m\u001b[0m\n\u001b[0m\u001b[1;32m    979\u001b[0m \u001b[0;34m\u001b[0m\u001b[0m\n\u001b[1;32m    980\u001b[0m     \u001b[0;32mdef\u001b[0m \u001b[0m_attach_tzinfo\u001b[0m\u001b[0;34m(\u001b[0m\u001b[0mself\u001b[0m\u001b[0;34m,\u001b[0m \u001b[0mdt\u001b[0m\u001b[0;34m,\u001b[0m \u001b[0mtzinfo\u001b[0m\u001b[0;34m)\u001b[0m\u001b[0;34m:\u001b[0m\u001b[0;34m\u001b[0m\u001b[0;34m\u001b[0m\u001b[0m\n",
      "\u001b[0;32m~/.local/lib/python3.8/site-packages/dateutil/rrule.py\u001b[0m in \u001b[0;36m__init__\u001b[0;34m(self, freq, dtstart, interval, wkst, count, until, bysetpos, bymonth, bymonthday, byyearday, byeaster, byweekno, byweekday, byhour, byminute, bysecond, cache)\u001b[0m\n\u001b[1;32m    652\u001b[0m \u001b[0;34m\u001b[0m\u001b[0m\n\u001b[1;32m    653\u001b[0m             \u001b[0;32mif\u001b[0m \u001b[0mfreq\u001b[0m \u001b[0;34m==\u001b[0m \u001b[0mMINUTELY\u001b[0m\u001b[0;34m:\u001b[0m\u001b[0;34m\u001b[0m\u001b[0;34m\u001b[0m\u001b[0m\n\u001b[0;32m--> 654\u001b[0;31m                 self._byminute = self.__construct_byset(start=dtstart.minute,\n\u001b[0m\u001b[1;32m    655\u001b[0m                                                         \u001b[0mbyxxx\u001b[0m\u001b[0;34m=\u001b[0m\u001b[0mbyminute\u001b[0m\u001b[0;34m,\u001b[0m\u001b[0;34m\u001b[0m\u001b[0;34m\u001b[0m\u001b[0m\n\u001b[1;32m    656\u001b[0m                                                         base=60)\n",
      "\u001b[0;32m~/.local/lib/python3.8/site-packages/dateutil/rrule.py\u001b[0m in \u001b[0;36m__construct_byset\u001b[0;34m(self, start, byxxx, base)\u001b[0m\n\u001b[1;32m   1071\u001b[0m \u001b[0;34m\u001b[0m\u001b[0m\n\u001b[1;32m   1072\u001b[0m         \u001b[0;32mif\u001b[0m \u001b[0mlen\u001b[0m\u001b[0;34m(\u001b[0m\u001b[0mcset\u001b[0m\u001b[0;34m)\u001b[0m \u001b[0;34m==\u001b[0m \u001b[0;36m0\u001b[0m\u001b[0;34m:\u001b[0m\u001b[0;34m\u001b[0m\u001b[0;34m\u001b[0m\u001b[0m\n\u001b[0;32m-> 1073\u001b[0;31m             \u001b[0;32mraise\u001b[0m \u001b[0mValueError\u001b[0m\u001b[0;34m(\u001b[0m\u001b[0;34m\"Invalid rrule byxxx generates an empty set.\"\u001b[0m\u001b[0;34m)\u001b[0m\u001b[0;34m\u001b[0m\u001b[0;34m\u001b[0m\u001b[0m\n\u001b[0m\u001b[1;32m   1074\u001b[0m \u001b[0;34m\u001b[0m\u001b[0m\n\u001b[1;32m   1075\u001b[0m         \u001b[0;32mreturn\u001b[0m \u001b[0mcset\u001b[0m\u001b[0;34m\u001b[0m\u001b[0;34m\u001b[0m\u001b[0m\n",
      "\u001b[0;31mValueError\u001b[0m: Invalid rrule byxxx generates an empty set."
     ]
    }
   ],
   "source": [
    "import matplotlib.dates as mdates\n",
    "from   dateutil import parser as dp\n",
    "\n",
    "vmin = dp.parse('2021-02-01 09:30')\n",
    "vmax = dp.parse('2021-02-01 16:00')\n",
    "\n",
    "loc = mdates.MinuteLocator(30,interval=1)\n",
    "\n",
    "##  ticks = loc.tick_values(vmin, vmax)\n",
    "##  print('ticks=')\n",
    "##  for dt in mdates.num2date(ticks):\n",
    "##      print(dt)\n",
    "\n",
    "for interval in (1,3,20):\n",
    "    print('interval =',interval,' ticks=')\n",
    "    loc = mdates.MinuteLocator([0,10,20,30,40,50],interval=interval)\n",
    "    ticks = loc.tick_values(vmin, vmax)\n",
    "    for dt in mdates.num2date(ticks):\n",
    "        print(dt)\n",
    "    print()"
   ]
  },
  {
   "cell_type": "code",
   "execution_count": null,
   "metadata": {},
   "outputs": [],
   "source": []
  }
 ],
 "metadata": {
  "kernelspec": {
   "display_name": "Python 3",
   "language": "python",
   "name": "python3"
  },
  "language_info": {
   "codemirror_mode": {
    "name": "ipython",
    "version": 3
   },
   "file_extension": ".py",
   "mimetype": "text/x-python",
   "name": "python",
   "nbconvert_exporter": "python",
   "pygments_lexer": "ipython3",
   "version": "3.8.5"
  }
 },
 "nbformat": 4,
 "nbformat_minor": 2
}
