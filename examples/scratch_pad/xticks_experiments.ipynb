{
 "cells": [
  {
   "cell_type": "markdown",
   "metadata": {},
   "source": [
    "---\n",
    "\n",
    "#  mplfinance xticks experiments\n",
    "\n",
    "---"
   ]
  },
  {
   "cell_type": "code",
   "execution_count": 1,
   "metadata": {},
   "outputs": [],
   "source": [
    "# This allows multiple outputs from a single jupyter notebook cell:\n",
    "from IPython.core.interactiveshell import InteractiveShell\n",
    "InteractiveShell.ast_node_interactivity = \"all\""
   ]
  },
  {
   "cell_type": "code",
   "execution_count": 2,
   "metadata": {},
   "outputs": [],
   "source": [
    "%matplotlib inline\n",
    "import pandas as pd"
   ]
  },
  {
   "cell_type": "markdown",
   "metadata": {},
   "source": [
    "### Read in daily data for the S&P 500 from November of 2019 "
   ]
  },
  {
   "cell_type": "code",
   "execution_count": 3,
   "metadata": {},
   "outputs": [
    {
     "data": {
      "text/plain": [
       "(1563, 5)"
      ]
     },
     "execution_count": 3,
     "metadata": {},
     "output_type": "execute_result"
    },
    {
     "data": {
      "text/html": [
       "<div>\n",
       "<style scoped>\n",
       "    .dataframe tbody tr th:only-of-type {\n",
       "        vertical-align: middle;\n",
       "    }\n",
       "\n",
       "    .dataframe tbody tr th {\n",
       "        vertical-align: top;\n",
       "    }\n",
       "\n",
       "    .dataframe thead th {\n",
       "        text-align: right;\n",
       "    }\n",
       "</style>\n",
       "<table border=\"1\" class=\"dataframe\">\n",
       "  <thead>\n",
       "    <tr style=\"text-align: right;\">\n",
       "      <th></th>\n",
       "      <th>Open</th>\n",
       "      <th>Close</th>\n",
       "      <th>High</th>\n",
       "      <th>Low</th>\n",
       "      <th>Volume</th>\n",
       "    </tr>\n",
       "    <tr>\n",
       "      <th>Date</th>\n",
       "      <th></th>\n",
       "      <th></th>\n",
       "      <th></th>\n",
       "      <th></th>\n",
       "      <th></th>\n",
       "    </tr>\n",
       "  </thead>\n",
       "  <tbody>\n",
       "    <tr>\n",
       "      <th>2019-11-05 09:30:00</th>\n",
       "      <td>3080.80</td>\n",
       "      <td>3080.49</td>\n",
       "      <td>3081.47</td>\n",
       "      <td>3080.30</td>\n",
       "      <td>0</td>\n",
       "    </tr>\n",
       "    <tr>\n",
       "      <th>2019-11-05 09:31:00</th>\n",
       "      <td>3080.33</td>\n",
       "      <td>3079.36</td>\n",
       "      <td>3080.33</td>\n",
       "      <td>3079.15</td>\n",
       "      <td>0</td>\n",
       "    </tr>\n",
       "  </tbody>\n",
       "</table>\n",
       "</div>"
      ],
      "text/plain": [
       "                        Open    Close     High      Low  Volume\n",
       "Date                                                           \n",
       "2019-11-05 09:30:00  3080.80  3080.49  3081.47  3080.30       0\n",
       "2019-11-05 09:31:00  3080.33  3079.36  3080.33  3079.15       0"
      ]
     },
     "execution_count": 3,
     "metadata": {},
     "output_type": "execute_result"
    },
    {
     "data": {
      "text/html": [
       "<div>\n",
       "<style scoped>\n",
       "    .dataframe tbody tr th:only-of-type {\n",
       "        vertical-align: middle;\n",
       "    }\n",
       "\n",
       "    .dataframe tbody tr th {\n",
       "        vertical-align: top;\n",
       "    }\n",
       "\n",
       "    .dataframe thead th {\n",
       "        text-align: right;\n",
       "    }\n",
       "</style>\n",
       "<table border=\"1\" class=\"dataframe\">\n",
       "  <thead>\n",
       "    <tr style=\"text-align: right;\">\n",
       "      <th></th>\n",
       "      <th>Open</th>\n",
       "      <th>Close</th>\n",
       "      <th>High</th>\n",
       "      <th>Low</th>\n",
       "      <th>Volume</th>\n",
       "    </tr>\n",
       "    <tr>\n",
       "      <th>Date</th>\n",
       "      <th></th>\n",
       "      <th></th>\n",
       "      <th></th>\n",
       "      <th></th>\n",
       "      <th></th>\n",
       "    </tr>\n",
       "  </thead>\n",
       "  <tbody>\n",
       "    <tr>\n",
       "      <th>2019-11-08 15:58:00</th>\n",
       "      <td>3090.73</td>\n",
       "      <td>3091.04</td>\n",
       "      <td>3091.13</td>\n",
       "      <td>3090.58</td>\n",
       "      <td>0</td>\n",
       "    </tr>\n",
       "    <tr>\n",
       "      <th>2019-11-08 15:59:00</th>\n",
       "      <td>3091.16</td>\n",
       "      <td>3092.91</td>\n",
       "      <td>3092.91</td>\n",
       "      <td>3090.96</td>\n",
       "      <td>0</td>\n",
       "    </tr>\n",
       "  </tbody>\n",
       "</table>\n",
       "</div>"
      ],
      "text/plain": [
       "                        Open    Close     High      Low  Volume\n",
       "Date                                                           \n",
       "2019-11-08 15:58:00  3090.73  3091.04  3091.13  3090.58       0\n",
       "2019-11-08 15:59:00  3091.16  3092.91  3092.91  3090.96       0"
      ]
     },
     "execution_count": 3,
     "metadata": {},
     "output_type": "execute_result"
    }
   ],
   "source": [
    "df = pd.read_csv('../data/SP500_NOV2019_IDay.csv',index_col=0,parse_dates=True)\n",
    "df.index.name = 'Date'\n",
    "df.shape\n",
    "df.head(2)\n",
    "df.tail(2)"
   ]
  },
  {
   "cell_type": "code",
   "execution_count": 4,
   "metadata": {},
   "outputs": [
    {
     "data": {
      "text/plain": [
       "array([datetime.datetime(2019, 11, 5, 9, 30),\n",
       "       datetime.datetime(2019, 11, 5, 9, 31),\n",
       "       datetime.datetime(2019, 11, 5, 9, 32), ...,\n",
       "       datetime.datetime(2019, 11, 8, 15, 57),\n",
       "       datetime.datetime(2019, 11, 8, 15, 58),\n",
       "       datetime.datetime(2019, 11, 8, 15, 59)], dtype=object)"
      ]
     },
     "execution_count": 4,
     "metadata": {},
     "output_type": "execute_result"
    }
   ],
   "source": [
    "df.index.to_pydatetime()"
   ]
  },
  {
   "cell_type": "code",
   "execution_count": 5,
   "metadata": {},
   "outputs": [
    {
     "data": {
      "text/plain": [
       "'0.12.7a11'"
      ]
     },
     "execution_count": 5,
     "metadata": {},
     "output_type": "execute_result"
    }
   ],
   "source": [
    "import mplfinance as mpf\n",
    "mpf.__version__"
   ]
  },
  {
   "cell_type": "code",
   "execution_count": 6,
   "metadata": {},
   "outputs": [
    {
     "name": "stderr",
     "output_type": "stream",
     "text": [
      "/home/dino/code/mplfinance/src/mplfinance/_arg_validators.py:35: UserWarning: \n",
      "\n",
      " ================================================================= \n",
      "\n",
      "   WARNING: YOU ARE PLOTTING SO MUCH DATA THAT IT MAY NOT BE\n",
      "            POSSIBLE TO SEE DETAILS (Candles, Ohlc-Bars, Etc.)\n",
      "   For more information see:\n",
      "   - https://github.com/matplotlib/mplfinance/wiki/Plotting-Too-Much-Data\n",
      "   \n",
      "   TO SILENCE THIS WARNING, set `type='line'` in `mpf.plot()`\n",
      "   OR set kwarg `warn_too_much_data=N` where N is an integer \n",
      "   LARGER than the number of data points you want to plot.\n",
      "\n",
      " ================================================================ \n",
      "  warnings.warn('\\n\\n ================================================================= '+\n"
     ]
    },
    {
     "data": {
      "image/png": "[encoded data removed]",
      "text/plain": [
       "<Figure size 1035x575 with 2 Axes>"
      ]
     },
     "metadata": {},
     "output_type": "display_data"
    }
   ],
   "source": [
    "fig, axlist = mpf.plot(df,figratio=(9,5),returnfig=True,show_nontrading=True)"
   ]
  },
  {
   "cell_type": "code",
   "execution_count": 7,
   "metadata": {},
   "outputs": [],
   "source": [
    "df['TimeStamp'] = df.index.values"
   ]
  },
  {
   "cell_type": "code",
   "execution_count": 8,
   "metadata": {},
   "outputs": [
    {
     "data": {
      "text/html": [
       "<div>\n",
       "<style scoped>\n",
       "    .dataframe tbody tr th:only-of-type {\n",
       "        vertical-align: middle;\n",
       "    }\n",
       "\n",
       "    .dataframe tbody tr th {\n",
       "        vertical-align: top;\n",
       "    }\n",
       "\n",
       "    .dataframe thead th {\n",
       "        text-align: right;\n",
       "    }\n",
       "</style>\n",
       "<table border=\"1\" class=\"dataframe\">\n",
       "  <thead>\n",
       "    <tr style=\"text-align: right;\">\n",
       "      <th></th>\n",
       "      <th>Open</th>\n",
       "      <th>Close</th>\n",
       "      <th>High</th>\n",
       "      <th>Low</th>\n",
       "      <th>Volume</th>\n",
       "      <th>TimeStamp</th>\n",
       "    </tr>\n",
       "    <tr>\n",
       "      <th>Date</th>\n",
       "      <th></th>\n",
       "      <th></th>\n",
       "      <th></th>\n",
       "      <th></th>\n",
       "      <th></th>\n",
       "      <th></th>\n",
       "    </tr>\n",
       "  </thead>\n",
       "  <tbody>\n",
       "    <tr>\n",
       "      <th>2019-11-05 09:30:00</th>\n",
       "      <td>3080.80</td>\n",
       "      <td>3080.49</td>\n",
       "      <td>3081.47</td>\n",
       "      <td>3080.30</td>\n",
       "      <td>0</td>\n",
       "      <td>2019-11-05 09:30:00</td>\n",
       "    </tr>\n",
       "    <tr>\n",
       "      <th>2019-11-05 09:31:00</th>\n",
       "      <td>3080.33</td>\n",
       "      <td>3079.36</td>\n",
       "      <td>3080.33</td>\n",
       "      <td>3079.15</td>\n",
       "      <td>0</td>\n",
       "      <td>2019-11-05 09:31:00</td>\n",
       "    </tr>\n",
       "    <tr>\n",
       "      <th>2019-11-05 09:32:00</th>\n",
       "      <td>3079.43</td>\n",
       "      <td>3079.68</td>\n",
       "      <td>3080.46</td>\n",
       "      <td>3079.43</td>\n",
       "      <td>0</td>\n",
       "      <td>2019-11-05 09:32:00</td>\n",
       "    </tr>\n",
       "    <tr>\n",
       "      <th>2019-11-05 09:33:00</th>\n",
       "      <td>3079.73</td>\n",
       "      <td>3079.15</td>\n",
       "      <td>3080.22</td>\n",
       "      <td>3079.12</td>\n",
       "      <td>0</td>\n",
       "      <td>2019-11-05 09:33:00</td>\n",
       "    </tr>\n",
       "    <tr>\n",
       "      <th>2019-11-05 09:34:00</th>\n",
       "      <td>3079.20</td>\n",
       "      <td>3079.62</td>\n",
       "      <td>3080.03</td>\n",
       "      <td>3079.07</td>\n",
       "      <td>0</td>\n",
       "      <td>2019-11-05 09:34:00</td>\n",
       "    </tr>\n",
       "  </tbody>\n",
       "</table>\n",
       "</div>"
      ],
      "text/plain": [
       "                        Open    Close     High      Low  Volume  \\\n",
       "Date                                                              \n",
       "2019-11-05 09:30:00  3080.80  3080.49  3081.47  3080.30       0   \n",
       "2019-11-05 09:31:00  3080.33  3079.36  3080.33  3079.15       0   \n",
       "2019-11-05 09:32:00  3079.43  3079.68  3080.46  3079.43       0   \n",
       "2019-11-05 09:33:00  3079.73  3079.15  3080.22  3079.12       0   \n",
       "2019-11-05 09:34:00  3079.20  3079.62  3080.03  3079.07       0   \n",
       "\n",
       "                              TimeStamp  \n",
       "Date                                     \n",
       "2019-11-05 09:30:00 2019-11-05 09:30:00  \n",
       "2019-11-05 09:31:00 2019-11-05 09:31:00  \n",
       "2019-11-05 09:32:00 2019-11-05 09:32:00  \n",
       "2019-11-05 09:33:00 2019-11-05 09:33:00  \n",
       "2019-11-05 09:34:00 2019-11-05 09:34:00  "
      ]
     },
     "execution_count": 8,
     "metadata": {},
     "output_type": "execute_result"
    }
   ],
   "source": [
    "df.head()"
   ]
  },
  {
   "cell_type": "code",
   "execution_count": 9,
   "metadata": {},
   "outputs": [],
   "source": [
    "df['TSdate'] = [t.date() for t in df['TimeStamp']]"
   ]
  },
  {
   "cell_type": "code",
   "execution_count": 10,
   "metadata": {},
   "outputs": [],
   "source": [
    "dfg = df.groupby('TSdate')"
   ]
  },
  {
   "cell_type": "code",
   "execution_count": 11,
   "metadata": {
    "scrolled": false
   },
   "outputs": [
    {
     "data": {
      "text/html": [
       "<div>\n",
       "<style scoped>\n",
       "    .dataframe tbody tr th:only-of-type {\n",
       "        vertical-align: middle;\n",
       "    }\n",
       "\n",
       "    .dataframe tbody tr th {\n",
       "        vertical-align: top;\n",
       "    }\n",
       "\n",
       "    .dataframe thead th {\n",
       "        text-align: right;\n",
       "    }\n",
       "</style>\n",
       "<table border=\"1\" class=\"dataframe\">\n",
       "  <thead>\n",
       "    <tr style=\"text-align: right;\">\n",
       "      <th></th>\n",
       "      <th>Open</th>\n",
       "      <th>Close</th>\n",
       "      <th>High</th>\n",
       "      <th>Low</th>\n",
       "      <th>Volume</th>\n",
       "      <th>TimeStamp</th>\n",
       "    </tr>\n",
       "    <tr>\n",
       "      <th>TSdate</th>\n",
       "      <th></th>\n",
       "      <th></th>\n",
       "      <th></th>\n",
       "      <th></th>\n",
       "      <th></th>\n",
       "      <th></th>\n",
       "    </tr>\n",
       "  </thead>\n",
       "  <tbody>\n",
       "    <tr>\n",
       "      <th>2019-11-05</th>\n",
       "      <td>3080.80</td>\n",
       "      <td>3080.49</td>\n",
       "      <td>3081.47</td>\n",
       "      <td>3080.30</td>\n",
       "      <td>0</td>\n",
       "      <td>2019-11-05 09:30:00</td>\n",
       "    </tr>\n",
       "    <tr>\n",
       "      <th>2019-11-06</th>\n",
       "      <td>3075.10</td>\n",
       "      <td>3074.12</td>\n",
       "      <td>3075.91</td>\n",
       "      <td>3073.90</td>\n",
       "      <td>0</td>\n",
       "      <td>2019-11-06 09:30:00</td>\n",
       "    </tr>\n",
       "    <tr>\n",
       "      <th>2019-11-07</th>\n",
       "      <td>3087.02</td>\n",
       "      <td>3089.93</td>\n",
       "      <td>3090.17</td>\n",
       "      <td>3087.02</td>\n",
       "      <td>0</td>\n",
       "      <td>2019-11-07 09:30:00</td>\n",
       "    </tr>\n",
       "    <tr>\n",
       "      <th>2019-11-08</th>\n",
       "      <td>3081.25</td>\n",
       "      <td>3081.47</td>\n",
       "      <td>3081.93</td>\n",
       "      <td>3081.07</td>\n",
       "      <td>0</td>\n",
       "      <td>2019-11-08 09:30:00</td>\n",
       "    </tr>\n",
       "  </tbody>\n",
       "</table>\n",
       "</div>"
      ],
      "text/plain": [
       "               Open    Close     High      Low  Volume           TimeStamp\n",
       "TSdate                                                                    \n",
       "2019-11-05  3080.80  3080.49  3081.47  3080.30       0 2019-11-05 09:30:00\n",
       "2019-11-06  3075.10  3074.12  3075.91  3073.90       0 2019-11-06 09:30:00\n",
       "2019-11-07  3087.02  3089.93  3090.17  3087.02       0 2019-11-07 09:30:00\n",
       "2019-11-08  3081.25  3081.47  3081.93  3081.07       0 2019-11-08 09:30:00"
      ]
     },
     "execution_count": 11,
     "metadata": {},
     "output_type": "execute_result"
    },
    {
     "data": {
      "text/html": [
       "<div>\n",
       "<style scoped>\n",
       "    .dataframe tbody tr th:only-of-type {\n",
       "        vertical-align: middle;\n",
       "    }\n",
       "\n",
       "    .dataframe tbody tr th {\n",
       "        vertical-align: top;\n",
       "    }\n",
       "\n",
       "    .dataframe thead th {\n",
       "        text-align: right;\n",
       "    }\n",
       "</style>\n",
       "<table border=\"1\" class=\"dataframe\">\n",
       "  <thead>\n",
       "    <tr style=\"text-align: right;\">\n",
       "      <th></th>\n",
       "      <th>Open</th>\n",
       "      <th>Close</th>\n",
       "      <th>High</th>\n",
       "      <th>Low</th>\n",
       "      <th>Volume</th>\n",
       "      <th>TimeStamp</th>\n",
       "    </tr>\n",
       "    <tr>\n",
       "      <th>TSdate</th>\n",
       "      <th></th>\n",
       "      <th></th>\n",
       "      <th></th>\n",
       "      <th></th>\n",
       "      <th></th>\n",
       "      <th></th>\n",
       "    </tr>\n",
       "  </thead>\n",
       "  <tbody>\n",
       "    <tr>\n",
       "      <th>2019-11-05</th>\n",
       "      <td>3074.78</td>\n",
       "      <td>3074.75</td>\n",
       "      <td>3074.78</td>\n",
       "      <td>3074.75</td>\n",
       "      <td>0</td>\n",
       "      <td>2019-11-05 16:00:00</td>\n",
       "    </tr>\n",
       "    <tr>\n",
       "      <th>2019-11-06</th>\n",
       "      <td>3076.74</td>\n",
       "      <td>3076.73</td>\n",
       "      <td>3076.74</td>\n",
       "      <td>3076.72</td>\n",
       "      <td>0</td>\n",
       "      <td>2019-11-06 16:00:00</td>\n",
       "    </tr>\n",
       "    <tr>\n",
       "      <th>2019-11-07</th>\n",
       "      <td>3085.41</td>\n",
       "      <td>3085.35</td>\n",
       "      <td>3085.44</td>\n",
       "      <td>3085.35</td>\n",
       "      <td>0</td>\n",
       "      <td>2019-11-07 16:00:00</td>\n",
       "    </tr>\n",
       "    <tr>\n",
       "      <th>2019-11-08</th>\n",
       "      <td>3091.16</td>\n",
       "      <td>3092.91</td>\n",
       "      <td>3092.91</td>\n",
       "      <td>3090.96</td>\n",
       "      <td>0</td>\n",
       "      <td>2019-11-08 15:59:00</td>\n",
       "    </tr>\n",
       "  </tbody>\n",
       "</table>\n",
       "</div>"
      ],
      "text/plain": [
       "               Open    Close     High      Low  Volume           TimeStamp\n",
       "TSdate                                                                    \n",
       "2019-11-05  3074.78  3074.75  3074.78  3074.75       0 2019-11-05 16:00:00\n",
       "2019-11-06  3076.74  3076.73  3076.74  3076.72       0 2019-11-06 16:00:00\n",
       "2019-11-07  3085.41  3085.35  3085.44  3085.35       0 2019-11-07 16:00:00\n",
       "2019-11-08  3091.16  3092.91  3092.91  3090.96       0 2019-11-08 15:59:00"
      ]
     },
     "execution_count": 11,
     "metadata": {},
     "output_type": "execute_result"
    },
    {
     "data": {
      "text/html": [
       "<div>\n",
       "<style scoped>\n",
       "    .dataframe tbody tr th:only-of-type {\n",
       "        vertical-align: middle;\n",
       "    }\n",
       "\n",
       "    .dataframe tbody tr th {\n",
       "        vertical-align: top;\n",
       "    }\n",
       "\n",
       "    .dataframe thead th {\n",
       "        text-align: right;\n",
       "    }\n",
       "</style>\n",
       "<table border=\"1\" class=\"dataframe\">\n",
       "  <thead>\n",
       "    <tr style=\"text-align: right;\">\n",
       "      <th></th>\n",
       "      <th>Open</th>\n",
       "      <th>Close</th>\n",
       "      <th>High</th>\n",
       "      <th>Low</th>\n",
       "      <th>Volume</th>\n",
       "    </tr>\n",
       "    <tr>\n",
       "      <th>TSdate</th>\n",
       "      <th></th>\n",
       "      <th></th>\n",
       "      <th></th>\n",
       "      <th></th>\n",
       "      <th></th>\n",
       "    </tr>\n",
       "  </thead>\n",
       "  <tbody>\n",
       "    <tr>\n",
       "      <th>2019-11-05</th>\n",
       "      <td>3077.300</td>\n",
       "      <td>3077.270</td>\n",
       "      <td>3077.530</td>\n",
       "      <td>3077.060</td>\n",
       "      <td>0</td>\n",
       "    </tr>\n",
       "    <tr>\n",
       "      <th>2019-11-06</th>\n",
       "      <td>3073.970</td>\n",
       "      <td>3073.970</td>\n",
       "      <td>3074.270</td>\n",
       "      <td>3073.790</td>\n",
       "      <td>0</td>\n",
       "    </tr>\n",
       "    <tr>\n",
       "      <th>2019-11-07</th>\n",
       "      <td>3092.590</td>\n",
       "      <td>3092.580</td>\n",
       "      <td>3092.790</td>\n",
       "      <td>3092.380</td>\n",
       "      <td>0</td>\n",
       "    </tr>\n",
       "    <tr>\n",
       "      <th>2019-11-08</th>\n",
       "      <td>3084.785</td>\n",
       "      <td>3084.805</td>\n",
       "      <td>3084.965</td>\n",
       "      <td>3084.595</td>\n",
       "      <td>0</td>\n",
       "    </tr>\n",
       "  </tbody>\n",
       "</table>\n",
       "</div>"
      ],
      "text/plain": [
       "                Open     Close      High       Low  Volume\n",
       "TSdate                                                    \n",
       "2019-11-05  3077.300  3077.270  3077.530  3077.060       0\n",
       "2019-11-06  3073.970  3073.970  3074.270  3073.790       0\n",
       "2019-11-07  3092.590  3092.580  3092.790  3092.380       0\n",
       "2019-11-08  3084.785  3084.805  3084.965  3084.595       0"
      ]
     },
     "execution_count": 11,
     "metadata": {},
     "output_type": "execute_result"
    }
   ],
   "source": [
    "dfg.first()\n",
    "dfg.last()\n",
    "dfg.median()\n",
    "#dir(dfg)"
   ]
  },
  {
   "cell_type": "code",
   "execution_count": 12,
   "metadata": {
    "scrolled": false
   },
   "outputs": [],
   "source": [
    "xt = []\n",
    "for t in dfg.first()['TimeStamp']:\n",
    "    xt.append(df.index.get_loc(t))"
   ]
  },
  {
   "cell_type": "code",
   "execution_count": 13,
   "metadata": {},
   "outputs": [
    {
     "data": {
      "text/plain": [
       "[0, 391, 782, 1173]"
      ]
     },
     "execution_count": 13,
     "metadata": {},
     "output_type": "execute_result"
    }
   ],
   "source": [
    "xt"
   ]
  },
  {
   "cell_type": "code",
   "execution_count": 14,
   "metadata": {},
   "outputs": [
    {
     "data": {
      "text/plain": [
       "[<matplotlib.axis.XTick at 0x7fbeaae0cdc0>,\n",
       " <matplotlib.axis.XTick at 0x7fbeaae0cd90>,\n",
       " <matplotlib.axis.XTick at 0x7fbea8acaa90>,\n",
       " <matplotlib.axis.XTick at 0x7fbea8acaee0>]"
      ]
     },
     "execution_count": 14,
     "metadata": {},
     "output_type": "execute_result"
    }
   ],
   "source": [
    "axlist[0].set_xticks(xt)"
   ]
  },
  {
   "cell_type": "code",
   "execution_count": 15,
   "metadata": {},
   "outputs": [
    {
     "data": {
      "image/png": "[encoded data removed]",
      "text/plain": [
       "<Figure size 1035x575 with 2 Axes>"
      ]
     },
     "execution_count": 15,
     "metadata": {},
     "output_type": "execute_result"
    }
   ],
   "source": [
    "fig"
   ]
  },
  {
   "cell_type": "code",
   "execution_count": 16,
   "metadata": {},
   "outputs": [
    {
     "name": "stdout",
     "output_type": "stream",
     "text": [
      "t1,t2,t2-t1= 2019-11-05 09:30:00 2019-11-05 16:00:00 0 days 06:30:00\n",
      "t1,t2,t2-t1= 2019-11-06 09:30:00 2019-11-06 16:00:00 0 days 06:30:00\n",
      "t1,t2,t2-t1= 2019-11-07 09:30:00 2019-11-07 16:00:00 0 days 06:30:00\n",
      "t1,t2,t2-t1= 2019-11-08 09:30:00 2019-11-08 15:59:00 0 days 06:29:00\n"
     ]
    }
   ],
   "source": [
    "xt = []\n",
    "for t1,t2 in zip(dfg.first()['TimeStamp'],dfg.last()['TimeStamp']):\n",
    "    print('t1,t2,t2-t1=',t1,t2,t2-t1)"
   ]
  },
  {
   "cell_type": "code",
   "execution_count": 17,
   "metadata": {},
   "outputs": [],
   "source": [
    "td = t2-t1"
   ]
  },
  {
   "cell_type": "code",
   "execution_count": 18,
   "metadata": {},
   "outputs": [
    {
     "data": {
      "text/plain": [
       "23340"
      ]
     },
     "execution_count": 18,
     "metadata": {},
     "output_type": "execute_result"
    },
    {
     "data": {
      "text/plain": [
       "23340.0"
      ]
     },
     "execution_count": 18,
     "metadata": {},
     "output_type": "execute_result"
    }
   ],
   "source": [
    "td.seconds\n",
    "td.total_seconds()"
   ]
  },
  {
   "cell_type": "code",
   "execution_count": 19,
   "metadata": {},
   "outputs": [
    {
     "data": {
      "text/plain": [
       "6.483333333333333"
      ]
     },
     "execution_count": 19,
     "metadata": {},
     "output_type": "execute_result"
    },
    {
     "data": {
      "text/plain": [
       "3.0"
      ]
     },
     "execution_count": 19,
     "metadata": {},
     "output_type": "execute_result"
    }
   ],
   "source": [
    "23340 / (60*60)\n",
    "int(23340 / (60*60))/2"
   ]
  },
  {
   "cell_type": "code",
   "execution_count": 20,
   "metadata": {},
   "outputs": [],
   "source": [
    "#STOP HERE"
   ]
  },
  {
   "cell_type": "code",
   "execution_count": 21,
   "metadata": {},
   "outputs": [
    {
     "name": "stderr",
     "output_type": "stream",
     "text": [
      "/home/dino/code/mplfinance/src/mplfinance/_arg_validators.py:35: UserWarning: \n",
      "\n",
      " ================================================================= \n",
      "\n",
      "   WARNING: YOU ARE PLOTTING SO MUCH DATA THAT IT MAY NOT BE\n",
      "            POSSIBLE TO SEE DETAILS (Candles, Ohlc-Bars, Etc.)\n",
      "   For more information see:\n",
      "   - https://github.com/matplotlib/mplfinance/wiki/Plotting-Too-Much-Data\n",
      "   \n",
      "   TO SILENCE THIS WARNING, set `type='line'` in `mpf.plot()`\n",
      "   OR set kwarg `warn_too_much_data=N` where N is an integer \n",
      "   LARGER than the number of data points you want to plot.\n",
      "\n",
      " ================================================================ \n",
      "  warnings.warn('\\n\\n ================================================================= '+\n"
     ]
    },
    {
     "data": {
      "image/png": "[encoded data removed]",
      "text/plain": [
       "<Figure size 1035x575 with 2 Axes>"
      ]
     },
     "metadata": {},
     "output_type": "display_data"
    }
   ],
   "source": [
    "#del fig\n",
    "#fig, axlist = mpf.plot(df,figratio=(9,5),returnfig=True,show_nontrading=True)\n",
    "fig, axlist = mpf.plot(df,figratio=(9,5),returnfig=True,show_nontrading=True)"
   ]
  },
  {
   "cell_type": "code",
   "execution_count": 22,
   "metadata": {},
   "outputs": [
    {
     "data": {
      "text/plain": [
       "array([18205. , 18205.5, 18206. , 18206.5, 18207. , 18207.5, 18208. ,\n",
       "       18208.5, 18209. ])"
      ]
     },
     "execution_count": 22,
     "metadata": {},
     "output_type": "execute_result"
    }
   ],
   "source": [
    "axlist[0].get_xticks()"
   ]
  },
  {
   "cell_type": "code",
   "execution_count": 23,
   "metadata": {},
   "outputs": [],
   "source": [
    "import matplotlib.dates as mdates"
   ]
  },
  {
   "cell_type": "code",
   "execution_count": 24,
   "metadata": {},
   "outputs": [],
   "source": [
    "locator = mdates.HourLocator(interval=4)"
   ]
  },
  {
   "cell_type": "code",
   "execution_count": 25,
   "metadata": {},
   "outputs": [],
   "source": [
    "axlist[0].xaxis.set_major_locator(locator)"
   ]
  },
  {
   "cell_type": "code",
   "execution_count": 26,
   "metadata": {},
   "outputs": [
    {
     "data": {
      "text/plain": [
       "array([18205.29166667, 18205.45833333, 18205.625     , 18205.79166667,\n",
       "       18205.95833333, 18206.125     , 18206.29166667, 18206.45833333,\n",
       "       18206.625     , 18206.79166667, 18206.95833333, 18207.125     ,\n",
       "       18207.29166667, 18207.45833333, 18207.625     , 18207.79166667,\n",
       "       18207.95833333, 18208.125     , 18208.29166667, 18208.45833333,\n",
       "       18208.625     , 18208.79166667])"
      ]
     },
     "execution_count": 26,
     "metadata": {},
     "output_type": "execute_result"
    }
   ],
   "source": [
    "axlist[0].get_xticks()"
   ]
  },
  {
   "cell_type": "code",
   "execution_count": 27,
   "metadata": {},
   "outputs": [
    {
     "data": {
      "image/png": "[encoded data removed]",
      "text/plain": [
       "<Figure size 1035x575 with 2 Axes>"
      ]
     },
     "execution_count": 27,
     "metadata": {},
     "output_type": "execute_result"
    }
   ],
   "source": [
    "fig"
   ]
  },
  {
   "cell_type": "code",
   "execution_count": null,
   "metadata": {},
   "outputs": [],
   "source": []
  },
  {
   "cell_type": "code",
   "execution_count": 28,
   "metadata": {},
   "outputs": [
    {
     "name": "stdout",
     "output_type": "stream",
     "text": [
      "vmin= 2021-02-01 09:30:00  vmax= 2021-02-01 16:00:00\n",
      "type(vmin)= <class 'datetime.datetime'>\n",
      "ticks=\n",
      "2021-02-01 10:00:00+00:00\n",
      "2021-02-01 11:00:00+00:00\n",
      "2021-02-01 12:00:00+00:00\n",
      "2021-02-01 13:00:00+00:00\n",
      "2021-02-01 14:00:00+00:00\n",
      "2021-02-01 15:00:00+00:00\n",
      "2021-02-01 16:00:00+00:00\n"
     ]
    }
   ],
   "source": [
    "# %load datelocator.py\n",
    "#import numpy as np\n",
    "#import matplotlib.pyplot as plt\n",
    "import matplotlib.dates as mdates\n",
    "import datetime\n",
    "from   dateutil import parser as dp\n",
    "import pandas as pd\n",
    "\n",
    "loc = mdates.AutoDateLocator()\n",
    "\n",
    "vmin = dp.parse('2021-02-01 09:30')\n",
    "vmax = dp.parse('2021-02-01 16:00')\n",
    "print('vmin=',vmin,' vmax=',vmax)\n",
    "print('type(vmin)=',type(vmin))\n",
    "\n",
    "ticks = loc.tick_values(vmin, vmax)\n",
    "print('ticks=')\n",
    "for dt in mdates.num2date(ticks):\n",
    "    print(dt)\n"
   ]
  },
  {
   "cell_type": "code",
   "execution_count": 29,
   "metadata": {},
   "outputs": [
    {
     "name": "stdout",
     "output_type": "stream",
     "text": [
      "ticks=\n",
      "2021-02-01 10:00:00+00:00\n",
      "2021-02-01 11:00:00+00:00\n",
      "2021-02-01 12:00:00+00:00\n",
      "2021-02-01 13:00:00+00:00\n",
      "2021-02-01 14:00:00+00:00\n",
      "2021-02-01 15:00:00+00:00\n",
      "2021-02-01 16:00:00+00:00\n"
     ]
    }
   ],
   "source": [
    "loc = mdates.HourLocator()\n",
    "ticks = loc.tick_values(vmin, vmax)\n",
    "print('ticks=')\n",
    "for dt in mdates.num2date(ticks):\n",
    "    print(dt)"
   ]
  },
  {
   "cell_type": "code",
   "execution_count": 30,
   "metadata": {},
   "outputs": [
    {
     "name": "stdout",
     "output_type": "stream",
     "text": [
      "ticks=\n",
      "2021-02-01 07:30:00+00:00\n",
      "2021-02-01 08:30:00+00:00\n",
      "2021-02-01 09:30:00+00:00\n",
      "2021-02-01 10:30:00+00:00\n",
      "2021-02-01 11:30:00+00:00\n",
      "2021-02-01 12:30:00+00:00\n",
      "2021-02-01 13:30:00+00:00\n",
      "2021-02-01 14:30:00+00:00\n",
      "2021-02-01 15:30:00+00:00\n"
     ]
    }
   ],
   "source": [
    "loc1 = mdates.MinuteLocator(byminute=30,interval=1)\n",
    "\n",
    "vmin = dp.parse('2021-02-01 07:00')\n",
    "vmax = dp.parse('2021-02-01 16:00')\n",
    "\n",
    "ticks = loc1.tick_values(vmin, vmax)\n",
    "print('ticks=')\n",
    "for dt in mdates.num2date(ticks):\n",
    "    print(dt)"
   ]
  },
  {
   "cell_type": "code",
   "execution_count": 31,
   "metadata": {},
   "outputs": [
    {
     "name": "stdout",
     "output_type": "stream",
     "text": [
      "ticks=\n",
      "2021-02-01 07:30:00+00:00\n",
      "2021-02-01 08:30:00+00:00\n",
      "2021-02-01 09:30:00+00:00\n",
      "2021-02-01 10:30:00+00:00\n",
      "2021-02-01 11:30:00+00:00\n",
      "2021-02-01 12:30:00+00:00\n",
      "2021-02-01 13:30:00+00:00\n",
      "2021-02-01 14:30:00+00:00\n",
      "2021-02-01 15:30:00+00:00\n"
     ]
    }
   ],
   "source": [
    "loc2 = mdates.MinuteLocator(byminute=30,interval=1)\n",
    "ticks = loc2.tick_values(vmin, vmax)\n",
    "print('ticks=')\n",
    "for dt in mdates.num2date(ticks):\n",
    "    print(dt)"
   ]
  },
  {
   "cell_type": "code",
   "execution_count": 32,
   "metadata": {},
   "outputs": [
    {
     "name": "stdout",
     "output_type": "stream",
     "text": [
      "vmin= 2019-11-05 09:30:00  vmax= 2019-11-08 15:59:00\n",
      "type(vmin)= <class 'datetime.datetime'>\n",
      "ticks=\n",
      "2019-11-05 10:00:00+00:00\n",
      "2019-11-05 11:00:00+00:00\n",
      "2019-11-05 12:00:00+00:00\n",
      "2019-11-05 13:00:00+00:00\n",
      "2019-11-05 14:00:00+00:00\n",
      "2019-11-05 15:00:00+00:00\n",
      "2019-11-05 16:00:00+00:00\n",
      "2019-11-05 17:00:00+00:00\n",
      "2019-11-05 18:00:00+00:00\n",
      "2019-11-05 19:00:00+00:00\n",
      "2019-11-05 20:00:00+00:00\n",
      "2019-11-05 21:00:00+00:00\n",
      "2019-11-05 22:00:00+00:00\n",
      "2019-11-05 23:00:00+00:00\n",
      "2019-11-06 00:00:00+00:00\n",
      "2019-11-06 01:00:00+00:00\n",
      "2019-11-06 02:00:00+00:00\n",
      "2019-11-06 03:00:00+00:00\n",
      "2019-11-06 04:00:00+00:00\n",
      "2019-11-06 05:00:00+00:00\n",
      "2019-11-06 06:00:00+00:00\n",
      "2019-11-06 07:00:00+00:00\n",
      "2019-11-06 08:00:00+00:00\n",
      "2019-11-06 09:00:00+00:00\n",
      "2019-11-06 10:00:00+00:00\n",
      "2019-11-06 11:00:00+00:00\n",
      "2019-11-06 12:00:00+00:00\n",
      "2019-11-06 13:00:00+00:00\n",
      "2019-11-06 14:00:00+00:00\n",
      "2019-11-06 15:00:00+00:00\n",
      "2019-11-06 16:00:00+00:00\n",
      "2019-11-06 17:00:00+00:00\n",
      "2019-11-06 18:00:00+00:00\n",
      "2019-11-06 19:00:00+00:00\n",
      "2019-11-06 20:00:00+00:00\n",
      "2019-11-06 21:00:00+00:00\n",
      "2019-11-06 22:00:00+00:00\n",
      "2019-11-06 23:00:00+00:00\n",
      "2019-11-07 00:00:00+00:00\n",
      "2019-11-07 01:00:00+00:00\n",
      "2019-11-07 02:00:00+00:00\n",
      "2019-11-07 03:00:00+00:00\n",
      "2019-11-07 04:00:00+00:00\n",
      "2019-11-07 05:00:00+00:00\n",
      "2019-11-07 06:00:00+00:00\n",
      "2019-11-07 07:00:00+00:00\n",
      "2019-11-07 08:00:00+00:00\n",
      "2019-11-07 09:00:00+00:00\n",
      "2019-11-07 10:00:00+00:00\n",
      "2019-11-07 11:00:00+00:00\n",
      "2019-11-07 12:00:00+00:00\n",
      "2019-11-07 13:00:00+00:00\n",
      "2019-11-07 14:00:00+00:00\n",
      "2019-11-07 15:00:00+00:00\n",
      "2019-11-07 16:00:00+00:00\n",
      "2019-11-07 17:00:00+00:00\n",
      "2019-11-07 18:00:00+00:00\n",
      "2019-11-07 19:00:00+00:00\n",
      "2019-11-07 20:00:00+00:00\n",
      "2019-11-07 21:00:00+00:00\n",
      "2019-11-07 22:00:00+00:00\n",
      "2019-11-07 23:00:00+00:00\n",
      "2019-11-08 00:00:00+00:00\n",
      "2019-11-08 01:00:00+00:00\n",
      "2019-11-08 02:00:00+00:00\n",
      "2019-11-08 03:00:00+00:00\n",
      "2019-11-08 04:00:00+00:00\n",
      "2019-11-08 05:00:00+00:00\n",
      "2019-11-08 06:00:00+00:00\n",
      "2019-11-08 07:00:00+00:00\n",
      "2019-11-08 08:00:00+00:00\n",
      "2019-11-08 09:00:00+00:00\n",
      "2019-11-08 10:00:00+00:00\n",
      "2019-11-08 11:00:00+00:00\n",
      "2019-11-08 12:00:00+00:00\n",
      "2019-11-08 13:00:00+00:00\n",
      "2019-11-08 14:00:00+00:00\n",
      "2019-11-08 15:00:00+00:00\n",
      "df.shape= (1563, 5)\n",
      "df.head(2)=                         Open    Close     High      Low  Volume\n",
      "Date                                                           \n",
      "2019-11-05 09:30:00  3080.80  3080.49  3081.47  3080.30       0\n",
      "2019-11-05 09:31:00  3080.33  3079.36  3080.33  3079.15       0\n",
      "df.tail(2)=                         Open    Close     High      Low  Volume\n",
      "Date                                                           \n",
      "2019-11-08 15:58:00  3090.73  3091.04  3091.13  3090.58       0\n",
      "2019-11-08 15:59:00  3091.16  3092.91  3092.91  3090.96       0\n",
      "ticks=\n",
      "2019-11-05 10:00:00+00:00\n",
      "2019-11-05 12:00:00+00:00\n",
      "2019-11-05 14:00:00+00:00\n",
      "2019-11-05 16:00:00+00:00\n",
      "2019-11-06 10:00:00+00:00\n",
      "2019-11-06 12:00:00+00:00\n",
      "2019-11-06 14:00:00+00:00\n",
      "2019-11-06 16:00:00+00:00\n",
      "2019-11-07 10:00:00+00:00\n",
      "2019-11-07 12:00:00+00:00\n",
      "2019-11-07 14:00:00+00:00\n",
      "2019-11-07 16:00:00+00:00\n",
      "2019-11-08 10:00:00+00:00\n",
      "2019-11-08 12:00:00+00:00\n",
      "2019-11-08 14:00:00+00:00\n"
     ]
    }
   ],
   "source": [
    "vmin = dp.parse('2019-11-05 09:30:00')\n",
    "vmax = dp.parse('2019-11-08 15:59:00')\n",
    "print('vmin=',vmin,' vmax=',vmax)\n",
    "print('type(vmin)=',type(vmin))\n",
    "\n",
    "ticks = loc.tick_values(vmin, vmax)\n",
    "print('ticks=')\n",
    "for dt in mdates.num2date(ticks):\n",
    "    print(dt)\n",
    "\n",
    "df = pd.read_csv('../data/SP500_NOV2019_IDay.csv',index_col=0,parse_dates=True)\n",
    "print('df.shape=',df.shape)\n",
    "print('df.head(2)=',df.head(2))\n",
    "print('df.tail(2)=',df.tail(2))\n",
    "\n",
    "pydtm = df.index.to_pydatetime()\n",
    "#  loc = mdates.HourLocator(byhour=pydtm,interval=3)\n",
    "loc = mdates.HourLocator(byhour=(10,12,14,16),interval=1)\n",
    "\n",
    "ticks = loc.tick_values(pydtm[0],pydtm[-1])\n",
    "print('ticks=')\n",
    "for dt in mdates.num2date(ticks):\n",
    "    print(dt)\n",
    "\n"
   ]
  },
  {
   "cell_type": "code",
   "execution_count": null,
   "metadata": {},
   "outputs": [],
   "source": []
  },
  {
   "cell_type": "code",
   "execution_count": 33,
   "metadata": {},
   "outputs": [],
   "source": [
    "import datetime\n",
    "from   dateutil import parser as dp\n",
    "from   dateutil import rrule as rr\n",
    "import dateutil.relativedelta as rd"
   ]
  },
  {
   "cell_type": "code",
   "execution_count": 34,
   "metadata": {},
   "outputs": [],
   "source": [
    "vmin = dp.parse('2019-11-05 09:30:00')\n",
    "#vmax = dp.parse('2019-11-08 15:59:00')\n",
    "vmax = dp.parse('2019-11-05 15:59:00')"
   ]
  },
  {
   "cell_type": "code",
   "execution_count": 35,
   "metadata": {},
   "outputs": [
    {
     "data": {
      "text/plain": [
       "dateutil.relativedelta.relativedelta"
      ]
     },
     "execution_count": 35,
     "metadata": {},
     "output_type": "execute_result"
    },
    {
     "data": {
      "text/plain": [
       "relativedelta(hours=-6, minutes=-29)"
      ]
     },
     "execution_count": 35,
     "metadata": {},
     "output_type": "execute_result"
    }
   ],
   "source": [
    "delta = rd.relativedelta(vmin,vmax)\n",
    "type(delta)\n",
    "delta"
   ]
  },
  {
   "cell_type": "code",
   "execution_count": 36,
   "metadata": {},
   "outputs": [
    {
     "data": {
      "text/plain": [
       "dateutil.rrule.rrule"
      ]
     },
     "execution_count": 36,
     "metadata": {},
     "output_type": "execute_result"
    },
    {
     "data": {
      "text/plain": [
       "datetime.datetime(2019, 11, 5, 9, 30)"
      ]
     },
     "execution_count": 36,
     "metadata": {},
     "output_type": "execute_result"
    },
    {
     "data": {
      "text/plain": [
       "datetime.datetime(2019, 11, 5, 11, 30)"
      ]
     },
     "execution_count": 36,
     "metadata": {},
     "output_type": "execute_result"
    },
    {
     "data": {
      "text/plain": [
       "datetime.datetime(2019, 11, 5, 13, 30)"
      ]
     },
     "execution_count": 36,
     "metadata": {},
     "output_type": "execute_result"
    },
    {
     "data": {
      "text/plain": [
       "datetime.datetime(2019, 11, 5, 15, 30)"
      ]
     },
     "execution_count": 36,
     "metadata": {},
     "output_type": "execute_result"
    }
   ],
   "source": [
    "r = rr.rrule(freq=rr.MINUTELY,dtstart=vmin,until=vmax,interval=120)\n",
    "\n",
    "type(r)\n",
    "\n",
    "ri = r.__iter__()\n",
    "\n",
    "ri.__next__()\n",
    "ri.__next__()\n",
    "ri.__next__()\n",
    "ri.__next__()\n",
    "#ri.__next__()"
   ]
  },
  {
   "cell_type": "code",
   "execution_count": null,
   "metadata": {},
   "outputs": [],
   "source": []
  },
  {
   "cell_type": "code",
   "execution_count": null,
   "metadata": {},
   "outputs": [],
   "source": []
  },
  {
   "cell_type": "code",
   "execution_count": 37,
   "metadata": {},
   "outputs": [
    {
     "data": {
      "text/plain": [
       "[datetime.datetime(2019, 11, 5, 9, 30),\n",
       " datetime.datetime(2019, 11, 5, 11, 30),\n",
       " datetime.datetime(2019, 11, 5, 13, 30),\n",
       " datetime.datetime(2019, 11, 5, 15, 30)]"
      ]
     },
     "execution_count": 37,
     "metadata": {},
     "output_type": "execute_result"
    }
   ],
   "source": [
    "list(rr.rrule(freq=rr.MINUTELY,dtstart=vmin,until=vmax,interval=120))"
   ]
  },
  {
   "cell_type": "code",
   "execution_count": 38,
   "metadata": {},
   "outputs": [
    {
     "data": {
      "text/plain": [
       "relativedelta(hours=-6, minutes=-29)"
      ]
     },
     "execution_count": 38,
     "metadata": {},
     "output_type": "execute_result"
    },
    {
     "data": {
      "text/plain": [
       "relativedelta(hours=+1, minutes=+5)"
      ]
     },
     "execution_count": 38,
     "metadata": {},
     "output_type": "execute_result"
    },
    {
     "name": "stdout",
     "output_type": "stream",
     "text": [
      "vmin= 2019-11-05 09:30:00  vmax= 2019-11-05 15:59:00\n",
      "vmin= 2019-11-05 08:25:00  vmax= 2019-11-05 17:04:00\n"
     ]
    }
   ],
   "source": [
    "vmin = dp.parse('2019-11-05 09:30:00')\n",
    "vmax = dp.parse('2019-11-05 15:59:00')\n",
    "\n",
    "delta = rd.relativedelta(vmin,vmax)\n",
    "delta\n",
    "delta = - delta / 5.0\n",
    "delta\n",
    "print('vmin=',vmin,' vmax=',vmax)\n",
    "vmin = vmin - delta\n",
    "vmax = vmax + delta\n",
    "print('vmin=',vmin,' vmax=',vmax)"
   ]
  },
  {
   "cell_type": "code",
   "execution_count": 39,
   "metadata": {},
   "outputs": [
    {
     "data": {
      "text/plain": [
       "[datetime.datetime(2019, 11, 5, 8, 25),\n",
       " datetime.datetime(2019, 11, 5, 10, 25),\n",
       " datetime.datetime(2019, 11, 5, 12, 25),\n",
       " datetime.datetime(2019, 11, 5, 14, 25),\n",
       " datetime.datetime(2019, 11, 5, 16, 25)]"
      ]
     },
     "execution_count": 39,
     "metadata": {},
     "output_type": "execute_result"
    }
   ],
   "source": [
    "#list(rr.rrule(freq=rr.MINUTELY,byminute=30,dtstart=vmin,until=vmax,interval=120))\n",
    "list(rr.rrule(freq=rr.MINUTELY,dtstart=vmin,until=vmax,interval=120))"
   ]
  },
  {
   "cell_type": "code",
   "execution_count": 40,
   "metadata": {},
   "outputs": [],
   "source": [
    "import matplotlib.dates as mdates\n",
    "from   dateutil import parser as dp\n",
    "\n",
    "vmin = dp.parse('2021-02-01 09:30')\n",
    "vmax = dp.parse('2021-02-01 16:00')\n",
    "\n",
    "loc = mdates.MinuteLocator(30,interval=1)\n",
    "\n",
    "##  ticks = loc.tick_values(vmin, vmax)\n",
    "##  print('ticks=')\n",
    "##  for dt in mdates.num2date(ticks):\n",
    "##      print(dt)\n",
    "\n",
    "# for interval in (1,3,20):\n",
    "#     print('interval =',interval,' ticks=')\n",
    "#     loc = mdates.MinuteLocator([0,10,20,30,40,50],interval=interval)\n",
    "#     ticks = loc.tick_values(vmin, vmax)\n",
    "#     for dt in mdates.num2date(ticks):\n",
    "#         print(dt)\n",
    "#     print()"
   ]
  },
  {
   "cell_type": "code",
   "execution_count": 41,
   "metadata": {},
   "outputs": [
    {
     "data": {
      "text/plain": [
       "(1563, 5)"
      ]
     },
     "execution_count": 41,
     "metadata": {},
     "output_type": "execute_result"
    },
    {
     "data": {
      "text/html": [
       "<div>\n",
       "<style scoped>\n",
       "    .dataframe tbody tr th:only-of-type {\n",
       "        vertical-align: middle;\n",
       "    }\n",
       "\n",
       "    .dataframe tbody tr th {\n",
       "        vertical-align: top;\n",
       "    }\n",
       "\n",
       "    .dataframe thead th {\n",
       "        text-align: right;\n",
       "    }\n",
       "</style>\n",
       "<table border=\"1\" class=\"dataframe\">\n",
       "  <thead>\n",
       "    <tr style=\"text-align: right;\">\n",
       "      <th></th>\n",
       "      <th>Open</th>\n",
       "      <th>Close</th>\n",
       "      <th>High</th>\n",
       "      <th>Low</th>\n",
       "      <th>Volume</th>\n",
       "    </tr>\n",
       "    <tr>\n",
       "      <th>Date</th>\n",
       "      <th></th>\n",
       "      <th></th>\n",
       "      <th></th>\n",
       "      <th></th>\n",
       "      <th></th>\n",
       "    </tr>\n",
       "  </thead>\n",
       "  <tbody>\n",
       "    <tr>\n",
       "      <th>2019-11-05 09:30:00</th>\n",
       "      <td>3080.80</td>\n",
       "      <td>3080.49</td>\n",
       "      <td>3081.47</td>\n",
       "      <td>3080.30</td>\n",
       "      <td>2209795</td>\n",
       "    </tr>\n",
       "    <tr>\n",
       "      <th>2019-11-05 09:31:00</th>\n",
       "      <td>3080.33</td>\n",
       "      <td>3079.36</td>\n",
       "      <td>3080.33</td>\n",
       "      <td>3079.15</td>\n",
       "      <td>1739410</td>\n",
       "    </tr>\n",
       "    <tr>\n",
       "      <th>2019-11-08 15:58:00</th>\n",
       "      <td>3090.73</td>\n",
       "      <td>3091.04</td>\n",
       "      <td>3091.13</td>\n",
       "      <td>3090.58</td>\n",
       "      <td>1231718</td>\n",
       "    </tr>\n",
       "    <tr>\n",
       "      <th>2019-11-08 15:59:00</th>\n",
       "      <td>3091.16</td>\n",
       "      <td>3092.91</td>\n",
       "      <td>3092.91</td>\n",
       "      <td>3090.96</td>\n",
       "      <td>1023516</td>\n",
       "    </tr>\n",
       "  </tbody>\n",
       "</table>\n",
       "</div>"
      ],
      "text/plain": [
       "                        Open    Close     High      Low   Volume\n",
       "Date                                                            \n",
       "2019-11-05 09:30:00  3080.80  3080.49  3081.47  3080.30  2209795\n",
       "2019-11-05 09:31:00  3080.33  3079.36  3080.33  3079.15  1739410\n",
       "2019-11-08 15:58:00  3090.73  3091.04  3091.13  3090.58  1231718\n",
       "2019-11-08 15:59:00  3091.16  3092.91  3092.91  3090.96  1023516"
      ]
     },
     "execution_count": 41,
     "metadata": {},
     "output_type": "execute_result"
    }
   ],
   "source": [
    "df = pd.read_csv('../data/SP500_NOV2019_IDayRVol.csv',index_col=0,parse_dates=True)\n",
    "df.index.name = 'Date'\n",
    "df.shape\n",
    "df.iloc[[0,1,-2,-1]]"
   ]
  },
  {
   "cell_type": "code",
   "execution_count": 42,
   "metadata": {},
   "outputs": [
    {
     "name": "stdout",
     "output_type": "stream",
     "text": [
      "datalimits[0],datalimits[1] = 2019-11-05 08:00:00 2019-11-05 18:00:00\n",
      "\n",
      "config['xticks']= [18205.33333333 18205.375      18205.41666667 18205.45833333\n",
      " 18205.5        18205.54166667 18205.58333333 18205.625\n",
      " 18205.66666667 18205.70833333 18205.75      ]\n",
      "\n",
      "mdates.num2date(config['xticks'])= ['2019-11-05 08:00:00+00:00', '2019-11-05 09:00:00+00:00', '2019-11-05 10:00:00+00:00', '2019-11-05 11:00:00+00:00', '2019-11-05 12:00:00+00:00', '2019-11-05 13:00:00+00:00', '2019-11-05 14:00:00+00:00', '2019-11-05 15:00:00+00:00', '2019-11-05 16:00:00+00:00', '2019-11-05 17:00:00+00:00', '2019-11-05 18:00:00+00:00']\n",
      "\n",
      "config['xticks']= [18205.33333333 18205.375      18205.41666667 18205.45833333\n",
      " 18205.5        18205.54166667 18205.58333333 18205.625\n",
      " 18205.66666667 18205.70833333 18205.75      ]\n"
     ]
    },
    {
     "data": {
      "image/png": "[encoded data removed]",
      "text/plain": [
       "<Figure size 800x575 with 2 Axes>"
      ]
     },
     "metadata": {},
     "output_type": "display_data"
    }
   ],
   "source": [
    "fig, axes = mpf.plot(df.loc['2019-11-05',:],show_nontrading=True,returnfig=True,\n",
    "                     xticks_version=1,xlim=('2019-11-05 08:00','2019-11-05 18:00'))"
   ]
  },
  {
   "cell_type": "code",
   "execution_count": 43,
   "metadata": {},
   "outputs": [
    {
     "name": "stderr",
     "output_type": "stream",
     "text": [
      "/home/dino/code/mplfinance/src/mplfinance/_arg_validators.py:35: UserWarning: \n",
      "\n",
      " ================================================================= \n",
      "\n",
      "   WARNING: YOU ARE PLOTTING SO MUCH DATA THAT IT MAY NOT BE\n",
      "            POSSIBLE TO SEE DETAILS (Candles, Ohlc-Bars, Etc.)\n",
      "   For more information see:\n",
      "   - https://github.com/matplotlib/mplfinance/wiki/Plotting-Too-Much-Data\n",
      "   \n",
      "   TO SILENCE THIS WARNING, set `type='line'` in `mpf.plot()`\n",
      "   OR set kwarg `warn_too_much_data=N` where N is an integer \n",
      "   LARGER than the number of data points you want to plot.\n",
      "\n",
      " ================================================================ \n",
      "  warnings.warn('\\n\\n ================================================================= '+\n"
     ]
    },
    {
     "name": "stdout",
     "output_type": "stream",
     "text": [
      "datalimits[0],datalimits[1] = 2019-11-05 08:00:00 2019-11-06 20:00:00\n",
      "\n",
      "config['xticks']= [18205.33333333 18205.5        18205.66666667 18205.83333333\n",
      " 18206.         18206.16666667 18206.33333333 18206.5\n",
      " 18206.66666667 18206.83333333]\n",
      "\n",
      "mdates.num2date(config['xticks'])= ['2019-11-05 08:00:00+00:00', '2019-11-05 12:00:00+00:00', '2019-11-05 16:00:00+00:00', '2019-11-05 20:00:00+00:00', '2019-11-06 00:00:00+00:00', '2019-11-06 04:00:00+00:00', '2019-11-06 08:00:00+00:00', '2019-11-06 12:00:00+00:00', '2019-11-06 16:00:00+00:00', '2019-11-06 20:00:00+00:00']\n",
      "\n",
      "config['xticks']= [-29.853472074493766, 150.0, 390.0, 390.5, 390.5, 390.5, 390.5, 541.0, 781.0, 781.5]\n"
     ]
    },
    {
     "data": {
      "image/png": "[encoded data removed]",
      "text/plain": [
       "<Figure size 800x575 with 2 Axes>"
      ]
     },
     "metadata": {},
     "output_type": "display_data"
    }
   ],
   "source": [
    "fig, axes = mpf.plot(df,show_nontrading=False,returnfig=True,\n",
    "                     xticks_version=1,xlim=('2019-11-05 08:00','2019-11-06 20:00'))"
   ]
  },
  {
   "cell_type": "code",
   "execution_count": 44,
   "metadata": {},
   "outputs": [
    {
     "data": {
      "image/png": "[encoded data removed]",
      "text/plain": [
       "<Figure size 800x575 with 2 Axes>"
      ]
     },
     "execution_count": 44,
     "metadata": {},
     "output_type": "execute_result"
    }
   ],
   "source": [
    "axes[0].xaxis.set_major_locator(mdates.AutoDateLocator())\n",
    "fig"
   ]
  },
  {
   "cell_type": "code",
   "execution_count": 45,
   "metadata": {},
   "outputs": [
    {
     "data": {
      "text/plain": [
       "array([  0.,  90., 181., 273., 365., 455., 546., 638., 730.])"
      ]
     },
     "execution_count": 45,
     "metadata": {},
     "output_type": "execute_result"
    },
    {
     "name": "stdout",
     "output_type": "stream",
     "text": [
      "1970-01-01 00:00:00+00:00\n",
      "1970-04-01 00:00:00+00:00\n",
      "1970-07-01 00:00:00+00:00\n",
      "1970-10-01 00:00:00+00:00\n",
      "1971-01-01 00:00:00+00:00\n",
      "1971-04-01 00:00:00+00:00\n",
      "1971-07-01 00:00:00+00:00\n",
      "1971-10-01 00:00:00+00:00\n",
      "1972-01-01 00:00:00+00:00\n"
     ]
    }
   ],
   "source": [
    "axes[0].get_xticks()\n",
    "for mdt in axes[0].get_xticks():\n",
    "    print(mdates.num2date(mdt))"
   ]
  },
  {
   "cell_type": "code",
   "execution_count": 46,
   "metadata": {},
   "outputs": [],
   "source": [
    "import mplfinance._utils as mpfutils"
   ]
  },
  {
   "cell_type": "code",
   "execution_count": 47,
   "metadata": {},
   "outputs": [
    {
     "name": "stdout",
     "output_type": "stream",
     "text": [
      "-26215769.999765236\n",
      "-26086169.9997664\n",
      "-25955129.99976757\n",
      "-25822649.999768756\n",
      "-25690169.99976994\n",
      "-25560569.999771103\n",
      "-25429529.999772277\n",
      "-25297049.99977346\n",
      "-25164569.99977465\n"
     ]
    }
   ],
   "source": [
    "for mdt in axes[0].get_xticks():\n",
    "    print(mpfutils._date_to_iloc_extrapolate(\n",
    "        df.loc['2019-11-05',:].index.to_series(),\n",
    "        mdates.num2date(mdt).replace(tzinfo=None))\n",
    "         )"
   ]
  },
  {
   "cell_type": "code",
   "execution_count": 48,
   "metadata": {},
   "outputs": [],
   "source": [
    "adl = mdates.AutoDateLocator()"
   ]
  },
  {
   "cell_type": "code",
   "execution_count": 49,
   "metadata": {},
   "outputs": [],
   "source": [
    "dmin = df.loc['2019-11-05',:].index[0]\n",
    "dmax = df.loc['2019-11-05',:].index[-1]"
   ]
  },
  {
   "cell_type": "code",
   "execution_count": 50,
   "metadata": {},
   "outputs": [
    {
     "data": {
      "text/plain": [
       "array([18205.41666667, 18205.45833333, 18205.5       , 18205.54166667,\n",
       "       18205.58333333, 18205.625     , 18205.66666667])"
      ]
     },
     "execution_count": 50,
     "metadata": {},
     "output_type": "execute_result"
    }
   ],
   "source": [
    "adl.tick_values(dmin,dmax)"
   ]
  },
  {
   "cell_type": "code",
   "execution_count": null,
   "metadata": {},
   "outputs": [],
   "source": []
  }
 ],
 "metadata": {
  "kernelspec": {
   "display_name": "Python 3",
   "language": "python",
   "name": "python3"
  },
  "language_info": {
   "codemirror_mode": {
    "name": "ipython",
    "version": 3
   },
   "file_extension": ".py",
   "mimetype": "text/x-python",
   "name": "python",
   "nbconvert_exporter": "python",
   "pygments_lexer": "ipython3",
   "version": "3.8.5"
  }
 },
 "nbformat": 4,
 "nbformat_minor": 2
}
