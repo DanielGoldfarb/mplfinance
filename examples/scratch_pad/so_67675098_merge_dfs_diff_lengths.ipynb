{
 "cells": [
  {
   "cell_type": "markdown",
   "metadata": {},
   "source": [
    "---\n",
    "\n",
    "#  How to merge two dataframes with different lengths and with different data types?\n",
    "\n",
    "\n",
    "---"
   ]
  },
  {
   "cell_type": "code",
   "execution_count": 1,
   "metadata": {},
   "outputs": [],
   "source": [
    "# This allows multiple outputs from a single jupyter notebook cell:\n",
    "from IPython.core.interactiveshell import InteractiveShell\n",
    "InteractiveShell.ast_node_interactivity = \"all\""
   ]
  },
  {
   "cell_type": "code",
   "execution_count": 2,
   "metadata": {},
   "outputs": [],
   "source": [
    "%matplotlib inline\n",
    "import pandas as pd"
   ]
  },
  {
   "cell_type": "code",
   "execution_count": 3,
   "metadata": {},
   "outputs": [
    {
     "data": {
      "text/plain": [
       "'0.12.7a17'"
      ]
     },
     "execution_count": 3,
     "metadata": {},
     "output_type": "execute_result"
    }
   ],
   "source": [
    "import mplfinance as mpf\n",
    "mpf.__version__"
   ]
  },
  {
   "cell_type": "code",
   "execution_count": 4,
   "metadata": {},
   "outputs": [],
   "source": [
    "cols=['people_id',  'people-desc',  'people_code',  'ranking']\n",
    "rows = [[      23455,      'large',        4567,           15],\n",
    "      [67889,      'small',        234,            23],\n",
    "      [88903,      'tiny',         678,            14],\n",
    "      [23379,      'big',          380,            34],\n",
    "      [36888,      'petite',       344,            76],\n",
    "      [23441,      'crazy',        341,            88]]\n",
    "\n"
   ]
  },
  {
   "cell_type": "code",
   "execution_count": 5,
   "metadata": {},
   "outputs": [
    {
     "data": {
      "text/html": [
       "<div>\n",
       "<style scoped>\n",
       "    .dataframe tbody tr th:only-of-type {\n",
       "        vertical-align: middle;\n",
       "    }\n",
       "\n",
       "    .dataframe tbody tr th {\n",
       "        vertical-align: top;\n",
       "    }\n",
       "\n",
       "    .dataframe thead th {\n",
       "        text-align: right;\n",
       "    }\n",
       "</style>\n",
       "<table border=\"1\" class=\"dataframe\">\n",
       "  <thead>\n",
       "    <tr style=\"text-align: right;\">\n",
       "      <th></th>\n",
       "      <th>people_id</th>\n",
       "      <th>people-desc</th>\n",
       "      <th>people_code</th>\n",
       "      <th>ranking</th>\n",
       "    </tr>\n",
       "  </thead>\n",
       "  <tbody>\n",
       "    <tr>\n",
       "      <th>0</th>\n",
       "      <td>23455</td>\n",
       "      <td>large</td>\n",
       "      <td>4567</td>\n",
       "      <td>15</td>\n",
       "    </tr>\n",
       "    <tr>\n",
       "      <th>1</th>\n",
       "      <td>67889</td>\n",
       "      <td>small</td>\n",
       "      <td>234</td>\n",
       "      <td>23</td>\n",
       "    </tr>\n",
       "    <tr>\n",
       "      <th>2</th>\n",
       "      <td>88903</td>\n",
       "      <td>tiny</td>\n",
       "      <td>678</td>\n",
       "      <td>14</td>\n",
       "    </tr>\n",
       "    <tr>\n",
       "      <th>3</th>\n",
       "      <td>23379</td>\n",
       "      <td>big</td>\n",
       "      <td>380</td>\n",
       "      <td>34</td>\n",
       "    </tr>\n",
       "    <tr>\n",
       "      <th>4</th>\n",
       "      <td>36888</td>\n",
       "      <td>petite</td>\n",
       "      <td>344</td>\n",
       "      <td>76</td>\n",
       "    </tr>\n",
       "    <tr>\n",
       "      <th>5</th>\n",
       "      <td>23441</td>\n",
       "      <td>crazy</td>\n",
       "      <td>341</td>\n",
       "      <td>88</td>\n",
       "    </tr>\n",
       "  </tbody>\n",
       "</table>\n",
       "</div>"
      ],
      "text/plain": [
       "   people_id people-desc  people_code  ranking\n",
       "0      23455       large         4567       15\n",
       "1      67889       small          234       23\n",
       "2      88903        tiny          678       14\n",
       "3      23379         big          380       34\n",
       "4      36888      petite          344       76\n",
       "5      23441       crazy          341       88"
      ]
     },
     "execution_count": 5,
     "metadata": {},
     "output_type": "execute_result"
    }
   ],
   "source": [
    "df1 = pd.DataFrame(rows)\n",
    "df1.columns = cols\n",
    "df1"
   ]
  },
  {
   "cell_type": "code",
   "execution_count": 6,
   "metadata": {},
   "outputs": [
    {
     "data": {
      "text/html": [
       "<div>\n",
       "<style scoped>\n",
       "    .dataframe tbody tr th:only-of-type {\n",
       "        vertical-align: middle;\n",
       "    }\n",
       "\n",
       "    .dataframe tbody tr th {\n",
       "        vertical-align: top;\n",
       "    }\n",
       "\n",
       "    .dataframe thead th {\n",
       "        text-align: right;\n",
       "    }\n",
       "</style>\n",
       "<table border=\"1\" class=\"dataframe\">\n",
       "  <thead>\n",
       "    <tr style=\"text-align: right;\">\n",
       "      <th></th>\n",
       "      <th>people-rate</th>\n",
       "      <th>people_workco</th>\n",
       "      <th>people_height</th>\n",
       "      <th>people_id</th>\n",
       "    </tr>\n",
       "  </thead>\n",
       "  <tbody>\n",
       "    <tr>\n",
       "      <th>0</th>\n",
       "      <td>233</td>\n",
       "      <td>5788</td>\n",
       "      <td>1.6</td>\n",
       "      <td>36888</td>\n",
       "    </tr>\n",
       "    <tr>\n",
       "      <th>1</th>\n",
       "      <td>678</td>\n",
       "      <td>7889</td>\n",
       "      <td>1.9</td>\n",
       "      <td>23379</td>\n",
       "    </tr>\n",
       "    <tr>\n",
       "      <th>2</th>\n",
       "      <td>231</td>\n",
       "      <td>3568</td>\n",
       "      <td>1.5</td>\n",
       "      <td>88903</td>\n",
       "    </tr>\n",
       "  </tbody>\n",
       "</table>\n",
       "</div>"
      ],
      "text/plain": [
       "   people-rate  people_workco  people_height  people_id\n",
       "0          233           5788            1.6      36888\n",
       "1          678           7889            1.9      23379\n",
       "2          231           3568            1.5      88903"
      ]
     },
     "execution_count": 6,
     "metadata": {},
     "output_type": "execute_result"
    }
   ],
   "source": [
    "cols = ['people-rate',  'people_workco',   'people_height', 'people_id']\n",
    "rows = [[   233,           5788,             1.6,           36888], \n",
    "   [678,           7889,             1.9,           23379],\n",
    "   [231,           3568,             1.5,           88903]]\n",
    "df2 = pd.DataFrame(rows)\n",
    "df2.columns = cols\n",
    "df2"
   ]
  },
  {
   "cell_type": "code",
   "execution_count": 7,
   "metadata": {},
   "outputs": [
    {
     "data": {
      "text/html": [
       "<div>\n",
       "<style scoped>\n",
       "    .dataframe tbody tr th:only-of-type {\n",
       "        vertical-align: middle;\n",
       "    }\n",
       "\n",
       "    .dataframe tbody tr th {\n",
       "        vertical-align: top;\n",
       "    }\n",
       "\n",
       "    .dataframe thead th {\n",
       "        text-align: right;\n",
       "    }\n",
       "</style>\n",
       "<table border=\"1\" class=\"dataframe\">\n",
       "  <thead>\n",
       "    <tr style=\"text-align: right;\">\n",
       "      <th></th>\n",
       "      <th>people-rate</th>\n",
       "      <th>people_workco</th>\n",
       "      <th>people_height</th>\n",
       "      <th>people_id</th>\n",
       "      <th>people-desc</th>\n",
       "      <th>people_code</th>\n",
       "      <th>ranking</th>\n",
       "    </tr>\n",
       "  </thead>\n",
       "  <tbody>\n",
       "    <tr>\n",
       "      <th>0</th>\n",
       "      <td>233</td>\n",
       "      <td>5788</td>\n",
       "      <td>1.6</td>\n",
       "      <td>36888</td>\n",
       "      <td>petite</td>\n",
       "      <td>344</td>\n",
       "      <td>76</td>\n",
       "    </tr>\n",
       "    <tr>\n",
       "      <th>1</th>\n",
       "      <td>678</td>\n",
       "      <td>7889</td>\n",
       "      <td>1.9</td>\n",
       "      <td>23379</td>\n",
       "      <td>big</td>\n",
       "      <td>380</td>\n",
       "      <td>34</td>\n",
       "    </tr>\n",
       "    <tr>\n",
       "      <th>2</th>\n",
       "      <td>231</td>\n",
       "      <td>3568</td>\n",
       "      <td>1.5</td>\n",
       "      <td>88903</td>\n",
       "      <td>tiny</td>\n",
       "      <td>678</td>\n",
       "      <td>14</td>\n",
       "    </tr>\n",
       "  </tbody>\n",
       "</table>\n",
       "</div>"
      ],
      "text/plain": [
       "   people-rate  people_workco  people_height  people_id people-desc  \\\n",
       "0          233           5788            1.6      36888      petite   \n",
       "1          678           7889            1.9      23379         big   \n",
       "2          231           3568            1.5      88903        tiny   \n",
       "\n",
       "   people_code  ranking  \n",
       "0          344       76  \n",
       "1          380       34  \n",
       "2          678       14  "
      ]
     },
     "execution_count": 7,
     "metadata": {},
     "output_type": "execute_result"
    }
   ],
   "source": [
    "cols = ['people-rate',  'people_workco',    'people_height',  'people_id',  'people-desc',  'people_code',    'ranking']\n",
    "rows = [[ 233,           5788,             1.6,           36888,     'petite',       344,            76],\n",
    "     [678,           7889,             1.9,           23379,     'big',          380,            34],\n",
    "     [231,           3568,            1.5,           88903 ,     'tiny',          678,            14]]\n",
    "df3 = pd.DataFrame(rows)\n",
    "df3.columns = cols\n",
    "df3"
   ]
  },
  {
   "cell_type": "code",
   "execution_count": 8,
   "metadata": {},
   "outputs": [],
   "source": [
    "dfm = df2.merge(df1, on='people_id')"
   ]
  },
  {
   "cell_type": "code",
   "execution_count": 9,
   "metadata": {},
   "outputs": [
    {
     "data": {
      "text/html": [
       "<div>\n",
       "<style scoped>\n",
       "    .dataframe tbody tr th:only-of-type {\n",
       "        vertical-align: middle;\n",
       "    }\n",
       "\n",
       "    .dataframe tbody tr th {\n",
       "        vertical-align: top;\n",
       "    }\n",
       "\n",
       "    .dataframe thead th {\n",
       "        text-align: right;\n",
       "    }\n",
       "</style>\n",
       "<table border=\"1\" class=\"dataframe\">\n",
       "  <thead>\n",
       "    <tr style=\"text-align: right;\">\n",
       "      <th></th>\n",
       "      <th>people-rate</th>\n",
       "      <th>people_workco</th>\n",
       "      <th>people_height</th>\n",
       "      <th>people_id</th>\n",
       "      <th>people-desc</th>\n",
       "      <th>people_code</th>\n",
       "      <th>ranking</th>\n",
       "    </tr>\n",
       "  </thead>\n",
       "  <tbody>\n",
       "    <tr>\n",
       "      <th>0</th>\n",
       "      <td>233</td>\n",
       "      <td>5788</td>\n",
       "      <td>1.6</td>\n",
       "      <td>36888</td>\n",
       "      <td>petite</td>\n",
       "      <td>344</td>\n",
       "      <td>76</td>\n",
       "    </tr>\n",
       "    <tr>\n",
       "      <th>1</th>\n",
       "      <td>678</td>\n",
       "      <td>7889</td>\n",
       "      <td>1.9</td>\n",
       "      <td>23379</td>\n",
       "      <td>big</td>\n",
       "      <td>380</td>\n",
       "      <td>34</td>\n",
       "    </tr>\n",
       "    <tr>\n",
       "      <th>2</th>\n",
       "      <td>231</td>\n",
       "      <td>3568</td>\n",
       "      <td>1.5</td>\n",
       "      <td>88903</td>\n",
       "      <td>tiny</td>\n",
       "      <td>678</td>\n",
       "      <td>14</td>\n",
       "    </tr>\n",
       "  </tbody>\n",
       "</table>\n",
       "</div>"
      ],
      "text/plain": [
       "   people-rate  people_workco  people_height  people_id people-desc  \\\n",
       "0          233           5788            1.6      36888      petite   \n",
       "1          678           7889            1.9      23379         big   \n",
       "2          231           3568            1.5      88903        tiny   \n",
       "\n",
       "   people_code  ranking  \n",
       "0          344       76  \n",
       "1          380       34  \n",
       "2          678       14  "
      ]
     },
     "execution_count": 9,
     "metadata": {},
     "output_type": "execute_result"
    }
   ],
   "source": [
    "dfm"
   ]
  },
  {
   "cell_type": "code",
   "execution_count": 10,
   "metadata": {},
   "outputs": [
    {
     "data": {
      "text/html": [
       "<div>\n",
       "<style scoped>\n",
       "    .dataframe tbody tr th:only-of-type {\n",
       "        vertical-align: middle;\n",
       "    }\n",
       "\n",
       "    .dataframe tbody tr th {\n",
       "        vertical-align: top;\n",
       "    }\n",
       "\n",
       "    .dataframe thead th {\n",
       "        text-align: right;\n",
       "    }\n",
       "</style>\n",
       "<table border=\"1\" class=\"dataframe\">\n",
       "  <thead>\n",
       "    <tr style=\"text-align: right;\">\n",
       "      <th></th>\n",
       "      <th>people-rate</th>\n",
       "      <th>people_workco</th>\n",
       "      <th>people_height</th>\n",
       "      <th>people_id</th>\n",
       "      <th>people-desc</th>\n",
       "      <th>people_code</th>\n",
       "      <th>ranking</th>\n",
       "    </tr>\n",
       "  </thead>\n",
       "  <tbody>\n",
       "    <tr>\n",
       "      <th>0</th>\n",
       "      <td>True</td>\n",
       "      <td>True</td>\n",
       "      <td>True</td>\n",
       "      <td>True</td>\n",
       "      <td>True</td>\n",
       "      <td>True</td>\n",
       "      <td>True</td>\n",
       "    </tr>\n",
       "    <tr>\n",
       "      <th>1</th>\n",
       "      <td>True</td>\n",
       "      <td>True</td>\n",
       "      <td>True</td>\n",
       "      <td>True</td>\n",
       "      <td>True</td>\n",
       "      <td>True</td>\n",
       "      <td>True</td>\n",
       "    </tr>\n",
       "    <tr>\n",
       "      <th>2</th>\n",
       "      <td>True</td>\n",
       "      <td>True</td>\n",
       "      <td>True</td>\n",
       "      <td>True</td>\n",
       "      <td>True</td>\n",
       "      <td>True</td>\n",
       "      <td>True</td>\n",
       "    </tr>\n",
       "  </tbody>\n",
       "</table>\n",
       "</div>"
      ],
      "text/plain": [
       "   people-rate  people_workco  people_height  people_id  people-desc  \\\n",
       "0         True           True           True       True         True   \n",
       "1         True           True           True       True         True   \n",
       "2         True           True           True       True         True   \n",
       "\n",
       "   people_code  ranking  \n",
       "0         True     True  \n",
       "1         True     True  \n",
       "2         True     True  "
      ]
     },
     "execution_count": 10,
     "metadata": {},
     "output_type": "execute_result"
    }
   ],
   "source": [
    "dfm == df3"
   ]
  },
  {
   "cell_type": "code",
   "execution_count": null,
   "metadata": {},
   "outputs": [],
   "source": []
  }
 ],
 "metadata": {
  "kernelspec": {
   "display_name": "Python 3",
   "language": "python",
   "name": "python3"
  },
  "language_info": {
   "codemirror_mode": {
    "name": "ipython",
    "version": 3
   },
   "file_extension": ".py",
   "mimetype": "text/x-python",
   "name": "python",
   "nbconvert_exporter": "python",
   "pygments_lexer": "ipython3",
   "version": "3.8.5"
  }
 },
 "nbformat": 4,
 "nbformat_minor": 2
}
