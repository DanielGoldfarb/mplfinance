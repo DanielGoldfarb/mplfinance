{
 "cells": [
  {
   "cell_type": "markdown",
   "metadata": {},
   "source": [
    "---\n",
    "\n",
    "#  3 Panels?\n",
    "\n",
    "\n",
    "---"
   ]
  },
  {
   "cell_type": "code",
   "execution_count": 1,
   "metadata": {},
   "outputs": [],
   "source": [
    "# This allows multiple outputs from a single jupyter notebook cell:\n",
    "from IPython.core.interactiveshell import InteractiveShell\n",
    "InteractiveShell.ast_node_interactivity = \"all\""
   ]
  },
  {
   "cell_type": "code",
   "execution_count": 11,
   "metadata": {},
   "outputs": [
    {
     "data": {
      "text/plain": [
       "'0.12.7a18'"
      ]
     },
     "execution_count": 11,
     "metadata": {},
     "output_type": "execute_result"
    }
   ],
   "source": [
    "%matplotlib inline\n",
    "import pandas as pd\n",
    "\n",
    "import mplfinance as mpf\n",
    "mpf.__version__"
   ]
  },
  {
   "cell_type": "code",
   "execution_count": 12,
   "metadata": {},
   "outputs": [],
   "source": [
    "ohlcv = pd.DataFrame(\n",
    "    {'Date': [1609459200, 1609545600, 1609632000, 1609718400,\n",
    "              1609804800, 1609891200, 1609977600, 1610064000],\n",
    "     'Open': [11.25, 12.61, 11.93, 10.52, 10.41, 11.66, 11.47, 12.14],\n",
    "     'High': [12.63, 13.2, 11.94, 12.12, 15.02, 11.71, 12.47, 13.01],\n",
    "     'Low': [11.10, 11.68, 9.93, 10.3, 10.31, 11.26, 10.46, 12.13],\n",
    "     'Close': [12.61, 11.93, 10.52, 10.41, 11.66, 11.47, 12.14, 12.96],\n",
    "     'Volume': [108, 102, 105, 116, 164, 145, 132, 117],\n",
    "     'cash': [100.0, 100.295, 100.295, 100.295, 95.685, 95.635, 95.635, 95.635]\n",
    "     })\n",
    "\n",
    "ohlcv.iloc[:, 0] = pd.to_datetime(ohlcv.iloc[:, 0], unit='s')\n",
    "ohlcv = ohlcv.set_index('Date')\n"
   ]
  },
  {
   "cell_type": "code",
   "execution_count": 13,
   "metadata": {},
   "outputs": [
    {
     "data": {
      "text/html": [
       "<div>\n",
       "<style scoped>\n",
       "    .dataframe tbody tr th:only-of-type {\n",
       "        vertical-align: middle;\n",
       "    }\n",
       "\n",
       "    .dataframe tbody tr th {\n",
       "        vertical-align: top;\n",
       "    }\n",
       "\n",
       "    .dataframe thead th {\n",
       "        text-align: right;\n",
       "    }\n",
       "</style>\n",
       "<table border=\"1\" class=\"dataframe\">\n",
       "  <thead>\n",
       "    <tr style=\"text-align: right;\">\n",
       "      <th></th>\n",
       "      <th>Open</th>\n",
       "      <th>High</th>\n",
       "      <th>Low</th>\n",
       "      <th>Close</th>\n",
       "      <th>Volume</th>\n",
       "      <th>cash</th>\n",
       "    </tr>\n",
       "    <tr>\n",
       "      <th>Date</th>\n",
       "      <th></th>\n",
       "      <th></th>\n",
       "      <th></th>\n",
       "      <th></th>\n",
       "      <th></th>\n",
       "      <th></th>\n",
       "    </tr>\n",
       "  </thead>\n",
       "  <tbody>\n",
       "    <tr>\n",
       "      <th>2021-01-01</th>\n",
       "      <td>11.25</td>\n",
       "      <td>12.63</td>\n",
       "      <td>11.10</td>\n",
       "      <td>12.61</td>\n",
       "      <td>108</td>\n",
       "      <td>100.000</td>\n",
       "    </tr>\n",
       "    <tr>\n",
       "      <th>2021-01-02</th>\n",
       "      <td>12.61</td>\n",
       "      <td>13.20</td>\n",
       "      <td>11.68</td>\n",
       "      <td>11.93</td>\n",
       "      <td>102</td>\n",
       "      <td>100.295</td>\n",
       "    </tr>\n",
       "    <tr>\n",
       "      <th>2021-01-03</th>\n",
       "      <td>11.93</td>\n",
       "      <td>11.94</td>\n",
       "      <td>9.93</td>\n",
       "      <td>10.52</td>\n",
       "      <td>105</td>\n",
       "      <td>100.295</td>\n",
       "    </tr>\n",
       "    <tr>\n",
       "      <th>2021-01-04</th>\n",
       "      <td>10.52</td>\n",
       "      <td>12.12</td>\n",
       "      <td>10.30</td>\n",
       "      <td>10.41</td>\n",
       "      <td>116</td>\n",
       "      <td>100.295</td>\n",
       "    </tr>\n",
       "    <tr>\n",
       "      <th>2021-01-05</th>\n",
       "      <td>10.41</td>\n",
       "      <td>15.02</td>\n",
       "      <td>10.31</td>\n",
       "      <td>11.66</td>\n",
       "      <td>164</td>\n",
       "      <td>95.685</td>\n",
       "    </tr>\n",
       "    <tr>\n",
       "      <th>2021-01-06</th>\n",
       "      <td>11.66</td>\n",
       "      <td>11.71</td>\n",
       "      <td>11.26</td>\n",
       "      <td>11.47</td>\n",
       "      <td>145</td>\n",
       "      <td>95.635</td>\n",
       "    </tr>\n",
       "    <tr>\n",
       "      <th>2021-01-07</th>\n",
       "      <td>11.47</td>\n",
       "      <td>12.47</td>\n",
       "      <td>10.46</td>\n",
       "      <td>12.14</td>\n",
       "      <td>132</td>\n",
       "      <td>95.635</td>\n",
       "    </tr>\n",
       "    <tr>\n",
       "      <th>2021-01-08</th>\n",
       "      <td>12.14</td>\n",
       "      <td>13.01</td>\n",
       "      <td>12.13</td>\n",
       "      <td>12.96</td>\n",
       "      <td>117</td>\n",
       "      <td>95.635</td>\n",
       "    </tr>\n",
       "  </tbody>\n",
       "</table>\n",
       "</div>"
      ],
      "text/plain": [
       "             Open   High    Low  Close  Volume     cash\n",
       "Date                                                   \n",
       "2021-01-01  11.25  12.63  11.10  12.61     108  100.000\n",
       "2021-01-02  12.61  13.20  11.68  11.93     102  100.295\n",
       "2021-01-03  11.93  11.94   9.93  10.52     105  100.295\n",
       "2021-01-04  10.52  12.12  10.30  10.41     116  100.295\n",
       "2021-01-05  10.41  15.02  10.31  11.66     164   95.685\n",
       "2021-01-06  11.66  11.71  11.26  11.47     145   95.635\n",
       "2021-01-07  11.47  12.47  10.46  12.14     132   95.635\n",
       "2021-01-08  12.14  13.01  12.13  12.96     117   95.635"
      ]
     },
     "execution_count": 13,
     "metadata": {},
     "output_type": "execute_result"
    }
   ],
   "source": [
    "ohlcv"
   ]
  },
  {
   "cell_type": "code",
   "execution_count": 20,
   "metadata": {},
   "outputs": [
    {
     "data": {
      "image/png": "[encoded data removed]",
      "text/plain": [
       "<Figure size 700x700 with 6 Axes>"
      ]
     },
     "metadata": {},
     "output_type": "display_data"
    }
   ],
   "source": [
    "ap = mpf.make_addplot(ohlcv['cash'],panel=0,ylabel='Cash')\n",
    "mpf.plot(ohlcv,type='candle',volume=True,main_panel=1,volume_panel=2,addplot=ap,figsize=(7,7))"
   ]
  },
  {
   "cell_type": "code",
   "execution_count": null,
   "metadata": {},
   "outputs": [],
   "source": []
  }
 ],
 "metadata": {
  "kernelspec": {
   "display_name": "Python 3",
   "language": "python",
   "name": "python3"
  },
  "language_info": {
   "codemirror_mode": {
    "name": "ipython",
    "version": 3
   },
   "file_extension": ".py",
   "mimetype": "text/x-python",
   "name": "python",
   "nbconvert_exporter": "python",
   "pygments_lexer": "ipython3",
   "version": "3.8.5"
  }
 },
 "nbformat": 4,
 "nbformat_minor": 2
}
