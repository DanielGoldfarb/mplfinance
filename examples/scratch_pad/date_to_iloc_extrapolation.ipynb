{
 "cells": [
  {
   "cell_type": "markdown",
   "metadata": {},
   "source": [
    "---\n",
    "\n",
    "#  Date to iLOC Extrapolation\n",
    "\n",
    "---"
   ]
  },
  {
   "cell_type": "code",
   "execution_count": 1,
   "metadata": {},
   "outputs": [],
   "source": [
    "# This allows multiple outputs from a single jupyter notebook cell:\n",
    "from IPython.core.interactiveshell import InteractiveShell\n",
    "InteractiveShell.ast_node_interactivity = \"all\""
   ]
  },
  {
   "cell_type": "code",
   "execution_count": 2,
   "metadata": {},
   "outputs": [],
   "source": [
    "%matplotlib inline\n",
    "import pandas     as pd\n",
    "import mplfinance as mpf\n",
    "import datetime   as datetime\n",
    "import numpy      as np\n",
    "import matplotlib.dates as mdates\n",
    "import matplotlib.pyplot as plt"
   ]
  },
  {
   "cell_type": "code",
   "execution_count": 3,
   "metadata": {},
   "outputs": [],
   "source": [
    "def date_to_mdate(date):\n",
    "    \"\"\"Convert a `date` to a matplotlib date:\n",
    "    \n",
    "    Input: `date` may be any of:\n",
    "        (1) parseble string containing a date or datetime as a string,\n",
    "        (2) python `datetime.date` or `datetime.datetime`,object\n",
    "        (3) pandas.Timestamp object\n",
    "    \n",
    "    Returns a Matplotlib Date: floating point number of days from 01-Jan-0001, plus one day.\n",
    "    \"\"\"\n",
    "    if isinstance(date,str):\n",
    "        pydt = pd.to_datetime(date).to_pydatetime()\n",
    "    elif isinstance(date,pd.Timestamp):\n",
    "        pydt = date.to_pydatetime()\n",
    "    elif isinstance(date,(datetime.datetime,datetime.date)):\n",
    "        pydt = date\n",
    "    else:\n",
    "        return None\n",
    "    return mdates.date2num(pydt)"
   ]
  },
  {
   "cell_type": "code",
   "execution_count": 4,
   "metadata": {},
   "outputs": [],
   "source": [
    "def date_to_iloc(dtseries,date):\n",
    "    d1s = dtseries.loc[date:]\n",
    "    if len(d1s) < 1:\n",
    "        sdtrange = str(dtseries[0])+' to '+str(dtseries[-1])\n",
    "        raise ValueError('User specified line date \"'+str(date)+\n",
    "                         '\" is beyond (greater than) range of plotted data ('+sdtrange+').')\n",
    "    d1 = d1s.index[0]\n",
    "    d2s = dtseries.loc[:date]\n",
    "    if len(d2s) < 1:\n",
    "        sdtrange = str(dtseries[0])+' to '+str(dtseries[-1])\n",
    "        raise ValueError('User specified line date \"'+str(date)+\n",
    "                         '\" is before (less than) range of plotted data ('+sdtrange+').')\n",
    "    d2 = dtseries.loc[:date].index[-1]\n",
    "    # If there are duplicate dates in the series, for example in a renko plot\n",
    "    # then .get_loc(date) will return a slice containing all the dups, so:\n",
    "    loc1 = dtseries.index.get_loc(d1)\n",
    "    if isinstance(loc1,slice): loc1 = loc1.start\n",
    "    loc2 = dtseries.index.get_loc(d2)\n",
    "    if isinstance(loc2,slice): loc2 = loc2.stop - 1\n",
    "    return (loc1+loc2)/2.0"
   ]
  },
  {
   "cell_type": "code",
   "execution_count": 5,
   "metadata": {},
   "outputs": [],
   "source": [
    "def date_to_iloc_linear(dtseries,date,trace=True):\n",
    "    d1 = date_to_mdate(dtseries.index[0])\n",
    "    d2 = date_to_mdate(dtseries.index[-1])\n",
    "\n",
    "    if trace: print('d1,d2=',d1,d2)\n",
    "    i1 = 0.0\n",
    "    i2 = len(dtseries) - 1.0\n",
    "    if trace: print('i1,i2=',i1,i2)\n",
    "    \n",
    "    slope   = (i2 - i1) / (d2 - d1)\n",
    "    yitrcpt = i1 - (slope*d1)\n",
    "    if trace: print('slope,yitrcpt=',slope,yitrcpt)\n",
    "    yitrcpt = i2 - (slope*d2)\n",
    "    if trace: print('slope,yitrcpt=',slope,yitrcpt)\n",
    "    return (slope,yitrcpt)\n",
    "    \n",
    "    \n",
    "#     d2s = dtseries.loc[:date]\n",
    "#     if len(d2s) < 1:\n",
    "#         sdtrange = str(dtseries[0])+' to '+str(dtseries[-1])\n",
    "#         raise ValueError('User specified line date \"'+str(date)+\n",
    "#                          '\" is before (less than) range of plotted data ('+sdtrange+').')\n",
    "#     d2 = dtseries.loc[:date].index[-1]\n",
    "#     # If there are duplicate dates in the series, for example in a renko plot\n",
    "#     # then .get_loc(date) will return a slice containing all the dups, so:\n",
    "#     loc1 = dtseries.index.get_loc(d1)\n",
    "#     if isinstance(loc1,slice): loc1 = loc1.start\n",
    "#     loc2 = dtseries.index.get_loc(d2)\n",
    "#     if isinstance(loc2,slice): loc2 = loc2.stop - 1\n",
    "#     return (loc1+loc2)/2.0"
   ]
  },
  {
   "cell_type": "code",
   "execution_count": 6,
   "metadata": {},
   "outputs": [],
   "source": [
    "def date_to_iloc_interpolate(dtindex,date,trace=True):\n",
    "    dtseries = dtindex.to_series()\n",
    "    d1s = dtseries.loc[date:]\n",
    "    if len(d1s) < 1:\n",
    "        sdtrange = str(dtseries[0])+' to '+str(dtseries[-1])\n",
    "        raise ValueError('Specified date \"'+str(date)+'\" is beyond '+\n",
    "                         '(greater than) range of datetime index ('+sdtrange+').')\n",
    "    d1 = d1s.index[0]\n",
    "    d2s = dtseries.loc[:date]\n",
    "    if len(d2s) < 1:\n",
    "        sdtrange = str(dtseries[0])+' to '+str(dtseries[-1])\n",
    "        raise ValueError('Specified date \"'+str(date)+'\" is before '+\n",
    "                         '(less than) range of datetime index ('+sdtrange+').')\n",
    "    d2 = dtseries.loc[:date].index[-1]\n",
    "    # If there are duplicate dates in the series, for example in a renko plot\n",
    "    # then .get_loc(date) will return a slice containing all the dups, so:\n",
    "    loc1 = dtseries.index.get_loc(d1)\n",
    "    if isinstance(loc1,slice): loc1 = loc1.start\n",
    "    loc2 = dtseries.index.get_loc(d2)\n",
    "    if isinstance(loc2,slice): loc2 = loc2.stop - 1\n",
    "        \n",
    "    if loc1 == loc2:\n",
    "        return float(loc1)\n",
    "\n",
    "    # convert to matplotlib dates:\n",
    "    mpd1 = date_to_mdate(d1)\n",
    "    mpd2 = date_to_mdate(d2)\n",
    "    mpd  = date_to_mdate(date)\n",
    "    if trace: print('mpd1,mpd2,mpd=',mpd1,mpd2,mpd)\n",
    "        \n",
    "    slope = (loc2 - loc1) / (mpd2 - mpd1)\n",
    "    \n",
    "    yitrcpt = loc1 - (slope*mpd1)\n",
    "    \n",
    "    x = (slope)*mpd + yitrcpt\n",
    "    return x"
   ]
  },
  {
   "cell_type": "code",
   "execution_count": 7,
   "metadata": {},
   "outputs": [
    {
     "data": {
      "text/plain": [
       "2021-05-07 09:30:00   2021-05-07 09:30:00\n",
       "2021-05-07 09:45:00   2021-05-07 09:45:00\n",
       "2021-05-07 10:00:00   2021-05-07 10:00:00\n",
       "2021-05-07 15:30:00   2021-05-07 15:30:00\n",
       "2021-05-07 15:45:00   2021-05-07 15:45:00\n",
       "2021-05-07 16:00:00   2021-05-07 16:00:00\n",
       "dtype: datetime64[ns]"
      ]
     },
     "execution_count": 7,
     "metadata": {},
     "output_type": "execute_result"
    },
    {
     "data": {
      "text/plain": [
       "27"
      ]
     },
     "execution_count": 7,
     "metadata": {},
     "output_type": "execute_result"
    }
   ],
   "source": [
    "ix = pd.date_range('5/7/2021 09:30','5/7/2021 16:00',freq='15T')\n",
    "ix.to_series().iloc[[0,1,2,-3,-2,-1]]\n",
    "len(ix)"
   ]
  },
  {
   "cell_type": "code",
   "execution_count": 9,
   "metadata": {},
   "outputs": [
    {
     "name": "stdout",
     "output_type": "stream",
     "text": [
      "mpd1,mpd2,mpd= 18754.40625 18754.395833333332 18754.405555555557\n",
      "date= 2021-05-07 09:44  avg method= 0.5  interpolate method= 0.933333333581686 \n",
      "\n",
      "date= 2021-05-07 09:45  avg method= 1.0  interpolate method= 1.0 \n",
      "\n",
      "mpd1,mpd2,mpd= 18754.416666666668 18754.40625 18754.406944444443\n",
      "date= 2021-05-07 09:46  avg method= 1.5  interpolate method= 1.0666666666511446 \n",
      "\n",
      "mpd1,mpd2,mpd= 18754.416666666668 18754.40625 18754.409722222223\n",
      "date= 2021-05-07 09:50  avg method= 1.5  interpolate method= 1.3333333334885538 \n",
      "\n",
      "mpd1,mpd2,mpd= 18754.416666666668 18754.40625 18754.413194444445\n",
      "date= 2021-05-07 09:55  avg method= 1.5  interpolate method= 1.6666666667442769 \n",
      "\n"
     ]
    }
   ],
   "source": [
    "checkdates = ['2021-05-07 09:44','2021-05-07 09:45','2021-05-07 09:46','2021-05-07 09:50','2021-05-07 09:55']\n",
    "for date in checkdates:\n",
    "    avg = date_to_iloc(ix.to_series(),date)\n",
    "    itp = date_to_iloc_interpolate(ix,date)\n",
    "    print('date=',date,' avg method=',avg,' interpolate method=',itp,'\\n')"
   ]
  },
  {
   "cell_type": "code",
   "execution_count": null,
   "metadata": {},
   "outputs": [],
   "source": []
  },
  {
   "cell_type": "code",
   "execution_count": null,
   "metadata": {},
   "outputs": [],
   "source": []
  },
  {
   "cell_type": "code",
   "execution_count": null,
   "metadata": {},
   "outputs": [],
   "source": []
  },
  {
   "cell_type": "code",
   "execution_count": null,
   "metadata": {},
   "outputs": [],
   "source": []
  },
  {
   "cell_type": "code",
   "execution_count": null,
   "metadata": {},
   "outputs": [],
   "source": [
    "stop"
   ]
  },
  {
   "cell_type": "code",
   "execution_count": null,
   "metadata": {},
   "outputs": [],
   "source": []
  },
  {
   "cell_type": "code",
   "execution_count": null,
   "metadata": {},
   "outputs": [],
   "source": [
    "# Read in daily data for the S&P 500 from November of 2019: \n",
    "#daily = pd.read_csv('../data/SP500_NOV2019_Hist.csv',index_col=0,parse_dates=True)\n",
    "#daily = pd.read_csv('../data/yahoofinance-SPY-20200901-20210113.csv',index_col=0,parse_dates=True)\n",
    "daily = pd.read_csv('../data/yahoofinance-SPY-20080101-20180101.csv',index_col=0,parse_dates=True)\n",
    "daily.index.name = 'Date'\n",
    "daily.shape\n",
    "daily.iloc[[0,-1]]\n",
    "daily = daily.loc['2010-1-1':'2012-1-1',:]\n",
    "daily.shape\n",
    "daily.iloc[[0,-1]]"
   ]
  },
  {
   "cell_type": "code",
   "execution_count": null,
   "metadata": {},
   "outputs": [],
   "source": [
    "mpf.plot(daily,xlim=('2009-05-10','2012-12-10'),show_nontrading=True)"
   ]
  },
  {
   "cell_type": "code",
   "execution_count": null,
   "metadata": {},
   "outputs": [],
   "source": [
    "daily.index"
   ]
  },
  {
   "cell_type": "code",
   "execution_count": null,
   "metadata": {},
   "outputs": [],
   "source": [
    "ix = daily.index"
   ]
  },
  {
   "cell_type": "code",
   "execution_count": null,
   "metadata": {},
   "outputs": [],
   "source": [
    "ix[-1] - ix[0]"
   ]
  },
  {
   "cell_type": "code",
   "execution_count": null,
   "metadata": {},
   "outputs": [],
   "source": [
    "date_to_mdate(ix[-1]) - date_to_mdate(ix[0])"
   ]
  },
  {
   "cell_type": "code",
   "execution_count": null,
   "metadata": {},
   "outputs": [],
   "source": [
    "725*(5./7.)"
   ]
  },
  {
   "cell_type": "code",
   "execution_count": null,
   "metadata": {},
   "outputs": [],
   "source": []
  },
  {
   "cell_type": "code",
   "execution_count": null,
   "metadata": {},
   "outputs": [],
   "source": []
  },
  {
   "cell_type": "code",
   "execution_count": null,
   "metadata": {},
   "outputs": [],
   "source": []
  },
  {
   "cell_type": "code",
   "execution_count": null,
   "metadata": {},
   "outputs": [],
   "source": []
  },
  {
   "cell_type": "code",
   "execution_count": null,
   "metadata": {},
   "outputs": [],
   "source": []
  },
  {
   "cell_type": "code",
   "execution_count": null,
   "metadata": {},
   "outputs": [],
   "source": [
    "def generate_yxs(data,d1,d2,trace=True):\n",
    "    #print('trace=',trace)\n",
    "    #cpx = daily['Close']['2010-12-1':'2011-1-31']\n",
    "    slice = data['Close'][d1:d2]\n",
    "    if trace: \n",
    "        print('slice range:\\n',slice.iloc[[0,-1]])\n",
    "        print('\\nlen(data),len(',d1,':',d2,')=',len(data),',',len(slice),'\\n')\n",
    "\n",
    "    m,b = date_to_iloc_linear(slice,0,trace)\n",
    "\n",
    "    x = [x for x in range(len(data))]\n",
    "    y = [y for y in data['Close'].values]\n",
    "\n",
    "    #daily['Close']['2020-11-1':'2020-11-30']\n",
    "    offset = len(data.loc[:slice.index[-1]]) - len(slice)\n",
    "    if trace:\n",
    "        print('offset=',offset)\n",
    "\n",
    "    dates = mdates.date2num(data.index.to_pydatetime())\n",
    "    \n",
    "    x2 = [(m*d + b + offset) for d in dates]\n",
    "\n",
    "    if trace:\n",
    "        print('len(x),len(x2)=',len(x),len(x2))\n",
    "    print('len(slice)=',len(slice),'len(data)=',len(data),'offset=',offset)\n",
    "    return (x,x2,y)"
   ]
  },
  {
   "cell_type": "code",
   "execution_count": null,
   "metadata": {
    "scrolled": true
   },
   "outputs": [],
   "source": [
    "x,x2,y = generate_yxs(daily,'2010-12-1','2011-1-31')"
   ]
  },
  {
   "cell_type": "code",
   "execution_count": null,
   "metadata": {},
   "outputs": [],
   "source": [
    "%%capture\n",
    "fig = plt.figure(figsize=(16,8))\n",
    "ax  = fig.add_subplot()"
   ]
  },
  {
   "cell_type": "code",
   "execution_count": null,
   "metadata": {},
   "outputs": [],
   "source": [
    "# ax.scatter(x,y,s=300,marker='^',c='c')\n",
    "# ax.scatter(x2,y,s=300,marker='v',c='m')\n",
    "# ax.scatter( x,y,s=200,marker='d',c='c')\n",
    "# ax.scatter(x2,y,s=200,marker='d',c='m')\n",
    "\n",
    "ax.scatter( x,y,s=600,marker='_',c='c')\n",
    "ax.scatter(x2,y,s=600,marker='_',c='m')\n",
    "ax.scatter( x,y,s=600,marker=2,c='c')\n",
    "ax.scatter(x2,y,s=600,marker=2,c='m')\n",
    "\n",
    "#ax.scatter( x,yconst,s=1200,marker=2,c='c')\n",
    "#ax.scatter(x2,yconst,s=1200,marker=3,c='m')"
   ]
  },
  {
   "cell_type": "code",
   "execution_count": null,
   "metadata": {},
   "outputs": [],
   "source": [
    "fig"
   ]
  },
  {
   "cell_type": "code",
   "execution_count": null,
   "metadata": {},
   "outputs": [],
   "source": [
    "df = pd.DataFrame([x,x2]).T\n",
    "df.columns = ['x','x2']\n",
    "df['diff'] = df.x - df.x2\n",
    "\n",
    "a = df['diff'] < 1.0 \n",
    "b = df['diff'] > -1.0\n",
    "df['fill'] = [ a and b for a,b in zip(a,b)]\n",
    "\n",
    "print(df.iloc[[0,-1]])"
   ]
  },
  {
   "cell_type": "code",
   "execution_count": null,
   "metadata": {},
   "outputs": [],
   "source": [
    "tdf = df['diff']\n",
    "tdf.plot(figsize=(14,8))\n",
    "#tdf.iloc[150:350].plot(figsize=(14,8))\n",
    "#tdf.iloc[100:400].plot(figsize=(14,8))\n",
    "#tdf.iloc[150:350].plot(figsize=(14,8))\n",
    "#tdf.iloc[200:300].plot(figsize=(14,8))\n",
    "#tdf.iloc[230:270].plot(figsize=(14,8))\n",
    "plt.fill_between(tdf.index,y1=1.0,y2=-1.0,where=df['fill'].values,color='k')"
   ]
  },
  {
   "cell_type": "code",
   "execution_count": null,
   "metadata": {},
   "outputs": [],
   "source": [
    "x,x2,y = generate_yxs(daily,'2010-12-1','2011-1-31',trace=False)\n",
    "df = pd.DataFrame([x,x2]).T\n",
    "df.columns = ['x','x2']\n",
    "df['diff'] = df.x - df.x2\n",
    "a = df['diff'] < 0.5\n",
    "b = df['diff'] > -0.5\n",
    "df['fill'] = [ a and b for a,b in zip(a,b)]\n",
    "#print(df.iloc[[0,-1]])\n",
    "tdf = df['diff']\n",
    "tdf.plot(figsize=(14,8),ylim=(-8,8))\n",
    "plt.fill_between(tdf.index,y1=1.0,y2=-1.0,where=df['fill'].values,color='k')"
   ]
  },
  {
   "cell_type": "code",
   "execution_count": null,
   "metadata": {},
   "outputs": [],
   "source": [
    "x,x2,y = generate_yxs(daily,'2010-11-1','2011-3-1',trace=False)\n",
    "df = pd.DataFrame([x,x2]).T\n",
    "df.columns = ['x','x2']\n",
    "df['diff'] = df.x - df.x2\n",
    "a = df['diff'] < 0.5\n",
    "b = df['diff'] > -0.5\n",
    "df['fill'] = [ a and b for a,b in zip(a,b)]\n",
    "#print(df.iloc[[0,-1]])\n",
    "tdf = df['diff']\n",
    "tdf.plot(figsize=(14,8),ylim=(-8,8))\n",
    "plt.fill_between(tdf.index,y1=1.0,y2=-1.0,where=df['fill'].values,color='k')"
   ]
  },
  {
   "cell_type": "code",
   "execution_count": null,
   "metadata": {},
   "outputs": [],
   "source": [
    "def generate_yxs_FROM_UTILS(data,d1,d2,trace=True,VERS=1):\n",
    "    from mplfinance._utils import _date_to_iloc_extrapolate\n",
    "    #from mplfinance._utils import _date_to_iloc_extrap_v2\n",
    "    #from mplfinance._utils import _date_to_iloc_extrap_v3\n",
    "    #from mplfinance._utils import _date_to_iloc_linear\n",
    "    #print('trace=',trace)\n",
    "    #cpx = daily['Close']['2010-12-1':'2011-1-31']\n",
    "    slice = data['Close'][d1:d2]\n",
    "    if trace: \n",
    "        print('slice range:\\n',slice.iloc[[0,-1]])\n",
    "        print('\\nlen(data),len(',d1,':',d2,')=',len(data),',',len(slice),'\\n')\n",
    "\n",
    "    #m,b = date_to_iloc_linear(slice,0,trace)\n",
    "\n",
    "    x = [x for x in range(len(data))]\n",
    "    y = [y for y in data['Close'].values]\n",
    "\n",
    "    #daily['Close']['2020-11-1':'2020-11-30']\n",
    "    offset = len(data.loc[:slice.index[-1]]) - len(slice)\n",
    "    if trace:\n",
    "        print('offset=',offset)\n",
    "\n",
    "    #dates = mdates.date2num(data.index.to_pydatetime())\n",
    "    \n",
    "    #if VERS == 3:\n",
    "    #    x2 = [(_date_to_iloc_extrap_v3(slice,d) + offset) for d in data.index]\n",
    "    #elif VERS == 2:\n",
    "    #    x2 = [(_date_to_iloc_extrap_v2(slice,d) + offset) for d in data.index]\n",
    "    #else:\n",
    "    #    x2 = [(_date_to_iloc_extrapolate(slice,d) + offset) for d in data.index]\n",
    "    x2 = [(_date_to_iloc_extrapolate(slice,d) + offset) for d in data.index]\n",
    "    \n",
    "    if trace:\n",
    "        print('len(x),len(x2)=',len(x),len(x2))\n",
    "    print('len(slice)=',len(slice),'len(data)=',len(data),'offset=',offset)\n",
    "    return (x,x2,y)\n"
   ]
  },
  {
   "cell_type": "code",
   "execution_count": null,
   "metadata": {},
   "outputs": [],
   "source": [
    "x,x2,y = generate_yxs(daily,'2010-12-1','2011-1-31',trace=False)\n",
    "df = pd.DataFrame([x,x2]).T\n",
    "df.columns = ['x','x2']\n",
    "df['diff'] = df.x - df.x2\n",
    "a = df['diff'] < 0.95\n",
    "b = df['diff'] > -0.95\n",
    "df['fill'] = [ a and b for a,b in zip(a,b)]\n",
    "#print(df.iloc[[0,-1]])\n",
    "tdf = df['diff'].iloc[150:350]\n",
    "whr = df['fill'].iloc[150:350].values\n",
    "tdf.plot(figsize=(9,5),ylim=(-8,8))\n",
    "plt.fill_between(tdf.index,y1=1.0,y2=-1.0,where=whr,color='k')"
   ]
  },
  {
   "cell_type": "code",
   "execution_count": null,
   "metadata": {
    "scrolled": false
   },
   "outputs": [],
   "source": [
    "x,x2,y = generate_yxs_FROM_UTILS(daily,'2010-12-1','2011-1-31',trace=False)\n",
    "df = pd.DataFrame([x,x2]).T\n",
    "df.columns = ['x','x2']\n",
    "df['diff'] = df.x - df.x2\n",
    "a = df['diff'] < 0.95\n",
    "b = df['diff'] > -0.95\n",
    "df['fill'] = [ a and b for a,b in zip(a,b)]\n",
    "#print(df.iloc[[0,-1]])\n",
    "tdf = df['diff'].iloc[150:350]\n",
    "whr = df['fill'].iloc[150:350].values\n",
    "tdf.plot(figsize=(9,5),ylim=(-8,8))\n",
    "plt.fill_between(tdf.index,y1=1.0,y2=-1.0,where=whr,color='k')"
   ]
  },
  {
   "cell_type": "code",
   "execution_count": null,
   "metadata": {},
   "outputs": [],
   "source": [
    "x,x2,y = generate_yxs(daily,'2010-11-1','2011-2-28',trace=False)\n",
    "df = pd.DataFrame([x,x2]).T\n",
    "df.columns = ['x','x2']\n",
    "df['diff'] = df.x - df.x2\n",
    "a = df['diff'] < 0.95\n",
    "b = df['diff'] > -0.95\n",
    "df['fill'] = [ a and b for a,b in zip(a,b)]\n",
    "#print(df.iloc[[0,-1]])\n",
    "tdf = df['diff'].iloc[150:350]\n",
    "whr = df['fill'].iloc[150:350].values\n",
    "tdf.plot(figsize=(9,5),ylim=(-8,8))\n",
    "plt.fill_between(tdf.index,y1=1.0,y2=-1.0,where=whr,color='k')"
   ]
  },
  {
   "cell_type": "code",
   "execution_count": null,
   "metadata": {},
   "outputs": [],
   "source": [
    "x,x2,y = generate_yxs_FROM_UTILS(daily,'2010-11-1','2011-2-28',trace=False)\n",
    "df = pd.DataFrame([x,x2]).T\n",
    "df.columns = ['x','x2']\n",
    "df['diff'] = df.x - df.x2\n",
    "a = df['diff'] < 0.95\n",
    "b = df['diff'] > -0.95\n",
    "df['fill'] = [ a and b for a,b in zip(a,b)]\n",
    "#print(df.iloc[[0,-1]])\n",
    "tdf = df['diff'].iloc[100:400]\n",
    "whr = df['fill'].iloc[100:400].values\n",
    "tdf.plot(figsize=(9,5),ylim=(-8,8))\n",
    "plt.fill_between(tdf.index,y1=1.0,y2=-1.0,where=whr,color='k')"
   ]
  },
  {
   "cell_type": "code",
   "execution_count": null,
   "metadata": {},
   "outputs": [],
   "source": [
    "x,x2,y = generate_yxs_FROM_UTILS(daily,'2010-11-1','2011-2-28',trace=False,VERS=3)\n",
    "df = pd.DataFrame([x,x2]).T\n",
    "df.columns = ['x','x2']\n",
    "df['diff'] = df.x - df.x2\n",
    "a = df['diff'] < 0.95\n",
    "b = df['diff'] > -0.95\n",
    "df['fill'] = [ a and b for a,b in zip(a,b)]\n",
    "#print(df.iloc[[0,-1]])\n",
    "tdf = df['diff'].iloc[100:400]\n",
    "whr = df['fill'].iloc[100:400].values\n",
    "tdf.plot(figsize=(9,5),ylim=(-8,8))\n",
    "plt.fill_between(tdf.index,y1=1.0,y2=-1.0,where=whr,color='k')"
   ]
  },
  {
   "cell_type": "code",
   "execution_count": null,
   "metadata": {},
   "outputs": [],
   "source": [
    "x,x2,y = generate_yxs_FROM_UTILS(daily,'2010-11-1','2011-2-28',trace=False,VERS=3)\n",
    "df = pd.DataFrame([x,x2]).T\n",
    "df.columns = ['x','x2']\n",
    "df['diff'] = df.x - df.x2\n",
    "a = df['diff'] < 0.95\n",
    "b = df['diff'] > -0.95\n",
    "df['fill'] = [ a and b for a,b in zip(a,b)]\n",
    "#print(df.iloc[[0,-1]])\n",
    "tdf = df['diff'].iloc[0:]\n",
    "whr = df['fill'].iloc[0:].values\n",
    "tdf.plot(figsize=(9,5),ylim=(-8,8))\n",
    "plt.fill_between(tdf.index,y1=1.0,y2=-1.0,where=whr,color='k')"
   ]
  },
  {
   "cell_type": "code",
   "execution_count": null,
   "metadata": {},
   "outputs": [],
   "source": [
    "df = pd.read_csv('../data/SP500_NOV2019_IDayRVol.csv',index_col=0,parse_dates=True)\n",
    "df.index.name = 'Date'\n",
    "df.shape\n",
    "df.iloc[[0,-1]]\n",
    "tdf = df.iloc[0:599]\n",
    "tdf.shape\n",
    "tdf.iloc[[0,1,-2,-1]]"
   ]
  },
  {
   "cell_type": "code",
   "execution_count": null,
   "metadata": {},
   "outputs": [],
   "source": [
    "mpf.plot(tdf,xlim=('2019-11-05 10:00','2019-11-07 18:00'),ylim=(3064,3100))"
   ]
  },
  {
   "cell_type": "code",
   "execution_count": null,
   "metadata": {},
   "outputs": [],
   "source": [
    "mpf.plot(df,xlim=('2019-11-05 10:00','2019-11-07 18:00'),warn_too_much_data=2000)"
   ]
  },
  {
   "cell_type": "code",
   "execution_count": null,
   "metadata": {},
   "outputs": [],
   "source": []
  },
  {
   "cell_type": "code",
   "execution_count": null,
   "metadata": {},
   "outputs": [],
   "source": []
  },
  {
   "cell_type": "code",
   "execution_count": null,
   "metadata": {},
   "outputs": [],
   "source": [
    "STOP"
   ]
  },
  {
   "cell_type": "code",
   "execution_count": null,
   "metadata": {},
   "outputs": [],
   "source": []
  },
  {
   "cell_type": "code",
   "execution_count": null,
   "metadata": {},
   "outputs": [],
   "source": []
  },
  {
   "cell_type": "code",
   "execution_count": null,
   "metadata": {},
   "outputs": [],
   "source": []
  },
  {
   "cell_type": "code",
   "execution_count": null,
   "metadata": {},
   "outputs": [],
   "source": []
  },
  {
   "cell_type": "code",
   "execution_count": null,
   "metadata": {},
   "outputs": [],
   "source": [
    "def generate_trend_line(series,date1,date2,price1=None,price2=None,show_nontrading=False,forward_only=False):\n",
    "    \"\"\"Return a trend line given two dates and a time-series.\n",
    "       Input: Pandas series with a pandas.DatetimeIndex, and two dates:\n",
    "              The two dates are used to determine two \"prices\" from the series, \n",
    "              or the prices may optionally be specified as `price1` and `price1`.\n",
    "              `show_nontrading` optionally indicates that time-axis is continuous with respect to time\n",
    "              `forward_only` optionally indicates whether to extrapolate both backwards and forwards, or forward only.\n",
    "            \n",
    "       Output: Trend line as \n",
    "    \"\"\"\n",
    "    if not isinstance(series,pd.Series):\n",
    "        raise TypeError('First argument must be a Pandas.Series')\n",
    "    index = series.index\n",
    "    if not isinstance(index,pd.DatetimeIndex):\n",
    "        raise TypeError('First argument, pandas.Series, MUST HAVE A Pandas.DatetimeIndex')\n",
    "        \n",
    "    p1 = series[date1] if price1 is None else price1\n",
    "    p2 = series[date2] if price2 is None else price2\n",
    "\n",
    "    if show_nontrading:\n",
    "        d1 = date_to_mdate(date1)\n",
    "        d2 = date_to_mdate(date2)\n",
    "    else:\n",
    "        d1 = float(index.get_loc(date1))\n",
    "        d2 = float(index.get_loc(date2))\n",
    "        \n",
    "    slope = (p2-p1)/(d2-d1)\n",
    "    yintercept = ((p1 - slope*d1) + (p2 - slope*d2)) / 2.0\n",
    "\n",
    "    if show_nontrading:\n",
    "        dates = mdates.date2num(index.tz_localize(None).to_pydatetime())\n",
    "    else:\n",
    "        dates = range(0,len(index))\n",
    "        \n",
    "    trend_line = []\n",
    "    for dt in dates:\n",
    "        trend_line.append(slope*dt + yintercept)\n",
    "    if forward_only:\n",
    "        ixd1 = index.get_loc(date1)\n",
    "        for jj in range(0,ixd1):\n",
    "            trend_line[jj] = np.nan\n",
    "\n",
    "    return pd.Series(trend_line,index=index)"
   ]
  }
 ],
 "metadata": {
  "kernelspec": {
   "display_name": "Python 3",
   "language": "python",
   "name": "python3"
  },
  "language_info": {
   "codemirror_mode": {
    "name": "ipython",
    "version": 3
   },
   "file_extension": ".py",
   "mimetype": "text/x-python",
   "name": "python",
   "nbconvert_exporter": "python",
   "pygments_lexer": "ipython3",
   "version": "3.8.5"
  }
 },
 "nbformat": 4,
 "nbformat_minor": 2
}
